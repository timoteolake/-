{
 "cells": [
  {
   "cell_type": "code",
   "execution_count": 14,
   "id": "b04391fc",
   "metadata": {},
   "outputs": [],
   "source": [
    "import numpy as np\n",
    "import pandas as pd\n",
    "import io\n",
    "import statsmodels.formula.api as smf\n",
    "import scipy.stats as stats"
   ]
  },
  {
   "cell_type": "markdown",
   "id": "9130e096",
   "metadata": {},
   "source": [
    "# 1.1 Задача (sleep equation #1)"
   ]
  },
  {
   "cell_type": "code",
   "execution_count": 55,
   "id": "c0e6dc38",
   "metadata": {},
   "outputs": [],
   "source": [
    "date_string = '''Name Estimate Std.Error\n",
    "(Intercept) 3446.830     81.840\n",
    "totwrk        -0.169      0.018\n",
    "age            2.714      1.472\n",
    "south        102.272     41.925\n",
    "male          87.108     35.173\n",
    "smsa         -54.188     33.193\n",
    "yngkid       -13.051     50.459\n",
    "marr          31.360     42.263\n",
    "union         11.866     38.186'''"
   ]
  },
  {
   "cell_type": "code",
   "execution_count": 56,
   "id": "98947c22",
   "metadata": {},
   "outputs": [
    {
     "data": {
      "text/html": [
       "<div>\n",
       "<style scoped>\n",
       "    .dataframe tbody tr th:only-of-type {\n",
       "        vertical-align: middle;\n",
       "    }\n",
       "\n",
       "    .dataframe tbody tr th {\n",
       "        vertical-align: top;\n",
       "    }\n",
       "\n",
       "    .dataframe thead th {\n",
       "        text-align: right;\n",
       "    }\n",
       "</style>\n",
       "<table border=\"1\" class=\"dataframe\">\n",
       "  <thead>\n",
       "    <tr style=\"text-align: right;\">\n",
       "      <th></th>\n",
       "      <th>Name</th>\n",
       "      <th>Estimate</th>\n",
       "      <th>Std.Error</th>\n",
       "    </tr>\n",
       "  </thead>\n",
       "  <tbody>\n",
       "    <tr>\n",
       "      <th>0</th>\n",
       "      <td>(Intercept)</td>\n",
       "      <td>3446.830</td>\n",
       "      <td>81.840</td>\n",
       "    </tr>\n",
       "    <tr>\n",
       "      <th>1</th>\n",
       "      <td>totwrk</td>\n",
       "      <td>-0.169</td>\n",
       "      <td>0.018</td>\n",
       "    </tr>\n",
       "    <tr>\n",
       "      <th>2</th>\n",
       "      <td>age</td>\n",
       "      <td>2.714</td>\n",
       "      <td>1.472</td>\n",
       "    </tr>\n",
       "    <tr>\n",
       "      <th>3</th>\n",
       "      <td>south</td>\n",
       "      <td>102.272</td>\n",
       "      <td>41.925</td>\n",
       "    </tr>\n",
       "    <tr>\n",
       "      <th>4</th>\n",
       "      <td>male</td>\n",
       "      <td>87.108</td>\n",
       "      <td>35.173</td>\n",
       "    </tr>\n",
       "    <tr>\n",
       "      <th>5</th>\n",
       "      <td>smsa</td>\n",
       "      <td>-54.188</td>\n",
       "      <td>33.193</td>\n",
       "    </tr>\n",
       "    <tr>\n",
       "      <th>6</th>\n",
       "      <td>yngkid</td>\n",
       "      <td>-13.051</td>\n",
       "      <td>50.459</td>\n",
       "    </tr>\n",
       "    <tr>\n",
       "      <th>7</th>\n",
       "      <td>marr</td>\n",
       "      <td>31.360</td>\n",
       "      <td>42.263</td>\n",
       "    </tr>\n",
       "    <tr>\n",
       "      <th>8</th>\n",
       "      <td>union</td>\n",
       "      <td>11.866</td>\n",
       "      <td>38.186</td>\n",
       "    </tr>\n",
       "  </tbody>\n",
       "</table>\n",
       "</div>"
      ],
      "text/plain": [
       "          Name  Estimate  Std.Error\n",
       "0  (Intercept)  3446.830     81.840\n",
       "1       totwrk    -0.169      0.018\n",
       "2          age     2.714      1.472\n",
       "3        south   102.272     41.925\n",
       "4         male    87.108     35.173\n",
       "5         smsa   -54.188     33.193\n",
       "6       yngkid   -13.051     50.459\n",
       "7         marr    31.360     42.263\n",
       "8        union    11.866     38.186"
      ]
     },
     "execution_count": 56,
     "metadata": {},
     "output_type": "execute_result"
    }
   ],
   "source": [
    "df = pd.read_csv(io.StringIO(date_string), sep='\\s+')\n",
    "df"
   ]
  },
  {
   "cell_type": "code",
   "execution_count": 57,
   "id": "6d27397c",
   "metadata": {
    "scrolled": true
   },
   "outputs": [
    {
     "data": {
      "text/html": [
       "<div>\n",
       "<style scoped>\n",
       "    .dataframe tbody tr th:only-of-type {\n",
       "        vertical-align: middle;\n",
       "    }\n",
       "\n",
       "    .dataframe tbody tr th {\n",
       "        vertical-align: top;\n",
       "    }\n",
       "\n",
       "    .dataframe thead th {\n",
       "        text-align: right;\n",
       "    }\n",
       "</style>\n",
       "<table border=\"1\" class=\"dataframe\">\n",
       "  <thead>\n",
       "    <tr style=\"text-align: right;\">\n",
       "      <th></th>\n",
       "      <th>Name</th>\n",
       "      <th>Estimate</th>\n",
       "      <th>Std.Error</th>\n",
       "      <th>t_value</th>\n",
       "    </tr>\n",
       "  </thead>\n",
       "  <tbody>\n",
       "    <tr>\n",
       "      <th>0</th>\n",
       "      <td>(Intercept)</td>\n",
       "      <td>3446.830</td>\n",
       "      <td>81.840</td>\n",
       "      <td>42.116691</td>\n",
       "    </tr>\n",
       "    <tr>\n",
       "      <th>1</th>\n",
       "      <td>totwrk</td>\n",
       "      <td>-0.169</td>\n",
       "      <td>0.018</td>\n",
       "      <td>-9.388889</td>\n",
       "    </tr>\n",
       "    <tr>\n",
       "      <th>2</th>\n",
       "      <td>age</td>\n",
       "      <td>2.714</td>\n",
       "      <td>1.472</td>\n",
       "      <td>1.843750</td>\n",
       "    </tr>\n",
       "    <tr>\n",
       "      <th>3</th>\n",
       "      <td>south</td>\n",
       "      <td>102.272</td>\n",
       "      <td>41.925</td>\n",
       "      <td>2.439404</td>\n",
       "    </tr>\n",
       "    <tr>\n",
       "      <th>4</th>\n",
       "      <td>male</td>\n",
       "      <td>87.108</td>\n",
       "      <td>35.173</td>\n",
       "      <td>2.476559</td>\n",
       "    </tr>\n",
       "    <tr>\n",
       "      <th>5</th>\n",
       "      <td>smsa</td>\n",
       "      <td>-54.188</td>\n",
       "      <td>33.193</td>\n",
       "      <td>-1.632513</td>\n",
       "    </tr>\n",
       "    <tr>\n",
       "      <th>6</th>\n",
       "      <td>yngkid</td>\n",
       "      <td>-13.051</td>\n",
       "      <td>50.459</td>\n",
       "      <td>-0.258646</td>\n",
       "    </tr>\n",
       "    <tr>\n",
       "      <th>7</th>\n",
       "      <td>marr</td>\n",
       "      <td>31.360</td>\n",
       "      <td>42.263</td>\n",
       "      <td>0.742020</td>\n",
       "    </tr>\n",
       "    <tr>\n",
       "      <th>8</th>\n",
       "      <td>union</td>\n",
       "      <td>11.866</td>\n",
       "      <td>38.186</td>\n",
       "      <td>0.310742</td>\n",
       "    </tr>\n",
       "  </tbody>\n",
       "</table>\n",
       "</div>"
      ],
      "text/plain": [
       "          Name  Estimate  Std.Error    t_value\n",
       "0  (Intercept)  3446.830     81.840  42.116691\n",
       "1       totwrk    -0.169      0.018  -9.388889\n",
       "2          age     2.714      1.472   1.843750\n",
       "3        south   102.272     41.925   2.439404\n",
       "4         male    87.108     35.173   2.476559\n",
       "5         smsa   -54.188     33.193  -1.632513\n",
       "6       yngkid   -13.051     50.459  -0.258646\n",
       "7         marr    31.360     42.263   0.742020\n",
       "8        union    11.866     38.186   0.310742"
      ]
     },
     "execution_count": 57,
     "metadata": {},
     "output_type": "execute_result"
    }
   ],
   "source": [
    "df['t_value'] = df['Estimate']/df['Std.Error']\n",
    "df"
   ]
  },
  {
   "cell_type": "code",
   "execution_count": 58,
   "id": "5a6e5f25",
   "metadata": {},
   "outputs": [
    {
     "data": {
      "text/plain": [
       "1.9633733475126112"
      ]
     },
     "execution_count": 58,
     "metadata": {},
     "output_type": "execute_result"
    }
   ],
   "source": [
    "alpha = 0.05\n",
    "t_crit = stats.t.ppf(1-alpha/2, 706-9)\n",
    "t_crit"
   ]
  },
  {
   "cell_type": "code",
   "execution_count": 59,
   "id": "3d2d2c88",
   "metadata": {},
   "outputs": [
    {
     "data": {
      "text/html": [
       "<div>\n",
       "<style scoped>\n",
       "    .dataframe tbody tr th:only-of-type {\n",
       "        vertical-align: middle;\n",
       "    }\n",
       "\n",
       "    .dataframe tbody tr th {\n",
       "        vertical-align: top;\n",
       "    }\n",
       "\n",
       "    .dataframe thead th {\n",
       "        text-align: right;\n",
       "    }\n",
       "</style>\n",
       "<table border=\"1\" class=\"dataframe\">\n",
       "  <thead>\n",
       "    <tr style=\"text-align: right;\">\n",
       "      <th></th>\n",
       "      <th>Name</th>\n",
       "      <th>Estimate</th>\n",
       "      <th>Std.Error</th>\n",
       "      <th>t_value</th>\n",
       "      <th>znachimost</th>\n",
       "    </tr>\n",
       "  </thead>\n",
       "  <tbody>\n",
       "    <tr>\n",
       "      <th>0</th>\n",
       "      <td>(Intercept)</td>\n",
       "      <td>3446.830</td>\n",
       "      <td>81.840</td>\n",
       "      <td>42.116691</td>\n",
       "      <td>znachimo</td>\n",
       "    </tr>\n",
       "    <tr>\n",
       "      <th>1</th>\n",
       "      <td>totwrk</td>\n",
       "      <td>-0.169</td>\n",
       "      <td>0.018</td>\n",
       "      <td>-9.388889</td>\n",
       "      <td>znachimo</td>\n",
       "    </tr>\n",
       "    <tr>\n",
       "      <th>2</th>\n",
       "      <td>age</td>\n",
       "      <td>2.714</td>\n",
       "      <td>1.472</td>\n",
       "      <td>1.843750</td>\n",
       "      <td>ne_znachimo</td>\n",
       "    </tr>\n",
       "    <tr>\n",
       "      <th>3</th>\n",
       "      <td>south</td>\n",
       "      <td>102.272</td>\n",
       "      <td>41.925</td>\n",
       "      <td>2.439404</td>\n",
       "      <td>znachimo</td>\n",
       "    </tr>\n",
       "    <tr>\n",
       "      <th>4</th>\n",
       "      <td>male</td>\n",
       "      <td>87.108</td>\n",
       "      <td>35.173</td>\n",
       "      <td>2.476559</td>\n",
       "      <td>znachimo</td>\n",
       "    </tr>\n",
       "    <tr>\n",
       "      <th>5</th>\n",
       "      <td>smsa</td>\n",
       "      <td>-54.188</td>\n",
       "      <td>33.193</td>\n",
       "      <td>-1.632513</td>\n",
       "      <td>ne_znachimo</td>\n",
       "    </tr>\n",
       "    <tr>\n",
       "      <th>6</th>\n",
       "      <td>yngkid</td>\n",
       "      <td>-13.051</td>\n",
       "      <td>50.459</td>\n",
       "      <td>-0.258646</td>\n",
       "      <td>ne_znachimo</td>\n",
       "    </tr>\n",
       "    <tr>\n",
       "      <th>7</th>\n",
       "      <td>marr</td>\n",
       "      <td>31.360</td>\n",
       "      <td>42.263</td>\n",
       "      <td>0.742020</td>\n",
       "      <td>ne_znachimo</td>\n",
       "    </tr>\n",
       "    <tr>\n",
       "      <th>8</th>\n",
       "      <td>union</td>\n",
       "      <td>11.866</td>\n",
       "      <td>38.186</td>\n",
       "      <td>0.310742</td>\n",
       "      <td>ne_znachimo</td>\n",
       "    </tr>\n",
       "  </tbody>\n",
       "</table>\n",
       "</div>"
      ],
      "text/plain": [
       "          Name  Estimate  Std.Error    t_value   znachimost\n",
       "0  (Intercept)  3446.830     81.840  42.116691     znachimo\n",
       "1       totwrk    -0.169      0.018  -9.388889     znachimo\n",
       "2          age     2.714      1.472   1.843750  ne_znachimo\n",
       "3        south   102.272     41.925   2.439404     znachimo\n",
       "4         male    87.108     35.173   2.476559     znachimo\n",
       "5         smsa   -54.188     33.193  -1.632513  ne_znachimo\n",
       "6       yngkid   -13.051     50.459  -0.258646  ne_znachimo\n",
       "7         marr    31.360     42.263   0.742020  ne_znachimo\n",
       "8        union    11.866     38.186   0.310742  ne_znachimo"
      ]
     },
     "execution_count": 59,
     "metadata": {},
     "output_type": "execute_result"
    }
   ],
   "source": [
    "df['znachimost'] = df.apply(lambda x: 'znachimo' if np.abs(x['t_value']) > t_crit else 'ne_znachimo', axis=1 )\n",
    "df"
   ]
  },
  {
   "cell_type": "markdown",
   "id": "6dd2e384",
   "metadata": {},
   "source": [
    "# 1.2 Задача (sleep equation #2, Python)"
   ]
  },
  {
   "cell_type": "code",
   "execution_count": 44,
   "id": "caff0dfc",
   "metadata": {
    "scrolled": true
   },
   "outputs": [
    {
     "data": {
      "text/html": [
       "<div>\n",
       "<style scoped>\n",
       "    .dataframe tbody tr th:only-of-type {\n",
       "        vertical-align: middle;\n",
       "    }\n",
       "\n",
       "    .dataframe tbody tr th {\n",
       "        vertical-align: top;\n",
       "    }\n",
       "\n",
       "    .dataframe thead th {\n",
       "        text-align: right;\n",
       "    }\n",
       "</style>\n",
       "<table border=\"1\" class=\"dataframe\">\n",
       "  <thead>\n",
       "    <tr style=\"text-align: right;\">\n",
       "      <th></th>\n",
       "      <th>Naming</th>\n",
       "      <th>Estimate</th>\n",
       "      <th>Std.Error</th>\n",
       "      <th>t_value</th>\n",
       "      <th>Pr(&gt;|t|)</th>\n",
       "    </tr>\n",
       "  </thead>\n",
       "  <tbody>\n",
       "    <tr>\n",
       "      <th>0</th>\n",
       "      <td>(Intercept)</td>\n",
       "      <td>3431.803558</td>\n",
       "      <td>96.309432</td>\n",
       "      <td>35.6331</td>\n",
       "      <td>&lt;2.2e-16</td>\n",
       "    </tr>\n",
       "    <tr>\n",
       "      <th>1</th>\n",
       "      <td>totwrk</td>\n",
       "      <td>-0.158079</td>\n",
       "      <td>0.020867</td>\n",
       "      <td>-7.5755</td>\n",
       "      <td>1.639e-13</td>\n",
       "    </tr>\n",
       "    <tr>\n",
       "      <th>2</th>\n",
       "      <td>age</td>\n",
       "      <td>2.437082</td>\n",
       "      <td>1.671818</td>\n",
       "      <td>1.4577</td>\n",
       "      <td>0.14551</td>\n",
       "    </tr>\n",
       "    <tr>\n",
       "      <th>3</th>\n",
       "      <td>south</td>\n",
       "      <td>78.046123</td>\n",
       "      <td>45.287154</td>\n",
       "      <td>1.7234</td>\n",
       "      <td>0.08542</td>\n",
       "    </tr>\n",
       "    <tr>\n",
       "      <th>4</th>\n",
       "      <td>male</td>\n",
       "      <td>36.485386</td>\n",
       "      <td>43.350193</td>\n",
       "      <td>0.8416</td>\n",
       "      <td>0.40037</td>\n",
       "    </tr>\n",
       "    <tr>\n",
       "      <th>5</th>\n",
       "      <td>smsa</td>\n",
       "      <td>-34.964643</td>\n",
       "      <td>38.231919</td>\n",
       "      <td>-0.9145</td>\n",
       "      <td>0.36086</td>\n",
       "    </tr>\n",
       "    <tr>\n",
       "      <th>6</th>\n",
       "      <td>yngkid</td>\n",
       "      <td>50.136466</td>\n",
       "      <td>54.789835</td>\n",
       "      <td>0.9151</td>\n",
       "      <td>0.36058</td>\n",
       "    </tr>\n",
       "    <tr>\n",
       "      <th>7</th>\n",
       "      <td>marr</td>\n",
       "      <td>54.071604</td>\n",
       "      <td>46.920123</td>\n",
       "      <td>1.1524</td>\n",
       "      <td>0.24968</td>\n",
       "    </tr>\n",
       "    <tr>\n",
       "      <th>8</th>\n",
       "      <td>union</td>\n",
       "      <td>27.018684</td>\n",
       "      <td>43.044039</td>\n",
       "      <td>0.6277</td>\n",
       "      <td>0.53048</td>\n",
       "    </tr>\n",
       "    <tr>\n",
       "      <th>9</th>\n",
       "      <td>log(hrwage)</td>\n",
       "      <td>-2.726776</td>\n",
       "      <td>32.202444</td>\n",
       "      <td>-0.0847</td>\n",
       "      <td>0.93255</td>\n",
       "    </tr>\n",
       "  </tbody>\n",
       "</table>\n",
       "</div>"
      ],
      "text/plain": [
       "        Naming     Estimate  Std.Error  t_value   Pr(>|t|)\n",
       "0  (Intercept)  3431.803558  96.309432  35.6331   <2.2e-16\n",
       "1       totwrk    -0.158079   0.020867  -7.5755  1.639e-13\n",
       "2          age     2.437082   1.671818   1.4577    0.14551\n",
       "3        south    78.046123  45.287154   1.7234    0.08542\n",
       "4         male    36.485386  43.350193   0.8416    0.40037\n",
       "5         smsa   -34.964643  38.231919  -0.9145    0.36086\n",
       "6       yngkid    50.136466  54.789835   0.9151    0.36058\n",
       "7         marr    54.071604  46.920123   1.1524    0.24968\n",
       "8        union    27.018684  43.044039   0.6277    0.53048\n",
       "9  log(hrwage)    -2.726776  32.202444  -0.0847    0.93255"
      ]
     },
     "execution_count": 44,
     "metadata": {},
     "output_type": "execute_result"
    }
   ],
   "source": [
    "date_string = '''Naming Estimate  Std.Error t_value  Pr(>|t|)    \n",
    "(Intercept) 3431.803558   96.309432 35.6331  <2.2e-16\n",
    "totwrk        -0.158079    0.020867 -7.5755   1.639e-13\n",
    "age            2.437082    1.671818  1.4577   0.14551    \n",
    "south         78.046123   45.287154  1.7234   0.08542 \n",
    "male          36.485386   43.350193  0.8416   0.40037    \n",
    "smsa         -34.964643   38.231919 -0.9145   0.36086    \n",
    "yngkid        50.136466   54.789835  0.9151   0.36058    \n",
    "marr          54.071604   46.920123  1.1524   0.24968    \n",
    "union         27.018684   43.044039  0.6277   0.53048    \n",
    "log(hrwage)   -2.726776   32.202444 -0.0847   0.93255'''\n",
    "df = pd.read_csv(io.StringIO(date_string), sep='\\s+')\n",
    "df"
   ]
  },
  {
   "cell_type": "code",
   "execution_count": 45,
   "id": "d2279daf",
   "metadata": {},
   "outputs": [
    {
     "data": {
      "text/plain": [
       "1.6477723425110435"
      ]
     },
     "execution_count": 45,
     "metadata": {},
     "output_type": "execute_result"
    }
   ],
   "source": [
    "n = 532\n",
    "alpha = 0.1\n",
    "k = 9\n",
    "t_critil = stats.t.ppf(1 - alpha/2, n - k)\n",
    "t_critil"
   ]
  },
  {
   "cell_type": "code",
   "execution_count": 46,
   "id": "e1d6fff6",
   "metadata": {},
   "outputs": [
    {
     "data": {
      "text/html": [
       "<div>\n",
       "<style scoped>\n",
       "    .dataframe tbody tr th:only-of-type {\n",
       "        vertical-align: middle;\n",
       "    }\n",
       "\n",
       "    .dataframe tbody tr th {\n",
       "        vertical-align: top;\n",
       "    }\n",
       "\n",
       "    .dataframe thead th {\n",
       "        text-align: right;\n",
       "    }\n",
       "</style>\n",
       "<table border=\"1\" class=\"dataframe\">\n",
       "  <thead>\n",
       "    <tr style=\"text-align: right;\">\n",
       "      <th></th>\n",
       "      <th>Naming</th>\n",
       "      <th>Estimate</th>\n",
       "      <th>Std.Error</th>\n",
       "      <th>t_value</th>\n",
       "      <th>Pr(&gt;|t|)</th>\n",
       "      <th>znachimost</th>\n",
       "    </tr>\n",
       "  </thead>\n",
       "  <tbody>\n",
       "    <tr>\n",
       "      <th>0</th>\n",
       "      <td>(Intercept)</td>\n",
       "      <td>3431.803558</td>\n",
       "      <td>96.309432</td>\n",
       "      <td>35.6331</td>\n",
       "      <td>&lt;2.2e-16</td>\n",
       "      <td>znachimo</td>\n",
       "    </tr>\n",
       "    <tr>\n",
       "      <th>1</th>\n",
       "      <td>totwrk</td>\n",
       "      <td>-0.158079</td>\n",
       "      <td>0.020867</td>\n",
       "      <td>-7.5755</td>\n",
       "      <td>1.639e-13</td>\n",
       "      <td>znachimo</td>\n",
       "    </tr>\n",
       "    <tr>\n",
       "      <th>2</th>\n",
       "      <td>age</td>\n",
       "      <td>2.437082</td>\n",
       "      <td>1.671818</td>\n",
       "      <td>1.4577</td>\n",
       "      <td>0.14551</td>\n",
       "      <td>ne_znachimo</td>\n",
       "    </tr>\n",
       "    <tr>\n",
       "      <th>3</th>\n",
       "      <td>south</td>\n",
       "      <td>78.046123</td>\n",
       "      <td>45.287154</td>\n",
       "      <td>1.7234</td>\n",
       "      <td>0.08542</td>\n",
       "      <td>znachimo</td>\n",
       "    </tr>\n",
       "    <tr>\n",
       "      <th>4</th>\n",
       "      <td>male</td>\n",
       "      <td>36.485386</td>\n",
       "      <td>43.350193</td>\n",
       "      <td>0.8416</td>\n",
       "      <td>0.40037</td>\n",
       "      <td>ne_znachimo</td>\n",
       "    </tr>\n",
       "    <tr>\n",
       "      <th>5</th>\n",
       "      <td>smsa</td>\n",
       "      <td>-34.964643</td>\n",
       "      <td>38.231919</td>\n",
       "      <td>-0.9145</td>\n",
       "      <td>0.36086</td>\n",
       "      <td>ne_znachimo</td>\n",
       "    </tr>\n",
       "    <tr>\n",
       "      <th>6</th>\n",
       "      <td>yngkid</td>\n",
       "      <td>50.136466</td>\n",
       "      <td>54.789835</td>\n",
       "      <td>0.9151</td>\n",
       "      <td>0.36058</td>\n",
       "      <td>ne_znachimo</td>\n",
       "    </tr>\n",
       "    <tr>\n",
       "      <th>7</th>\n",
       "      <td>marr</td>\n",
       "      <td>54.071604</td>\n",
       "      <td>46.920123</td>\n",
       "      <td>1.1524</td>\n",
       "      <td>0.24968</td>\n",
       "      <td>ne_znachimo</td>\n",
       "    </tr>\n",
       "    <tr>\n",
       "      <th>8</th>\n",
       "      <td>union</td>\n",
       "      <td>27.018684</td>\n",
       "      <td>43.044039</td>\n",
       "      <td>0.6277</td>\n",
       "      <td>0.53048</td>\n",
       "      <td>ne_znachimo</td>\n",
       "    </tr>\n",
       "    <tr>\n",
       "      <th>9</th>\n",
       "      <td>log(hrwage)</td>\n",
       "      <td>-2.726776</td>\n",
       "      <td>32.202444</td>\n",
       "      <td>-0.0847</td>\n",
       "      <td>0.93255</td>\n",
       "      <td>ne_znachimo</td>\n",
       "    </tr>\n",
       "  </tbody>\n",
       "</table>\n",
       "</div>"
      ],
      "text/plain": [
       "        Naming     Estimate  Std.Error  t_value   Pr(>|t|)   znachimost\n",
       "0  (Intercept)  3431.803558  96.309432  35.6331   <2.2e-16     znachimo\n",
       "1       totwrk    -0.158079   0.020867  -7.5755  1.639e-13     znachimo\n",
       "2          age     2.437082   1.671818   1.4577    0.14551  ne_znachimo\n",
       "3        south    78.046123  45.287154   1.7234    0.08542     znachimo\n",
       "4         male    36.485386  43.350193   0.8416    0.40037  ne_znachimo\n",
       "5         smsa   -34.964643  38.231919  -0.9145    0.36086  ne_znachimo\n",
       "6       yngkid    50.136466  54.789835   0.9151    0.36058  ne_znachimo\n",
       "7         marr    54.071604  46.920123   1.1524    0.24968  ne_znachimo\n",
       "8        union    27.018684  43.044039   0.6277    0.53048  ne_znachimo\n",
       "9  log(hrwage)    -2.726776  32.202444  -0.0847    0.93255  ne_znachimo"
      ]
     },
     "execution_count": 46,
     "metadata": {},
     "output_type": "execute_result"
    }
   ],
   "source": [
    "df['znachimost'] = df.apply(lambda x: 'znachimo' if np.abs(x['t_value']) > t_critil else 'ne_znachimo', axis=1 )\n",
    "df"
   ]
  },
  {
   "cell_type": "markdown",
   "id": "1923a79f",
   "metadata": {},
   "source": [
    "# 1.3 Задача (wage equation #1)"
   ]
  },
  {
   "cell_type": "code",
   "execution_count": 48,
   "id": "5bfd49d7",
   "metadata": {},
   "outputs": [
    {
     "data": {
      "text/html": [
       "<div>\n",
       "<style scoped>\n",
       "    .dataframe tbody tr th:only-of-type {\n",
       "        vertical-align: middle;\n",
       "    }\n",
       "\n",
       "    .dataframe tbody tr th {\n",
       "        vertical-align: top;\n",
       "    }\n",
       "\n",
       "    .dataframe thead th {\n",
       "        text-align: right;\n",
       "    }\n",
       "</style>\n",
       "<table border=\"1\" class=\"dataframe\">\n",
       "  <thead>\n",
       "    <tr style=\"text-align: right;\">\n",
       "      <th></th>\n",
       "      <th>Estimate</th>\n",
       "      <th>Std.Error</th>\n",
       "    </tr>\n",
       "  </thead>\n",
       "  <tbody>\n",
       "    <tr>\n",
       "      <th>(Intercept)</th>\n",
       "      <td>4.974</td>\n",
       "      <td>0.165</td>\n",
       "    </tr>\n",
       "    <tr>\n",
       "      <th>age</th>\n",
       "      <td>0.021</td>\n",
       "      <td>0.004</td>\n",
       "    </tr>\n",
       "    <tr>\n",
       "      <th>IQ</th>\n",
       "      <td>0.008</td>\n",
       "      <td>0.001</td>\n",
       "    </tr>\n",
       "    <tr>\n",
       "      <th>married</th>\n",
       "      <td>0.201</td>\n",
       "      <td>0.040</td>\n",
       "    </tr>\n",
       "    <tr>\n",
       "      <th>south</th>\n",
       "      <td>-0.099</td>\n",
       "      <td>0.027</td>\n",
       "    </tr>\n",
       "    <tr>\n",
       "      <th>urban</th>\n",
       "      <td>0.175</td>\n",
       "      <td>0.028</td>\n",
       "    </tr>\n",
       "  </tbody>\n",
       "</table>\n",
       "</div>"
      ],
      "text/plain": [
       "             Estimate  Std.Error\n",
       "(Intercept)     4.974      0.165\n",
       "age             0.021      0.004\n",
       "IQ              0.008      0.001\n",
       "married         0.201      0.040\n",
       "south          -0.099      0.027\n",
       "urban           0.175      0.028"
      ]
     },
     "execution_count": 48,
     "metadata": {},
     "output_type": "execute_result"
    }
   ],
   "source": [
    "date_string = '''Estimate Std.Error\n",
    "(Intercept)    4.974      0.165\n",
    "age            0.021      0.004\n",
    "IQ             0.008      0.001\n",
    "married        0.201      0.040\n",
    "south         -0.099      0.027\n",
    "urban          0.175      0.028'''\n",
    "df = pd.read_csv(io.StringIO(date_string), sep='\\s+')\n",
    "df"
   ]
  },
  {
   "cell_type": "code",
   "execution_count": 50,
   "id": "14269c7b",
   "metadata": {},
   "outputs": [
    {
     "data": {
      "text/html": [
       "<div>\n",
       "<style scoped>\n",
       "    .dataframe tbody tr th:only-of-type {\n",
       "        vertical-align: middle;\n",
       "    }\n",
       "\n",
       "    .dataframe tbody tr th {\n",
       "        vertical-align: top;\n",
       "    }\n",
       "\n",
       "    .dataframe thead th {\n",
       "        text-align: right;\n",
       "    }\n",
       "</style>\n",
       "<table border=\"1\" class=\"dataframe\">\n",
       "  <thead>\n",
       "    <tr style=\"text-align: right;\">\n",
       "      <th></th>\n",
       "      <th>Estimate</th>\n",
       "      <th>Std.Error</th>\n",
       "      <th>t_value</th>\n",
       "    </tr>\n",
       "  </thead>\n",
       "  <tbody>\n",
       "    <tr>\n",
       "      <th>(Intercept)</th>\n",
       "      <td>4.974</td>\n",
       "      <td>0.165</td>\n",
       "      <td>30.145</td>\n",
       "    </tr>\n",
       "    <tr>\n",
       "      <th>age</th>\n",
       "      <td>0.021</td>\n",
       "      <td>0.004</td>\n",
       "      <td>5.250</td>\n",
       "    </tr>\n",
       "    <tr>\n",
       "      <th>IQ</th>\n",
       "      <td>0.008</td>\n",
       "      <td>0.001</td>\n",
       "      <td>8.000</td>\n",
       "    </tr>\n",
       "    <tr>\n",
       "      <th>married</th>\n",
       "      <td>0.201</td>\n",
       "      <td>0.040</td>\n",
       "      <td>5.025</td>\n",
       "    </tr>\n",
       "    <tr>\n",
       "      <th>south</th>\n",
       "      <td>-0.099</td>\n",
       "      <td>0.027</td>\n",
       "      <td>-3.667</td>\n",
       "    </tr>\n",
       "    <tr>\n",
       "      <th>urban</th>\n",
       "      <td>0.175</td>\n",
       "      <td>0.028</td>\n",
       "      <td>6.250</td>\n",
       "    </tr>\n",
       "  </tbody>\n",
       "</table>\n",
       "</div>"
      ],
      "text/plain": [
       "             Estimate  Std.Error  t_value\n",
       "(Intercept)     4.974      0.165   30.145\n",
       "age             0.021      0.004    5.250\n",
       "IQ              0.008      0.001    8.000\n",
       "married         0.201      0.040    5.025\n",
       "south          -0.099      0.027   -3.667\n",
       "urban           0.175      0.028    6.250"
      ]
     },
     "execution_count": 50,
     "metadata": {},
     "output_type": "execute_result"
    }
   ],
   "source": [
    "df['t_value'] = round(df['Estimate']/df['Std.Error'], 3)\n",
    "df"
   ]
  },
  {
   "cell_type": "markdown",
   "id": "53186531",
   "metadata": {},
   "source": [
    "# 1.4 Задача (wage equation #1, Python)"
   ]
  },
  {
   "cell_type": "code",
   "execution_count": 53,
   "id": "b13d5504",
   "metadata": {},
   "outputs": [
    {
     "data": {
      "text/html": [
       "<div>\n",
       "<style scoped>\n",
       "    .dataframe tbody tr th:only-of-type {\n",
       "        vertical-align: middle;\n",
       "    }\n",
       "\n",
       "    .dataframe tbody tr th {\n",
       "        vertical-align: top;\n",
       "    }\n",
       "\n",
       "    .dataframe thead th {\n",
       "        text-align: right;\n",
       "    }\n",
       "</style>\n",
       "<table border=\"1\" class=\"dataframe\">\n",
       "  <thead>\n",
       "    <tr style=\"text-align: right;\">\n",
       "      <th></th>\n",
       "      <th>Estimate</th>\n",
       "      <th>Std.Error</th>\n",
       "      <th>t_value</th>\n",
       "      <th>Pr(&gt;|t|)</th>\n",
       "    </tr>\n",
       "  </thead>\n",
       "  <tbody>\n",
       "    <tr>\n",
       "      <th>(Intercept)</th>\n",
       "      <td>4.974000</td>\n",
       "      <td>0.165445</td>\n",
       "      <td>30.0644</td>\n",
       "      <td>&lt;2.2e-16</td>\n",
       "    </tr>\n",
       "    <tr>\n",
       "      <th>age</th>\n",
       "      <td>0.021253</td>\n",
       "      <td>0.004008</td>\n",
       "      <td>5.3031</td>\n",
       "      <td>1.424e-07</td>\n",
       "    </tr>\n",
       "    <tr>\n",
       "      <th>IQ</th>\n",
       "      <td>0.008201</td>\n",
       "      <td>0.000841</td>\n",
       "      <td>9.7508</td>\n",
       "      <td>&lt;2.2e-16</td>\n",
       "    </tr>\n",
       "    <tr>\n",
       "      <th>married</th>\n",
       "      <td>0.200980</td>\n",
       "      <td>0.040249</td>\n",
       "      <td>4.9935</td>\n",
       "      <td>7.082e-07</td>\n",
       "    </tr>\n",
       "    <tr>\n",
       "      <th>south</th>\n",
       "      <td>-0.098978</td>\n",
       "      <td>0.026825</td>\n",
       "      <td>-3.6897</td>\n",
       "      <td>0.0002375</td>\n",
       "    </tr>\n",
       "    <tr>\n",
       "      <th>urban</th>\n",
       "      <td>0.174981</td>\n",
       "      <td>0.027637</td>\n",
       "      <td>6.3313</td>\n",
       "      <td>3.779e-10</td>\n",
       "    </tr>\n",
       "  </tbody>\n",
       "</table>\n",
       "</div>"
      ],
      "text/plain": [
       "             Estimate  Std.Error  t_value   Pr(>|t|)\n",
       "(Intercept)  4.974000   0.165445  30.0644   <2.2e-16\n",
       "age          0.021253   0.004008   5.3031  1.424e-07\n",
       "IQ           0.008201   0.000841   9.7508   <2.2e-16\n",
       "married      0.200980   0.040249   4.9935  7.082e-07\n",
       "south       -0.098978   0.026825  -3.6897  0.0002375\n",
       "urban        0.174981   0.027637   6.3313  3.779e-10"
      ]
     },
     "execution_count": 53,
     "metadata": {},
     "output_type": "execute_result"
    }
   ],
   "source": [
    "date_string = '''Estimate  Std.Error t_value  Pr(>|t|)    \n",
    "(Intercept)  4.97400041  0.16544459 30.0644 <2.2e-16 \n",
    "age          0.02125292  0.00400766  5.3031 1.424e-07 \n",
    "IQ           0.00820145  0.00084111  9.7508 <2.2e-16 \n",
    "married      0.20097997  0.04024862  4.9935 7.082e-07 \n",
    "south       -0.09897822  0.02682522 -3.6897 0.0002375 \n",
    "urban        0.17498055  0.02763721  6.3313 3.779e-10'''\n",
    "df = pd.read_csv(io.StringIO(date_string), sep='\\s+')\n",
    "df"
   ]
  },
  {
   "cell_type": "code",
   "execution_count": 63,
   "id": "260d04b7",
   "metadata": {},
   "outputs": [
    {
     "data": {
      "text/plain": [
       "2.581"
      ]
     },
     "execution_count": 63,
     "metadata": {},
     "output_type": "execute_result"
    }
   ],
   "source": [
    "n = 935\n",
    "alpha = 0.01\n",
    "k = 5\n",
    "t_critil = stats.t.ppf(1 - alpha/2, n - k)\n",
    "round(t_critil, 3)"
   ]
  },
  {
   "cell_type": "markdown",
   "id": "3f4816a3",
   "metadata": {},
   "source": [
    "# 1.5 Задача (wage equation #2)"
   ]
  },
  {
   "cell_type": "code",
   "execution_count": 64,
   "id": "7d99bcb2",
   "metadata": {},
   "outputs": [
    {
     "data": {
      "text/html": [
       "<div>\n",
       "<style scoped>\n",
       "    .dataframe tbody tr th:only-of-type {\n",
       "        vertical-align: middle;\n",
       "    }\n",
       "\n",
       "    .dataframe tbody tr th {\n",
       "        vertical-align: top;\n",
       "    }\n",
       "\n",
       "    .dataframe thead th {\n",
       "        text-align: right;\n",
       "    }\n",
       "</style>\n",
       "<table border=\"1\" class=\"dataframe\">\n",
       "  <thead>\n",
       "    <tr style=\"text-align: right;\">\n",
       "      <th></th>\n",
       "      <th>Estimate</th>\n",
       "      <th>Std.Error</th>\n",
       "    </tr>\n",
       "  </thead>\n",
       "  <tbody>\n",
       "    <tr>\n",
       "      <th>(Intercept)</th>\n",
       "      <td>1.250</td>\n",
       "      <td>0.061</td>\n",
       "    </tr>\n",
       "    <tr>\n",
       "      <th>exper</th>\n",
       "      <td>0.037</td>\n",
       "      <td>0.006</td>\n",
       "    </tr>\n",
       "    <tr>\n",
       "      <th>I(exper^2)</th>\n",
       "      <td>-0.001</td>\n",
       "      <td>0.000</td>\n",
       "    </tr>\n",
       "    <tr>\n",
       "      <th>female</th>\n",
       "      <td>-0.363</td>\n",
       "      <td>0.040</td>\n",
       "    </tr>\n",
       "    <tr>\n",
       "      <th>married</th>\n",
       "      <td>0.144</td>\n",
       "      <td>0.045</td>\n",
       "    </tr>\n",
       "    <tr>\n",
       "      <th>smsa</th>\n",
       "      <td>0.273</td>\n",
       "      <td>0.044</td>\n",
       "    </tr>\n",
       "  </tbody>\n",
       "</table>\n",
       "</div>"
      ],
      "text/plain": [
       "             Estimate  Std.Error\n",
       "(Intercept)     1.250      0.061\n",
       "exper           0.037      0.006\n",
       "I(exper^2)     -0.001      0.000\n",
       "female         -0.363      0.040\n",
       "married         0.144      0.045\n",
       "smsa            0.273      0.044"
      ]
     },
     "execution_count": 64,
     "metadata": {},
     "output_type": "execute_result"
    }
   ],
   "source": [
    "date_string = '''Estimate Std.Error\n",
    "(Intercept)    1.250      0.061\n",
    "exper          0.037      0.006\n",
    "I(exper^2)    -0.001      0.000\n",
    "female        -0.363      0.040\n",
    "married        0.144      0.045\n",
    "smsa           0.273      0.044'''\n",
    "df = pd.read_csv(io.StringIO(date_string), sep='\\s+')\n",
    "df"
   ]
  },
  {
   "cell_type": "code",
   "execution_count": 65,
   "id": "cb5981ef",
   "metadata": {},
   "outputs": [
    {
     "data": {
      "text/html": [
       "<div>\n",
       "<style scoped>\n",
       "    .dataframe tbody tr th:only-of-type {\n",
       "        vertical-align: middle;\n",
       "    }\n",
       "\n",
       "    .dataframe tbody tr th {\n",
       "        vertical-align: top;\n",
       "    }\n",
       "\n",
       "    .dataframe thead th {\n",
       "        text-align: right;\n",
       "    }\n",
       "</style>\n",
       "<table border=\"1\" class=\"dataframe\">\n",
       "  <thead>\n",
       "    <tr style=\"text-align: right;\">\n",
       "      <th></th>\n",
       "      <th>Estimate</th>\n",
       "      <th>Std.Error</th>\n",
       "      <th>t_value</th>\n",
       "    </tr>\n",
       "  </thead>\n",
       "  <tbody>\n",
       "    <tr>\n",
       "      <th>(Intercept)</th>\n",
       "      <td>1.250</td>\n",
       "      <td>0.061</td>\n",
       "      <td>20.492</td>\n",
       "    </tr>\n",
       "    <tr>\n",
       "      <th>exper</th>\n",
       "      <td>0.037</td>\n",
       "      <td>0.006</td>\n",
       "      <td>6.167</td>\n",
       "    </tr>\n",
       "    <tr>\n",
       "      <th>I(exper^2)</th>\n",
       "      <td>-0.001</td>\n",
       "      <td>0.000</td>\n",
       "      <td>-inf</td>\n",
       "    </tr>\n",
       "    <tr>\n",
       "      <th>female</th>\n",
       "      <td>-0.363</td>\n",
       "      <td>0.040</td>\n",
       "      <td>-9.075</td>\n",
       "    </tr>\n",
       "    <tr>\n",
       "      <th>married</th>\n",
       "      <td>0.144</td>\n",
       "      <td>0.045</td>\n",
       "      <td>3.200</td>\n",
       "    </tr>\n",
       "    <tr>\n",
       "      <th>smsa</th>\n",
       "      <td>0.273</td>\n",
       "      <td>0.044</td>\n",
       "      <td>6.205</td>\n",
       "    </tr>\n",
       "  </tbody>\n",
       "</table>\n",
       "</div>"
      ],
      "text/plain": [
       "             Estimate  Std.Error  t_value\n",
       "(Intercept)     1.250      0.061   20.492\n",
       "exper           0.037      0.006    6.167\n",
       "I(exper^2)     -0.001      0.000     -inf\n",
       "female         -0.363      0.040   -9.075\n",
       "married         0.144      0.045    3.200\n",
       "smsa            0.273      0.044    6.205"
      ]
     },
     "execution_count": 65,
     "metadata": {},
     "output_type": "execute_result"
    }
   ],
   "source": [
    "df['t_value'] = round(df['Estimate']/df['Std.Error'], 3)\n",
    "df"
   ]
  },
  {
   "cell_type": "markdown",
   "id": "e5e444ab",
   "metadata": {},
   "source": [
    "# 1.6 Задача (wage equation #2, Python)"
   ]
  },
  {
   "cell_type": "code",
   "execution_count": 69,
   "id": "7ce6504c",
   "metadata": {},
   "outputs": [
    {
     "data": {
      "text/html": [
       "<div>\n",
       "<style scoped>\n",
       "    .dataframe tbody tr th:only-of-type {\n",
       "        vertical-align: middle;\n",
       "    }\n",
       "\n",
       "    .dataframe tbody tr th {\n",
       "        vertical-align: top;\n",
       "    }\n",
       "\n",
       "    .dataframe thead th {\n",
       "        text-align: right;\n",
       "    }\n",
       "</style>\n",
       "<table border=\"1\" class=\"dataframe\">\n",
       "  <thead>\n",
       "    <tr style=\"text-align: right;\">\n",
       "      <th></th>\n",
       "      <th>Estimate</th>\n",
       "      <th>Std.Error</th>\n",
       "      <th>t_value</th>\n",
       "      <th>Pr(&gt;|t|)</th>\n",
       "    </tr>\n",
       "  </thead>\n",
       "  <tbody>\n",
       "    <tr>\n",
       "      <th>(Intercept)</th>\n",
       "      <td>1.250423</td>\n",
       "      <td>0.061410</td>\n",
       "      <td>20.3620</td>\n",
       "      <td>&lt;2.2e-16</td>\n",
       "    </tr>\n",
       "    <tr>\n",
       "      <th>exper</th>\n",
       "      <td>0.036880</td>\n",
       "      <td>0.005696</td>\n",
       "      <td>6.4741</td>\n",
       "      <td>2.209e-10</td>\n",
       "    </tr>\n",
       "    <tr>\n",
       "      <th>I(exper^2)</th>\n",
       "      <td>-0.000772</td>\n",
       "      <td>0.000122</td>\n",
       "      <td>-6.3280</td>\n",
       "      <td>5.366e-10</td>\n",
       "    </tr>\n",
       "    <tr>\n",
       "      <th>female</th>\n",
       "      <td>-0.362740</td>\n",
       "      <td>0.039744</td>\n",
       "      <td>-9.1269</td>\n",
       "      <td>&lt;2.2e-16</td>\n",
       "    </tr>\n",
       "    <tr>\n",
       "      <th>married</th>\n",
       "      <td>0.143784</td>\n",
       "      <td>0.045491</td>\n",
       "      <td>3.1607</td>\n",
       "      <td>0.001666</td>\n",
       "    </tr>\n",
       "    <tr>\n",
       "      <th>smsa</th>\n",
       "      <td>0.272562</td>\n",
       "      <td>0.044116</td>\n",
       "      <td>6.1784</td>\n",
       "      <td>1.308e-09</td>\n",
       "    </tr>\n",
       "  </tbody>\n",
       "</table>\n",
       "</div>"
      ],
      "text/plain": [
       "             Estimate  Std.Error  t_value   Pr(>|t|)\n",
       "(Intercept)  1.250423   0.061410  20.3620   <2.2e-16\n",
       "exper        0.036880   0.005696   6.4741  2.209e-10\n",
       "I(exper^2)  -0.000772   0.000122  -6.3280  5.366e-10\n",
       "female      -0.362740   0.039744  -9.1269   <2.2e-16\n",
       "married      0.143784   0.045491   3.1607   0.001666\n",
       "smsa         0.272562   0.044116   6.1784  1.308e-09"
      ]
     },
     "execution_count": 69,
     "metadata": {},
     "output_type": "execute_result"
    }
   ],
   "source": [
    "date_string = '''Estimate  Std.Error t_value  Pr(>|t|)    \n",
    "(Intercept)  1.25042289  0.06140967 20.3620 <2.2e-16 \n",
    "exper        0.03687966  0.00569646  6.4741 2.209e-10 \n",
    "I(exper^2)  -0.00077167  0.00012195 -6.3280 5.366e-10 \n",
    "female      -0.36273973  0.03974402 -9.1269 <2.2e-16 \n",
    "married      0.14378405  0.04549137  3.1607  0.001666  \n",
    "smsa         0.27256198  0.04411563  6.1784 1.308e-09'''\n",
    "df = pd.read_csv(io.StringIO(date_string), sep='\\s+')\n",
    "df"
   ]
  },
  {
   "cell_type": "code",
   "execution_count": 70,
   "id": "038f52a6",
   "metadata": {},
   "outputs": [
    {
     "data": {
      "text/plain": [
       "1.965"
      ]
     },
     "execution_count": 70,
     "metadata": {},
     "output_type": "execute_result"
    }
   ],
   "source": [
    "n = 526\n",
    "alpha = 0.05\n",
    "k = 5\n",
    "t_crit = stats.t.ppf(1 - alpha/2, n - k)\n",
    "round(t_crit, 3)"
   ]
  },
  {
   "cell_type": "markdown",
   "id": "55a2d8a8",
   "metadata": {},
   "source": [
    "# 1.7 Задача (cost equation #1)"
   ]
  },
  {
   "cell_type": "code",
   "execution_count": 71,
   "id": "8827565d",
   "metadata": {},
   "outputs": [
    {
     "data": {
      "text/html": [
       "<div>\n",
       "<style scoped>\n",
       "    .dataframe tbody tr th:only-of-type {\n",
       "        vertical-align: middle;\n",
       "    }\n",
       "\n",
       "    .dataframe tbody tr th {\n",
       "        vertical-align: top;\n",
       "    }\n",
       "\n",
       "    .dataframe thead th {\n",
       "        text-align: right;\n",
       "    }\n",
       "</style>\n",
       "<table border=\"1\" class=\"dataframe\">\n",
       "  <thead>\n",
       "    <tr style=\"text-align: right;\">\n",
       "      <th></th>\n",
       "      <th>Estimate</th>\n",
       "      <th>Std.Error</th>\n",
       "    </tr>\n",
       "  </thead>\n",
       "  <tbody>\n",
       "    <tr>\n",
       "      <th>(Intercept)</th>\n",
       "      <td>-7.472</td>\n",
       "      <td>1.063</td>\n",
       "    </tr>\n",
       "    <tr>\n",
       "      <th>log(q)</th>\n",
       "      <td>0.838</td>\n",
       "      <td>0.009</td>\n",
       "    </tr>\n",
       "    <tr>\n",
       "      <th>log(pl)</th>\n",
       "      <td>0.044</td>\n",
       "      <td>0.106</td>\n",
       "    </tr>\n",
       "    <tr>\n",
       "      <th>log(pk)</th>\n",
       "      <td>0.188</td>\n",
       "      <td>0.087</td>\n",
       "    </tr>\n",
       "    <tr>\n",
       "      <th>log(pf)</th>\n",
       "      <td>0.713</td>\n",
       "      <td>0.064</td>\n",
       "    </tr>\n",
       "  </tbody>\n",
       "</table>\n",
       "</div>"
      ],
      "text/plain": [
       "             Estimate  Std.Error\n",
       "(Intercept)    -7.472      1.063\n",
       "log(q)          0.838      0.009\n",
       "log(pl)         0.044      0.106\n",
       "log(pk)         0.188      0.087\n",
       "log(pf)         0.713      0.064"
      ]
     },
     "execution_count": 71,
     "metadata": {},
     "output_type": "execute_result"
    }
   ],
   "source": [
    "date_string = '''Estimate Std.Error\n",
    "(Intercept)   -7.472      1.063\n",
    "log(q)         0.838      0.009\n",
    "log(pl)        0.044      0.106\n",
    "log(pk)        0.188      0.087\n",
    "log(pf)        0.713      0.064'''\n",
    "df = pd.read_csv(io.StringIO(date_string), sep='\\s+')\n",
    "df"
   ]
  },
  {
   "cell_type": "code",
   "execution_count": 72,
   "id": "2cb5a69d",
   "metadata": {},
   "outputs": [
    {
     "data": {
      "text/html": [
       "<div>\n",
       "<style scoped>\n",
       "    .dataframe tbody tr th:only-of-type {\n",
       "        vertical-align: middle;\n",
       "    }\n",
       "\n",
       "    .dataframe tbody tr th {\n",
       "        vertical-align: top;\n",
       "    }\n",
       "\n",
       "    .dataframe thead th {\n",
       "        text-align: right;\n",
       "    }\n",
       "</style>\n",
       "<table border=\"1\" class=\"dataframe\">\n",
       "  <thead>\n",
       "    <tr style=\"text-align: right;\">\n",
       "      <th></th>\n",
       "      <th>Estimate</th>\n",
       "      <th>Std.Error</th>\n",
       "      <th>t_value</th>\n",
       "    </tr>\n",
       "  </thead>\n",
       "  <tbody>\n",
       "    <tr>\n",
       "      <th>(Intercept)</th>\n",
       "      <td>-7.472</td>\n",
       "      <td>1.063</td>\n",
       "      <td>-7.029</td>\n",
       "    </tr>\n",
       "    <tr>\n",
       "      <th>log(q)</th>\n",
       "      <td>0.838</td>\n",
       "      <td>0.009</td>\n",
       "      <td>93.111</td>\n",
       "    </tr>\n",
       "    <tr>\n",
       "      <th>log(pl)</th>\n",
       "      <td>0.044</td>\n",
       "      <td>0.106</td>\n",
       "      <td>0.415</td>\n",
       "    </tr>\n",
       "    <tr>\n",
       "      <th>log(pk)</th>\n",
       "      <td>0.188</td>\n",
       "      <td>0.087</td>\n",
       "      <td>2.161</td>\n",
       "    </tr>\n",
       "    <tr>\n",
       "      <th>log(pf)</th>\n",
       "      <td>0.713</td>\n",
       "      <td>0.064</td>\n",
       "      <td>11.141</td>\n",
       "    </tr>\n",
       "  </tbody>\n",
       "</table>\n",
       "</div>"
      ],
      "text/plain": [
       "             Estimate  Std.Error  t_value\n",
       "(Intercept)    -7.472      1.063   -7.029\n",
       "log(q)          0.838      0.009   93.111\n",
       "log(pl)         0.044      0.106    0.415\n",
       "log(pk)         0.188      0.087    2.161\n",
       "log(pf)         0.713      0.064   11.141"
      ]
     },
     "execution_count": 72,
     "metadata": {},
     "output_type": "execute_result"
    }
   ],
   "source": [
    "df['t_value'] = round(df['Estimate']/df['Std.Error'], 3)\n",
    "df"
   ]
  },
  {
   "cell_type": "markdown",
   "id": "bd124672",
   "metadata": {},
   "source": [
    "# 1.8 Задача (cost equation #2, Python)"
   ]
  },
  {
   "cell_type": "code",
   "execution_count": 73,
   "id": "4010724d",
   "metadata": {},
   "outputs": [
    {
     "data": {
      "text/html": [
       "<div>\n",
       "<style scoped>\n",
       "    .dataframe tbody tr th:only-of-type {\n",
       "        vertical-align: middle;\n",
       "    }\n",
       "\n",
       "    .dataframe tbody tr th {\n",
       "        vertical-align: top;\n",
       "    }\n",
       "\n",
       "    .dataframe thead th {\n",
       "        text-align: right;\n",
       "    }\n",
       "</style>\n",
       "<table border=\"1\" class=\"dataframe\">\n",
       "  <thead>\n",
       "    <tr style=\"text-align: right;\">\n",
       "      <th></th>\n",
       "      <th>Estimate</th>\n",
       "      <th>Std.Error</th>\n",
       "      <th>t_value</th>\n",
       "      <th>Pr(&gt;|t|)</th>\n",
       "    </tr>\n",
       "  </thead>\n",
       "  <tbody>\n",
       "    <tr>\n",
       "      <th>(Intercept)</th>\n",
       "      <td>-7.472227</td>\n",
       "      <td>1.063238</td>\n",
       "      <td>-7.0278</td>\n",
       "      <td>6.491e-11</td>\n",
       "    </tr>\n",
       "    <tr>\n",
       "      <th>log(q)</th>\n",
       "      <td>0.838111</td>\n",
       "      <td>0.009387</td>\n",
       "      <td>89.2845</td>\n",
       "      <td>&lt;2.2e-16</td>\n",
       "    </tr>\n",
       "    <tr>\n",
       "      <th>log(pl)</th>\n",
       "      <td>0.044258</td>\n",
       "      <td>0.105820</td>\n",
       "      <td>0.4182</td>\n",
       "      <td>0.67636</td>\n",
       "    </tr>\n",
       "    <tr>\n",
       "      <th>log(pk)</th>\n",
       "      <td>0.188449</td>\n",
       "      <td>0.087067</td>\n",
       "      <td>2.1644</td>\n",
       "      <td>0.03198</td>\n",
       "    </tr>\n",
       "    <tr>\n",
       "      <th>log(pf)</th>\n",
       "      <td>0.713098</td>\n",
       "      <td>0.064355</td>\n",
       "      <td>11.0806</td>\n",
       "      <td>&lt;2.2e-16</td>\n",
       "    </tr>\n",
       "  </tbody>\n",
       "</table>\n",
       "</div>"
      ],
      "text/plain": [
       "             Estimate  Std.Error  t_value   Pr(>|t|)\n",
       "(Intercept) -7.472227   1.063238  -7.0278  6.491e-11\n",
       "log(q)       0.838111   0.009387  89.2845   <2.2e-16\n",
       "log(pl)      0.044258   0.105820   0.4182    0.67636\n",
       "log(pk)      0.188449   0.087067   2.1644    0.03198\n",
       "log(pf)      0.713098   0.064355  11.0806   <2.2e-16"
      ]
     },
     "execution_count": 73,
     "metadata": {},
     "output_type": "execute_result"
    }
   ],
   "source": [
    "date_string = '''Estimate Std.Error t_value  Pr(>|t|)    \n",
    "(Intercept) -7.472227   1.063238 -7.0278 6.491e-11\n",
    "log(q)       0.838111   0.009387 89.2845 <2.2e-16 \n",
    "log(pl)      0.044258   0.105820  0.4182   0.67636    \n",
    "log(pk)      0.188449   0.087067  2.1644   0.03198  \n",
    "log(pf)      0.713098   0.064355 11.0806 <2.2e-16'''\n",
    "df = pd.read_csv(io.StringIO(date_string), sep='\\s+')\n",
    "df"
   ]
  },
  {
   "cell_type": "code",
   "execution_count": 74,
   "id": "85baaf5f",
   "metadata": {},
   "outputs": [
    {
     "data": {
      "text/plain": [
       "2.608"
      ]
     },
     "execution_count": 74,
     "metadata": {},
     "output_type": "execute_result"
    }
   ],
   "source": [
    "n = 158\n",
    "alpha = 0.01\n",
    "k = 4\n",
    "t_crit = stats.t.ppf(1 - alpha/2, n - k)\n",
    "round(t_crit, 3)"
   ]
  },
  {
   "cell_type": "markdown",
   "id": "d04d0729",
   "metadata": {},
   "source": [
    "# 2.1 Задача (output equation 1)"
   ]
  },
  {
   "cell_type": "code",
   "execution_count": 81,
   "id": "90c2b4a8",
   "metadata": {
    "scrolled": true
   },
   "outputs": [
    {
     "data": {
      "text/html": [
       "<div>\n",
       "<style scoped>\n",
       "    .dataframe tbody tr th:only-of-type {\n",
       "        vertical-align: middle;\n",
       "    }\n",
       "\n",
       "    .dataframe tbody tr th {\n",
       "        vertical-align: top;\n",
       "    }\n",
       "\n",
       "    .dataframe thead th {\n",
       "        text-align: right;\n",
       "    }\n",
       "</style>\n",
       "<table border=\"1\" class=\"dataframe\">\n",
       "  <thead>\n",
       "    <tr style=\"text-align: right;\">\n",
       "      <th></th>\n",
       "      <th>capital</th>\n",
       "      <th>labour</th>\n",
       "      <th>output</th>\n",
       "      <th>wage</th>\n",
       "    </tr>\n",
       "  </thead>\n",
       "  <tbody>\n",
       "    <tr>\n",
       "      <th>0</th>\n",
       "      <td>2.606563</td>\n",
       "      <td>184</td>\n",
       "      <td>9.250759</td>\n",
       "      <td>43.080307</td>\n",
       "    </tr>\n",
       "    <tr>\n",
       "      <th>1</th>\n",
       "      <td>1.323237</td>\n",
       "      <td>91</td>\n",
       "      <td>3.664310</td>\n",
       "      <td>27.780016</td>\n",
       "    </tr>\n",
       "    <tr>\n",
       "      <th>2</th>\n",
       "      <td>22.093692</td>\n",
       "      <td>426</td>\n",
       "      <td>28.781516</td>\n",
       "      <td>44.467748</td>\n",
       "    </tr>\n",
       "    <tr>\n",
       "      <th>3</th>\n",
       "      <td>10.737851</td>\n",
       "      <td>72</td>\n",
       "      <td>4.124642</td>\n",
       "      <td>39.734710</td>\n",
       "    </tr>\n",
       "    <tr>\n",
       "      <th>4</th>\n",
       "      <td>1.161365</td>\n",
       "      <td>46</td>\n",
       "      <td>2.890150</td>\n",
       "      <td>34.650709</td>\n",
       "    </tr>\n",
       "    <tr>\n",
       "      <th>...</th>\n",
       "      <td>...</td>\n",
       "      <td>...</td>\n",
       "      <td>...</td>\n",
       "      <td>...</td>\n",
       "    </tr>\n",
       "    <tr>\n",
       "      <th>564</th>\n",
       "      <td>2.625403</td>\n",
       "      <td>20</td>\n",
       "      <td>1.424376</td>\n",
       "      <td>33.477545</td>\n",
       "    </tr>\n",
       "    <tr>\n",
       "      <th>565</th>\n",
       "      <td>1.276386</td>\n",
       "      <td>61</td>\n",
       "      <td>2.109048</td>\n",
       "      <td>26.300732</td>\n",
       "    </tr>\n",
       "    <tr>\n",
       "      <th>566</th>\n",
       "      <td>1.953869</td>\n",
       "      <td>117</td>\n",
       "      <td>6.241870</td>\n",
       "      <td>41.153979</td>\n",
       "    </tr>\n",
       "    <tr>\n",
       "      <th>567</th>\n",
       "      <td>1.318527</td>\n",
       "      <td>46</td>\n",
       "      <td>7.902237</td>\n",
       "      <td>66.720139</td>\n",
       "    </tr>\n",
       "    <tr>\n",
       "      <th>568</th>\n",
       "      <td>2.832391</td>\n",
       "      <td>161</td>\n",
       "      <td>6.804085</td>\n",
       "      <td>36.618435</td>\n",
       "    </tr>\n",
       "  </tbody>\n",
       "</table>\n",
       "<p>569 rows × 4 columns</p>\n",
       "</div>"
      ],
      "text/plain": [
       "       capital  labour     output       wage\n",
       "0     2.606563     184   9.250759  43.080307\n",
       "1     1.323237      91   3.664310  27.780016\n",
       "2    22.093692     426  28.781516  44.467748\n",
       "3    10.737851      72   4.124642  39.734710\n",
       "4     1.161365      46   2.890150  34.650709\n",
       "..         ...     ...        ...        ...\n",
       "564   2.625403      20   1.424376  33.477545\n",
       "565   1.276386      61   2.109048  26.300732\n",
       "566   1.953869     117   6.241870  41.153979\n",
       "567   1.318527      46   7.902237  66.720139\n",
       "568   2.832391     161   6.804085  36.618435\n",
       "\n",
       "[569 rows x 4 columns]"
      ]
     },
     "execution_count": 81,
     "metadata": {},
     "output_type": "execute_result"
    }
   ],
   "source": [
    "df_lab = pd.read_csv('https://github.com/artamonoff/Econometrica/raw/master/python-notebooks/data-csv/Labour.csv')\n",
    "df_lab"
   ]
  },
  {
   "cell_type": "code",
   "execution_count": 82,
   "id": "59192f68",
   "metadata": {},
   "outputs": [
    {
     "data": {
      "text/html": [
       "<table class=\"simpletable\">\n",
       "<caption>OLS Regression Results</caption>\n",
       "<tr>\n",
       "  <th>Dep. Variable:</th>     <td>np.log(output)</td>  <th>  R-squared:         </th> <td>   0.838</td> \n",
       "</tr>\n",
       "<tr>\n",
       "  <th>Model:</th>                   <td>OLS</td>       <th>  Adj. R-squared:    </th> <td>   0.837</td> \n",
       "</tr>\n",
       "<tr>\n",
       "  <th>Method:</th>             <td>Least Squares</td>  <th>  F-statistic:       </th> <td>   1462.</td> \n",
       "</tr>\n",
       "<tr>\n",
       "  <th>Date:</th>             <td>Wed, 22 Mar 2023</td> <th>  Prob (F-statistic):</th> <td>2.64e-224</td>\n",
       "</tr>\n",
       "<tr>\n",
       "  <th>Time:</th>                 <td>11:11:48</td>     <th>  Log-Likelihood:    </th> <td> -385.95</td> \n",
       "</tr>\n",
       "<tr>\n",
       "  <th>No. Observations:</th>      <td>   569</td>      <th>  AIC:               </th> <td>   777.9</td> \n",
       "</tr>\n",
       "<tr>\n",
       "  <th>Df Residuals:</th>          <td>   566</td>      <th>  BIC:               </th> <td>   790.9</td> \n",
       "</tr>\n",
       "<tr>\n",
       "  <th>Df Model:</th>              <td>     2</td>      <th>                     </th>     <td> </td>    \n",
       "</tr>\n",
       "<tr>\n",
       "  <th>Covariance Type:</th>      <td>nonrobust</td>    <th>                     </th>     <td> </td>    \n",
       "</tr>\n",
       "</table>\n",
       "<table class=\"simpletable\">\n",
       "<tr>\n",
       "         <td></td>            <th>coef</th>     <th>std err</th>      <th>t</th>      <th>P>|t|</th>  <th>[0.025</th>    <th>0.975]</th>  \n",
       "</tr>\n",
       "<tr>\n",
       "  <th>Intercept</th>       <td>   -1.7115</td> <td>    0.097</td> <td>  -17.697</td> <td> 0.000</td> <td>   -1.901</td> <td>   -1.522</td>\n",
       "</tr>\n",
       "<tr>\n",
       "  <th>np.log(capital)</th> <td>    0.2076</td> <td>    0.017</td> <td>   12.077</td> <td> 0.000</td> <td>    0.174</td> <td>    0.241</td>\n",
       "</tr>\n",
       "<tr>\n",
       "  <th>np.log(labour)</th>  <td>    0.7148</td> <td>    0.023</td> <td>   30.890</td> <td> 0.000</td> <td>    0.669</td> <td>    0.760</td>\n",
       "</tr>\n",
       "</table>\n",
       "<table class=\"simpletable\">\n",
       "<tr>\n",
       "  <th>Omnibus:</th>       <td>259.475</td> <th>  Durbin-Watson:     </th> <td>   1.963</td>\n",
       "</tr>\n",
       "<tr>\n",
       "  <th>Prob(Omnibus):</th> <td> 0.000</td>  <th>  Jarque-Bera (JB):  </th> <td>2677.293</td>\n",
       "</tr>\n",
       "<tr>\n",
       "  <th>Skew:</th>          <td> 1.734</td>  <th>  Prob(JB):          </th> <td>    0.00</td>\n",
       "</tr>\n",
       "<tr>\n",
       "  <th>Kurtosis:</th>      <td>13.045</td>  <th>  Cond. No.          </th> <td>    24.3</td>\n",
       "</tr>\n",
       "</table><br/><br/>Notes:<br/>[1] Standard Errors assume that the covariance matrix of the errors is correctly specified."
      ],
      "text/plain": [
       "<class 'statsmodels.iolib.summary.Summary'>\n",
       "\"\"\"\n",
       "                            OLS Regression Results                            \n",
       "==============================================================================\n",
       "Dep. Variable:         np.log(output)   R-squared:                       0.838\n",
       "Model:                            OLS   Adj. R-squared:                  0.837\n",
       "Method:                 Least Squares   F-statistic:                     1462.\n",
       "Date:                Wed, 22 Mar 2023   Prob (F-statistic):          2.64e-224\n",
       "Time:                        11:11:48   Log-Likelihood:                -385.95\n",
       "No. Observations:                 569   AIC:                             777.9\n",
       "Df Residuals:                     566   BIC:                             790.9\n",
       "Df Model:                           2                                         \n",
       "Covariance Type:            nonrobust                                         \n",
       "===================================================================================\n",
       "                      coef    std err          t      P>|t|      [0.025      0.975]\n",
       "-----------------------------------------------------------------------------------\n",
       "Intercept          -1.7115      0.097    -17.697      0.000      -1.901      -1.522\n",
       "np.log(capital)     0.2076      0.017     12.077      0.000       0.174       0.241\n",
       "np.log(labour)      0.7148      0.023     30.890      0.000       0.669       0.760\n",
       "==============================================================================\n",
       "Omnibus:                      259.475   Durbin-Watson:                   1.963\n",
       "Prob(Omnibus):                  0.000   Jarque-Bera (JB):             2677.293\n",
       "Skew:                           1.734   Prob(JB):                         0.00\n",
       "Kurtosis:                      13.045   Cond. No.                         24.3\n",
       "==============================================================================\n",
       "\n",
       "Notes:\n",
       "[1] Standard Errors assume that the covariance matrix of the errors is correctly specified.\n",
       "\"\"\""
      ]
     },
     "execution_count": 82,
     "metadata": {},
     "output_type": "execute_result"
    }
   ],
   "source": [
    "models = smf.ols(data=df_lab, formula = 'np.log(output)~np.log(capital)+np.log(labour)').fit()\n",
    "models.summary()"
   ]
  },
  {
   "cell_type": "code",
   "execution_count": 92,
   "id": "12c3efc9",
   "metadata": {
    "scrolled": false
   },
   "outputs": [
    {
     "data": {
      "text/html": [
       "<table class=\"simpletable\">\n",
       "<tr>\n",
       "         <td></td>            <th>coef</th>     <th>std err</th>      <th>t</th>      <th>P>|t|</th>  <th>[0.005</th>    <th>0.995]</th>  \n",
       "</tr>\n",
       "<tr>\n",
       "  <th>Intercept</th>       <td>   -1.7115</td> <td>    0.097</td> <td>  -17.697</td> <td> 0.000</td> <td>   -1.961</td> <td>   -1.462</td>\n",
       "</tr>\n",
       "<tr>\n",
       "  <th>np.log(capital)</th> <td>    0.2076</td> <td>    0.017</td> <td>   12.077</td> <td> 0.000</td> <td>    0.163</td> <td>    0.252</td>\n",
       "</tr>\n",
       "<tr>\n",
       "  <th>np.log(labour)</th>  <td>    0.7148</td> <td>    0.023</td> <td>   30.890</td> <td> 0.000</td> <td>    0.655</td> <td>    0.775</td>\n",
       "</tr>\n",
       "</table>"
      ],
      "text/plain": [
       "<class 'statsmodels.iolib.table.SimpleTable'>"
      ]
     },
     "execution_count": 92,
     "metadata": {},
     "output_type": "execute_result"
    }
   ],
   "source": [
    "models.summary(alpha = 0.01).tables[1]"
   ]
  },
  {
   "cell_type": "code",
   "execution_count": 104,
   "id": "5686cf8a",
   "metadata": {
    "scrolled": true
   },
   "outputs": [
    {
     "data": {
      "text/plain": [
       "<class 'statsmodels.stats.contrast.ContrastResults'>\n",
       "                             Test for Constraints                             \n",
       "==============================================================================\n",
       "                 coef    std err          t      P>|t|      [0.025      0.975]\n",
       "------------------------------------------------------------------------------\n",
       "c0             0.2076      0.017    -17.014      0.000       0.174       0.241\n",
       "=============================================================================="
      ]
     },
     "execution_count": 104,
     "metadata": {},
     "output_type": "execute_result"
    }
   ],
   "source": [
    "models.t_test('np.log(capital)=0.5')"
   ]
  },
  {
   "cell_type": "code",
   "execution_count": 106,
   "id": "9900079f",
   "metadata": {},
   "outputs": [
    {
     "data": {
      "text/plain": [
       "17.2"
      ]
     },
     "execution_count": 106,
     "metadata": {},
     "output_type": "execute_result"
    }
   ],
   "source": [
    "beta_cap = 0.2076\n",
    "ste_cap = 0.017\n",
    "t_nabl = np.abs((beta_cap-0.5)/ste_cap)\n",
    "t_nabl"
   ]
  },
  {
   "cell_type": "code",
   "execution_count": 108,
   "id": "fd7d9445",
   "metadata": {},
   "outputs": [
    {
     "data": {
      "text/plain": [
       "2.585"
      ]
     },
     "execution_count": 108,
     "metadata": {},
     "output_type": "execute_result"
    }
   ],
   "source": [
    "n = len(df_lab)\n",
    "alpha = 0.01\n",
    "k = 3\n",
    "t_crit = stats.t.ppf(1 - alpha/2, n - k)\n",
    "round(t_crit, 3)"
   ]
  },
  {
   "cell_type": "markdown",
   "id": "99f13c56",
   "metadata": {},
   "source": [
    "# Гипотеза\n",
    "$$\n",
    "H_0: \\beta_{capital} = 0.5 \\\\\n",
    "H_1: \\beta_{capital} \\neq 0.5 \\\\\n",
    "$$"
   ]
  },
  {
   "cell_type": "markdown",
   "id": "c70c0dff",
   "metadata": {},
   "source": [
    "Вывод: $\\beta_{capital}$ значительно отличается от 0,5 \n",
    "# <span style = \"color:red\" > Вывод: $\\beta_{capital}$ значительно отличается от 0,5 "
   ]
  },
  {
   "cell_type": "markdown",
   "id": "849295e0",
   "metadata": {},
   "source": [
    "# 2.2 Задача (output equation 2)"
   ]
  },
  {
   "cell_type": "markdown",
   "id": "c2020430",
   "metadata": {},
   "source": [
    "# Гипотеза\n",
    "$$\n",
    "H_0: \\beta_{labour} = 0.7 \\\\\n",
    "H_1: \\beta_{labour} \\neq 0.7 \\\\\n",
    "$$"
   ]
  },
  {
   "cell_type": "code",
   "execution_count": 116,
   "id": "fdfe04ba",
   "metadata": {
    "scrolled": true
   },
   "outputs": [
    {
     "data": {
      "text/html": [
       "<table class=\"simpletable\">\n",
       "<tr>\n",
       "         <td></td>            <th>coef</th>     <th>std err</th>      <th>t</th>      <th>P>|t|</th>   <th>[0.05</th>     <th>0.95]</th>  \n",
       "</tr>\n",
       "<tr>\n",
       "  <th>Intercept</th>       <td>   -1.7115</td> <td>    0.097</td> <td>  -17.697</td> <td> 0.000</td> <td>   -1.871</td> <td>   -1.552</td>\n",
       "</tr>\n",
       "<tr>\n",
       "  <th>np.log(capital)</th> <td>    0.2076</td> <td>    0.017</td> <td>   12.077</td> <td> 0.000</td> <td>    0.179</td> <td>    0.236</td>\n",
       "</tr>\n",
       "<tr>\n",
       "  <th>np.log(labour)</th>  <td>    0.7148</td> <td>    0.023</td> <td>   30.890</td> <td> 0.000</td> <td>    0.677</td> <td>    0.753</td>\n",
       "</tr>\n",
       "</table>"
      ],
      "text/plain": [
       "<class 'statsmodels.iolib.table.SimpleTable'>"
      ]
     },
     "execution_count": 116,
     "metadata": {},
     "output_type": "execute_result"
    }
   ],
   "source": [
    "models.summary(alpha = 0.1).tables[1]"
   ]
  },
  {
   "cell_type": "code",
   "execution_count": 117,
   "id": "821ea020",
   "metadata": {},
   "outputs": [
    {
     "data": {
      "text/plain": [
       "<class 'statsmodels.stats.contrast.ContrastResults'>\n",
       "                             Test for Constraints                             \n",
       "==============================================================================\n",
       "                 coef    std err          t      P>|t|      [0.025      0.975]\n",
       "------------------------------------------------------------------------------\n",
       "c0             0.7148      0.023      0.642      0.521       0.669       0.760\n",
       "=============================================================================="
      ]
     },
     "execution_count": 117,
     "metadata": {},
     "output_type": "execute_result"
    }
   ],
   "source": [
    "models.t_test('np.log(labour)=0.7')"
   ]
  },
  {
   "cell_type": "code",
   "execution_count": 120,
   "id": "4cb66f05",
   "metadata": {},
   "outputs": [
    {
     "data": {
      "text/plain": [
       "0.64"
      ]
     },
     "execution_count": 120,
     "metadata": {},
     "output_type": "execute_result"
    }
   ],
   "source": [
    "beta_cap = 0.7148\n",
    "ste_cap = 0.023\n",
    "t_nabl = np.abs((beta_cap-0.7)/ste_cap)\n",
    "t_nabl.round(2)"
   ]
  },
  {
   "cell_type": "code",
   "execution_count": 121,
   "id": "a3a88688",
   "metadata": {},
   "outputs": [
    {
     "data": {
      "text/plain": [
       "1.65"
      ]
     },
     "execution_count": 121,
     "metadata": {},
     "output_type": "execute_result"
    }
   ],
   "source": [
    "n = len(df_lab)\n",
    "alpha = 0.1\n",
    "k = 2\n",
    "t_crit = stats.t.ppf(1 - alpha/2, n - k)\n",
    "round(t_crit, 2)"
   ]
  },
  {
   "cell_type": "code",
   "execution_count": 123,
   "id": "35bdb60e",
   "metadata": {},
   "outputs": [
    {
     "name": "stdout",
     "output_type": "stream",
     "text": [
      "Незначимо\n"
     ]
    }
   ],
   "source": [
    "if t_nabl > t_crit:\n",
    "    print('Значимо')\n",
    "else:\n",
    "    print('Незначимо')"
   ]
  },
  {
   "cell_type": "markdown",
   "id": "28da7704",
   "metadata": {},
   "source": [
    "# <span style = \"color:red\" > Вывод: $\\beta_{labour}$ незначительно отличается от 0,7"
   ]
  },
  {
   "cell_type": "markdown",
   "id": "df57cc8e",
   "metadata": {},
   "source": [
    "# 2.3 Задача (cost equation 1)"
   ]
  },
  {
   "cell_type": "markdown",
   "id": "965f8e9d",
   "metadata": {},
   "source": [
    "# Гипотеза\n",
    "$$\n",
    "H_0: \\beta_{q} = 1 \\\\\n",
    "H_1: \\beta_{q} \\neq 1 \\\\\n",
    "$$"
   ]
  },
  {
   "cell_type": "code",
   "execution_count": 125,
   "id": "ccfd38e9",
   "metadata": {},
   "outputs": [
    {
     "data": {
      "text/html": [
       "<div>\n",
       "<style scoped>\n",
       "    .dataframe tbody tr th:only-of-type {\n",
       "        vertical-align: middle;\n",
       "    }\n",
       "\n",
       "    .dataframe tbody tr th {\n",
       "        vertical-align: top;\n",
       "    }\n",
       "\n",
       "    .dataframe thead th {\n",
       "        text-align: right;\n",
       "    }\n",
       "</style>\n",
       "<table border=\"1\" class=\"dataframe\">\n",
       "  <thead>\n",
       "    <tr style=\"text-align: right;\">\n",
       "      <th></th>\n",
       "      <th>cost</th>\n",
       "      <th>q</th>\n",
       "      <th>pl</th>\n",
       "      <th>sl</th>\n",
       "      <th>pk</th>\n",
       "      <th>sk</th>\n",
       "      <th>pf</th>\n",
       "      <th>sf</th>\n",
       "    </tr>\n",
       "  </thead>\n",
       "  <tbody>\n",
       "    <tr>\n",
       "      <th>0</th>\n",
       "      <td>0.2130</td>\n",
       "      <td>8.0</td>\n",
       "      <td>6869.47</td>\n",
       "      <td>0.3291</td>\n",
       "      <td>64.945</td>\n",
       "      <td>0.4197</td>\n",
       "      <td>18.000</td>\n",
       "      <td>0.2512</td>\n",
       "    </tr>\n",
       "    <tr>\n",
       "      <th>1</th>\n",
       "      <td>3.0427</td>\n",
       "      <td>869.0</td>\n",
       "      <td>8372.96</td>\n",
       "      <td>0.1030</td>\n",
       "      <td>68.227</td>\n",
       "      <td>0.2913</td>\n",
       "      <td>21.067</td>\n",
       "      <td>0.6057</td>\n",
       "    </tr>\n",
       "    <tr>\n",
       "      <th>2</th>\n",
       "      <td>9.4059</td>\n",
       "      <td>1412.0</td>\n",
       "      <td>7960.90</td>\n",
       "      <td>0.0891</td>\n",
       "      <td>40.692</td>\n",
       "      <td>0.1567</td>\n",
       "      <td>41.530</td>\n",
       "      <td>0.7542</td>\n",
       "    </tr>\n",
       "    <tr>\n",
       "      <th>3</th>\n",
       "      <td>0.7606</td>\n",
       "      <td>65.0</td>\n",
       "      <td>8971.89</td>\n",
       "      <td>0.2802</td>\n",
       "      <td>41.243</td>\n",
       "      <td>0.1282</td>\n",
       "      <td>28.539</td>\n",
       "      <td>0.5916</td>\n",
       "    </tr>\n",
       "    <tr>\n",
       "      <th>4</th>\n",
       "      <td>2.2587</td>\n",
       "      <td>295.0</td>\n",
       "      <td>8218.40</td>\n",
       "      <td>0.1772</td>\n",
       "      <td>71.940</td>\n",
       "      <td>0.1623</td>\n",
       "      <td>39.200</td>\n",
       "      <td>0.6606</td>\n",
       "    </tr>\n",
       "    <tr>\n",
       "      <th>...</th>\n",
       "      <td>...</td>\n",
       "      <td>...</td>\n",
       "      <td>...</td>\n",
       "      <td>...</td>\n",
       "      <td>...</td>\n",
       "      <td>...</td>\n",
       "      <td>...</td>\n",
       "      <td>...</td>\n",
       "    </tr>\n",
       "    <tr>\n",
       "      <th>153</th>\n",
       "      <td>6.8293</td>\n",
       "      <td>946.6</td>\n",
       "      <td>10642.16</td>\n",
       "      <td>0.0883</td>\n",
       "      <td>43.600</td>\n",
       "      <td>0.1914</td>\n",
       "      <td>51.463</td>\n",
       "      <td>0.7203</td>\n",
       "    </tr>\n",
       "    <tr>\n",
       "      <th>154</th>\n",
       "      <td>3.7605</td>\n",
       "      <td>377.0</td>\n",
       "      <td>7432.24</td>\n",
       "      <td>0.2117</td>\n",
       "      <td>74.120</td>\n",
       "      <td>0.2274</td>\n",
       "      <td>33.436</td>\n",
       "      <td>0.5609</td>\n",
       "    </tr>\n",
       "    <tr>\n",
       "      <th>155</th>\n",
       "      <td>3.9822</td>\n",
       "      <td>391.0</td>\n",
       "      <td>5826.04</td>\n",
       "      <td>0.1926</td>\n",
       "      <td>78.288</td>\n",
       "      <td>0.0924</td>\n",
       "      <td>44.633</td>\n",
       "      <td>0.7151</td>\n",
       "    </tr>\n",
       "    <tr>\n",
       "      <th>156</th>\n",
       "      <td>30.1880</td>\n",
       "      <td>5317.0</td>\n",
       "      <td>9586.63</td>\n",
       "      <td>0.0845</td>\n",
       "      <td>78.008</td>\n",
       "      <td>0.2009</td>\n",
       "      <td>41.840</td>\n",
       "      <td>0.7147</td>\n",
       "    </tr>\n",
       "    <tr>\n",
       "      <th>157</th>\n",
       "      <td>67.8562</td>\n",
       "      <td>15220.0</td>\n",
       "      <td>6986.09</td>\n",
       "      <td>0.1451</td>\n",
       "      <td>74.025</td>\n",
       "      <td>0.2596</td>\n",
       "      <td>25.662</td>\n",
       "      <td>0.5945</td>\n",
       "    </tr>\n",
       "  </tbody>\n",
       "</table>\n",
       "<p>158 rows × 8 columns</p>\n",
       "</div>"
      ],
      "text/plain": [
       "        cost        q        pl      sl      pk      sk      pf      sf\n",
       "0     0.2130      8.0   6869.47  0.3291  64.945  0.4197  18.000  0.2512\n",
       "1     3.0427    869.0   8372.96  0.1030  68.227  0.2913  21.067  0.6057\n",
       "2     9.4059   1412.0   7960.90  0.0891  40.692  0.1567  41.530  0.7542\n",
       "3     0.7606     65.0   8971.89  0.2802  41.243  0.1282  28.539  0.5916\n",
       "4     2.2587    295.0   8218.40  0.1772  71.940  0.1623  39.200  0.6606\n",
       "..       ...      ...       ...     ...     ...     ...     ...     ...\n",
       "153   6.8293    946.6  10642.16  0.0883  43.600  0.1914  51.463  0.7203\n",
       "154   3.7605    377.0   7432.24  0.2117  74.120  0.2274  33.436  0.5609\n",
       "155   3.9822    391.0   5826.04  0.1926  78.288  0.0924  44.633  0.7151\n",
       "156  30.1880   5317.0   9586.63  0.0845  78.008  0.2009  41.840  0.7147\n",
       "157  67.8562  15220.0   6986.09  0.1451  74.025  0.2596  25.662  0.5945\n",
       "\n",
       "[158 rows x 8 columns]"
      ]
     },
     "execution_count": 125,
     "metadata": {},
     "output_type": "execute_result"
    }
   ],
   "source": [
    "df_lab = pd.read_csv('https://github.com/artamonoff/Econometrica/raw/master/python-notebooks/data-csv/Electricity.csv')\n",
    "df_lab"
   ]
  },
  {
   "cell_type": "code",
   "execution_count": 127,
   "id": "cb68f642",
   "metadata": {},
   "outputs": [
    {
     "data": {
      "text/html": [
       "<table class=\"simpletable\">\n",
       "<tr>\n",
       "       <td></td>         <th>coef</th>     <th>std err</th>      <th>t</th>      <th>P>|t|</th>  <th>[0.025</th>    <th>0.975]</th>  \n",
       "</tr>\n",
       "<tr>\n",
       "  <th>Intercept</th>  <td>   -7.4722</td> <td>    1.063</td> <td>   -7.028</td> <td> 0.000</td> <td>   -9.573</td> <td>   -5.372</td>\n",
       "</tr>\n",
       "<tr>\n",
       "  <th>np.log(q)</th>  <td>    0.8381</td> <td>    0.009</td> <td>   89.284</td> <td> 0.000</td> <td>    0.820</td> <td>    0.857</td>\n",
       "</tr>\n",
       "<tr>\n",
       "  <th>np.log(pl)</th> <td>    0.0443</td> <td>    0.106</td> <td>    0.418</td> <td> 0.676</td> <td>   -0.165</td> <td>    0.253</td>\n",
       "</tr>\n",
       "<tr>\n",
       "  <th>np.log(pk)</th> <td>    0.1884</td> <td>    0.087</td> <td>    2.164</td> <td> 0.032</td> <td>    0.016</td> <td>    0.360</td>\n",
       "</tr>\n",
       "<tr>\n",
       "  <th>np.log(pf)</th> <td>    0.7131</td> <td>    0.064</td> <td>   11.081</td> <td> 0.000</td> <td>    0.586</td> <td>    0.840</td>\n",
       "</tr>\n",
       "</table>"
      ],
      "text/plain": [
       "<class 'statsmodels.iolib.table.SimpleTable'>"
      ]
     },
     "execution_count": 127,
     "metadata": {},
     "output_type": "execute_result"
    }
   ],
   "source": [
    "models = smf.ols(data=df_lab, formula = 'np.log(cost)~np.log(q)+np.log(pl)+np.log(pk)+np.log(pf)').fit()\n",
    "models.summary(alpha = 0.05).tables[1]"
   ]
  },
  {
   "cell_type": "code",
   "execution_count": 129,
   "id": "a9c87e23",
   "metadata": {},
   "outputs": [
    {
     "data": {
      "text/plain": [
       "<class 'statsmodels.stats.contrast.ContrastResults'>\n",
       "                             Test for Constraints                             \n",
       "==============================================================================\n",
       "                 coef    std err          t      P>|t|      [0.025      0.975]\n",
       "------------------------------------------------------------------------------\n",
       "c0             0.8381      0.009    -17.246      0.000       0.820       0.857\n",
       "=============================================================================="
      ]
     },
     "execution_count": 129,
     "metadata": {},
     "output_type": "execute_result"
    }
   ],
   "source": [
    "models.t_test('np.log(q)=1')"
   ]
  },
  {
   "cell_type": "code",
   "execution_count": 131,
   "id": "3a0de8fb",
   "metadata": {},
   "outputs": [
    {
     "data": {
      "text/plain": [
       "17.99"
      ]
     },
     "execution_count": 131,
     "metadata": {},
     "output_type": "execute_result"
    }
   ],
   "source": [
    "beta_cap = 0.8381\n",
    "ste_cap = 0.009\n",
    "t_nabl = np.abs((beta_cap-1)/ste_cap)\n",
    "t_nabl.round(2)"
   ]
  },
  {
   "cell_type": "code",
   "execution_count": 134,
   "id": "3e648f4b",
   "metadata": {},
   "outputs": [
    {
     "data": {
      "text/plain": [
       "1.98"
      ]
     },
     "execution_count": 134,
     "metadata": {},
     "output_type": "execute_result"
    }
   ],
   "source": [
    "n = len(df_lab)\n",
    "alpha = 0.05\n",
    "k = 4\n",
    "t_crit = stats.t.ppf(1 - alpha/2, n - k)\n",
    "round(t_crit, 2)"
   ]
  },
  {
   "cell_type": "code",
   "execution_count": 135,
   "id": "d9699db0",
   "metadata": {},
   "outputs": [
    {
     "name": "stdout",
     "output_type": "stream",
     "text": [
      "Значимо\n"
     ]
    }
   ],
   "source": [
    "if t_nabl > t_crit:\n",
    "    print('Значимо')\n",
    "else:\n",
    "    print('Незначимо')"
   ]
  },
  {
   "cell_type": "markdown",
   "id": "babda521",
   "metadata": {},
   "source": [
    "# <span style = \"color:cyan\" > Вывод: $\\beta_{q}$ значительно отличается от 1"
   ]
  },
  {
   "cell_type": "markdown",
   "id": "2858de6f",
   "metadata": {},
   "source": [
    "# 2.4 Задача (cost equation 2)"
   ]
  },
  {
   "cell_type": "markdown",
   "id": "060cccad",
   "metadata": {},
   "source": [
    "# Гипотеза\n",
    "$$\n",
    "H_0: \\beta_{pf} = 1 \\\\\n",
    "H_1: \\beta_{pf} \\neq 1 \\\\\n",
    "$$"
   ]
  },
  {
   "cell_type": "code",
   "execution_count": 136,
   "id": "e606188a",
   "metadata": {},
   "outputs": [
    {
     "data": {
      "text/html": [
       "<table class=\"simpletable\">\n",
       "<tr>\n",
       "       <td></td>         <th>coef</th>     <th>std err</th>      <th>t</th>      <th>P>|t|</th>   <th>[0.05</th>     <th>0.95]</th>  \n",
       "</tr>\n",
       "<tr>\n",
       "  <th>Intercept</th>  <td>   -7.4722</td> <td>    1.063</td> <td>   -7.028</td> <td> 0.000</td> <td>   -9.232</td> <td>   -5.713</td>\n",
       "</tr>\n",
       "<tr>\n",
       "  <th>np.log(q)</th>  <td>    0.8381</td> <td>    0.009</td> <td>   89.284</td> <td> 0.000</td> <td>    0.823</td> <td>    0.854</td>\n",
       "</tr>\n",
       "<tr>\n",
       "  <th>np.log(pl)</th> <td>    0.0443</td> <td>    0.106</td> <td>    0.418</td> <td> 0.676</td> <td>   -0.131</td> <td>    0.219</td>\n",
       "</tr>\n",
       "<tr>\n",
       "  <th>np.log(pk)</th> <td>    0.1884</td> <td>    0.087</td> <td>    2.164</td> <td> 0.032</td> <td>    0.044</td> <td>    0.333</td>\n",
       "</tr>\n",
       "<tr>\n",
       "  <th>np.log(pf)</th> <td>    0.7131</td> <td>    0.064</td> <td>   11.081</td> <td> 0.000</td> <td>    0.607</td> <td>    0.820</td>\n",
       "</tr>\n",
       "</table>"
      ],
      "text/plain": [
       "<class 'statsmodels.iolib.table.SimpleTable'>"
      ]
     },
     "execution_count": 136,
     "metadata": {},
     "output_type": "execute_result"
    }
   ],
   "source": [
    "models.summary(alpha = 0.1).tables[1]"
   ]
  },
  {
   "cell_type": "code",
   "execution_count": 137,
   "id": "0aea61c6",
   "metadata": {},
   "outputs": [
    {
     "data": {
      "text/plain": [
       "<class 'statsmodels.stats.contrast.ContrastResults'>\n",
       "                             Test for Constraints                             \n",
       "==============================================================================\n",
       "                 coef    std err          t      P>|t|      [0.025      0.975]\n",
       "------------------------------------------------------------------------------\n",
       "c0             0.7131      0.064     -4.458      0.000       0.586       0.840\n",
       "=============================================================================="
      ]
     },
     "execution_count": 137,
     "metadata": {},
     "output_type": "execute_result"
    }
   ],
   "source": [
    "models.t_test('np.log(pf)=1')"
   ]
  },
  {
   "cell_type": "code",
   "execution_count": 139,
   "id": "d239903b",
   "metadata": {},
   "outputs": [
    {
     "data": {
      "text/plain": [
       "4.48"
      ]
     },
     "execution_count": 139,
     "metadata": {},
     "output_type": "execute_result"
    }
   ],
   "source": [
    "hip = 1\n",
    "beta_cap = 0.7131\n",
    "ste_cap = 0.064\n",
    "t_nabl = np.abs((beta_cap-hip)/ste_cap)\n",
    "t_nabl.round(2)"
   ]
  },
  {
   "cell_type": "code",
   "execution_count": 140,
   "id": "bbb8a4bf",
   "metadata": {},
   "outputs": [
    {
     "data": {
      "text/plain": [
       "1.98"
      ]
     },
     "execution_count": 140,
     "metadata": {},
     "output_type": "execute_result"
    }
   ],
   "source": [
    "n = len(df_lab)\n",
    "alpha = 0.05\n",
    "k = 4\n",
    "t_crit = stats.t.ppf(1 - alpha/2, n - k)\n",
    "round(t_crit, 2)"
   ]
  },
  {
   "cell_type": "code",
   "execution_count": 141,
   "id": "f29e166a",
   "metadata": {},
   "outputs": [
    {
     "name": "stdout",
     "output_type": "stream",
     "text": [
      "Значимо\n"
     ]
    }
   ],
   "source": [
    "if t_nabl > t_crit:\n",
    "    print('Значимо')\n",
    "else:\n",
    "    print('Незначимо')"
   ]
  },
  {
   "cell_type": "markdown",
   "id": "549d9fac",
   "metadata": {},
   "source": [
    "# <span style = \"color:cyan\" > Вывод: $\\beta_{pf}$ значительно отличается от 1"
   ]
  },
  {
   "cell_type": "markdown",
   "id": "17ca405f",
   "metadata": {},
   "source": [
    "# 2.5 Задача (sleep equation 1)"
   ]
  },
  {
   "cell_type": "markdown",
   "id": "c03cbc29",
   "metadata": {},
   "source": [
    "# Гипотеза\n",
    "$$\n",
    "H_0: \\beta_{male} = 90 \\\\\n",
    "H_1: \\beta_{male} \\neq 90 \\\\\n",
    "$$"
   ]
  },
  {
   "cell_type": "code",
   "execution_count": 142,
   "id": "68f3bc54",
   "metadata": {},
   "outputs": [
    {
     "data": {
      "text/html": [
       "<div>\n",
       "<style scoped>\n",
       "    .dataframe tbody tr th:only-of-type {\n",
       "        vertical-align: middle;\n",
       "    }\n",
       "\n",
       "    .dataframe tbody tr th {\n",
       "        vertical-align: top;\n",
       "    }\n",
       "\n",
       "    .dataframe thead th {\n",
       "        text-align: right;\n",
       "    }\n",
       "</style>\n",
       "<table border=\"1\" class=\"dataframe\">\n",
       "  <thead>\n",
       "    <tr style=\"text-align: right;\">\n",
       "      <th></th>\n",
       "      <th>age</th>\n",
       "      <th>black</th>\n",
       "      <th>case</th>\n",
       "      <th>clerical</th>\n",
       "      <th>construc</th>\n",
       "      <th>educ</th>\n",
       "      <th>earns74</th>\n",
       "      <th>gdhlth</th>\n",
       "      <th>inlf</th>\n",
       "      <th>leis1</th>\n",
       "      <th>...</th>\n",
       "      <th>spwrk75</th>\n",
       "      <th>totwrk</th>\n",
       "      <th>union</th>\n",
       "      <th>worknrm</th>\n",
       "      <th>workscnd</th>\n",
       "      <th>exper</th>\n",
       "      <th>yngkid</th>\n",
       "      <th>yrsmarr</th>\n",
       "      <th>hrwage</th>\n",
       "      <th>agesq</th>\n",
       "    </tr>\n",
       "  </thead>\n",
       "  <tbody>\n",
       "    <tr>\n",
       "      <th>0</th>\n",
       "      <td>32</td>\n",
       "      <td>0</td>\n",
       "      <td>1</td>\n",
       "      <td>0.000000</td>\n",
       "      <td>0.000000</td>\n",
       "      <td>12</td>\n",
       "      <td>0</td>\n",
       "      <td>0</td>\n",
       "      <td>1</td>\n",
       "      <td>3529</td>\n",
       "      <td>...</td>\n",
       "      <td>0</td>\n",
       "      <td>3438</td>\n",
       "      <td>0</td>\n",
       "      <td>3438</td>\n",
       "      <td>0</td>\n",
       "      <td>14</td>\n",
       "      <td>0</td>\n",
       "      <td>13</td>\n",
       "      <td>7.070004</td>\n",
       "      <td>1024</td>\n",
       "    </tr>\n",
       "    <tr>\n",
       "      <th>1</th>\n",
       "      <td>31</td>\n",
       "      <td>0</td>\n",
       "      <td>2</td>\n",
       "      <td>0.000000</td>\n",
       "      <td>0.000000</td>\n",
       "      <td>14</td>\n",
       "      <td>9500</td>\n",
       "      <td>1</td>\n",
       "      <td>1</td>\n",
       "      <td>2140</td>\n",
       "      <td>...</td>\n",
       "      <td>0</td>\n",
       "      <td>5020</td>\n",
       "      <td>0</td>\n",
       "      <td>5020</td>\n",
       "      <td>0</td>\n",
       "      <td>11</td>\n",
       "      <td>0</td>\n",
       "      <td>0</td>\n",
       "      <td>1.429999</td>\n",
       "      <td>961</td>\n",
       "    </tr>\n",
       "    <tr>\n",
       "      <th>2</th>\n",
       "      <td>44</td>\n",
       "      <td>0</td>\n",
       "      <td>3</td>\n",
       "      <td>0.000000</td>\n",
       "      <td>0.000000</td>\n",
       "      <td>17</td>\n",
       "      <td>42500</td>\n",
       "      <td>1</td>\n",
       "      <td>1</td>\n",
       "      <td>4595</td>\n",
       "      <td>...</td>\n",
       "      <td>1</td>\n",
       "      <td>2815</td>\n",
       "      <td>0</td>\n",
       "      <td>2815</td>\n",
       "      <td>0</td>\n",
       "      <td>21</td>\n",
       "      <td>0</td>\n",
       "      <td>0</td>\n",
       "      <td>20.529997</td>\n",
       "      <td>1936</td>\n",
       "    </tr>\n",
       "    <tr>\n",
       "      <th>3</th>\n",
       "      <td>30</td>\n",
       "      <td>0</td>\n",
       "      <td>4</td>\n",
       "      <td>0.000000</td>\n",
       "      <td>0.000000</td>\n",
       "      <td>12</td>\n",
       "      <td>42500</td>\n",
       "      <td>1</td>\n",
       "      <td>1</td>\n",
       "      <td>3211</td>\n",
       "      <td>...</td>\n",
       "      <td>1</td>\n",
       "      <td>3786</td>\n",
       "      <td>0</td>\n",
       "      <td>3786</td>\n",
       "      <td>0</td>\n",
       "      <td>12</td>\n",
       "      <td>0</td>\n",
       "      <td>12</td>\n",
       "      <td>9.619998</td>\n",
       "      <td>900</td>\n",
       "    </tr>\n",
       "    <tr>\n",
       "      <th>4</th>\n",
       "      <td>64</td>\n",
       "      <td>0</td>\n",
       "      <td>5</td>\n",
       "      <td>0.000000</td>\n",
       "      <td>0.000000</td>\n",
       "      <td>14</td>\n",
       "      <td>2500</td>\n",
       "      <td>1</td>\n",
       "      <td>1</td>\n",
       "      <td>4052</td>\n",
       "      <td>...</td>\n",
       "      <td>1</td>\n",
       "      <td>2580</td>\n",
       "      <td>0</td>\n",
       "      <td>2580</td>\n",
       "      <td>0</td>\n",
       "      <td>44</td>\n",
       "      <td>0</td>\n",
       "      <td>33</td>\n",
       "      <td>2.750000</td>\n",
       "      <td>4096</td>\n",
       "    </tr>\n",
       "    <tr>\n",
       "      <th>...</th>\n",
       "      <td>...</td>\n",
       "      <td>...</td>\n",
       "      <td>...</td>\n",
       "      <td>...</td>\n",
       "      <td>...</td>\n",
       "      <td>...</td>\n",
       "      <td>...</td>\n",
       "      <td>...</td>\n",
       "      <td>...</td>\n",
       "      <td>...</td>\n",
       "      <td>...</td>\n",
       "      <td>...</td>\n",
       "      <td>...</td>\n",
       "      <td>...</td>\n",
       "      <td>...</td>\n",
       "      <td>...</td>\n",
       "      <td>...</td>\n",
       "      <td>...</td>\n",
       "      <td>...</td>\n",
       "      <td>...</td>\n",
       "      <td>...</td>\n",
       "    </tr>\n",
       "    <tr>\n",
       "      <th>701</th>\n",
       "      <td>45</td>\n",
       "      <td>0</td>\n",
       "      <td>702</td>\n",
       "      <td>0.182331</td>\n",
       "      <td>0.030075</td>\n",
       "      <td>12</td>\n",
       "      <td>5500</td>\n",
       "      <td>1</td>\n",
       "      <td>0</td>\n",
       "      <td>5069</td>\n",
       "      <td>...</td>\n",
       "      <td>1</td>\n",
       "      <td>2026</td>\n",
       "      <td>0</td>\n",
       "      <td>2026</td>\n",
       "      <td>0</td>\n",
       "      <td>27</td>\n",
       "      <td>0</td>\n",
       "      <td>18</td>\n",
       "      <td>NaN</td>\n",
       "      <td>2025</td>\n",
       "    </tr>\n",
       "    <tr>\n",
       "      <th>702</th>\n",
       "      <td>34</td>\n",
       "      <td>0</td>\n",
       "      <td>703</td>\n",
       "      <td>0.182331</td>\n",
       "      <td>0.030075</td>\n",
       "      <td>10</td>\n",
       "      <td>2500</td>\n",
       "      <td>0</td>\n",
       "      <td>0</td>\n",
       "      <td>5885</td>\n",
       "      <td>...</td>\n",
       "      <td>0</td>\n",
       "      <td>675</td>\n",
       "      <td>1</td>\n",
       "      <td>465</td>\n",
       "      <td>210</td>\n",
       "      <td>18</td>\n",
       "      <td>0</td>\n",
       "      <td>4</td>\n",
       "      <td>NaN</td>\n",
       "      <td>1156</td>\n",
       "    </tr>\n",
       "    <tr>\n",
       "      <th>703</th>\n",
       "      <td>37</td>\n",
       "      <td>0</td>\n",
       "      <td>704</td>\n",
       "      <td>0.182331</td>\n",
       "      <td>0.030075</td>\n",
       "      <td>12</td>\n",
       "      <td>3500</td>\n",
       "      <td>1</td>\n",
       "      <td>0</td>\n",
       "      <td>4719</td>\n",
       "      <td>...</td>\n",
       "      <td>1</td>\n",
       "      <td>1851</td>\n",
       "      <td>0</td>\n",
       "      <td>1851</td>\n",
       "      <td>0</td>\n",
       "      <td>19</td>\n",
       "      <td>0</td>\n",
       "      <td>17</td>\n",
       "      <td>NaN</td>\n",
       "      <td>1369</td>\n",
       "    </tr>\n",
       "    <tr>\n",
       "      <th>704</th>\n",
       "      <td>54</td>\n",
       "      <td>0</td>\n",
       "      <td>705</td>\n",
       "      <td>0.182331</td>\n",
       "      <td>0.030075</td>\n",
       "      <td>17</td>\n",
       "      <td>32500</td>\n",
       "      <td>1</td>\n",
       "      <td>0</td>\n",
       "      <td>5149</td>\n",
       "      <td>...</td>\n",
       "      <td>1</td>\n",
       "      <td>1961</td>\n",
       "      <td>1</td>\n",
       "      <td>1481</td>\n",
       "      <td>480</td>\n",
       "      <td>31</td>\n",
       "      <td>0</td>\n",
       "      <td>22</td>\n",
       "      <td>NaN</td>\n",
       "      <td>2916</td>\n",
       "    </tr>\n",
       "    <tr>\n",
       "      <th>705</th>\n",
       "      <td>30</td>\n",
       "      <td>0</td>\n",
       "      <td>706</td>\n",
       "      <td>0.182331</td>\n",
       "      <td>0.030075</td>\n",
       "      <td>16</td>\n",
       "      <td>6750</td>\n",
       "      <td>1</td>\n",
       "      <td>0</td>\n",
       "      <td>4747</td>\n",
       "      <td>...</td>\n",
       "      <td>0</td>\n",
       "      <td>2363</td>\n",
       "      <td>0</td>\n",
       "      <td>2363</td>\n",
       "      <td>0</td>\n",
       "      <td>8</td>\n",
       "      <td>1</td>\n",
       "      <td>9</td>\n",
       "      <td>NaN</td>\n",
       "      <td>900</td>\n",
       "    </tr>\n",
       "  </tbody>\n",
       "</table>\n",
       "<p>706 rows × 34 columns</p>\n",
       "</div>"
      ],
      "text/plain": [
       "     age  black  case  clerical  construc  educ  earns74  gdhlth  inlf  leis1  \\\n",
       "0     32      0     1  0.000000  0.000000    12        0       0     1   3529   \n",
       "1     31      0     2  0.000000  0.000000    14     9500       1     1   2140   \n",
       "2     44      0     3  0.000000  0.000000    17    42500       1     1   4595   \n",
       "3     30      0     4  0.000000  0.000000    12    42500       1     1   3211   \n",
       "4     64      0     5  0.000000  0.000000    14     2500       1     1   4052   \n",
       "..   ...    ...   ...       ...       ...   ...      ...     ...   ...    ...   \n",
       "701   45      0   702  0.182331  0.030075    12     5500       1     0   5069   \n",
       "702   34      0   703  0.182331  0.030075    10     2500       0     0   5885   \n",
       "703   37      0   704  0.182331  0.030075    12     3500       1     0   4719   \n",
       "704   54      0   705  0.182331  0.030075    17    32500       1     0   5149   \n",
       "705   30      0   706  0.182331  0.030075    16     6750       1     0   4747   \n",
       "\n",
       "     ...  spwrk75  totwrk  union  worknrm  workscnd  exper  yngkid  yrsmarr  \\\n",
       "0    ...        0    3438      0     3438         0     14       0       13   \n",
       "1    ...        0    5020      0     5020         0     11       0        0   \n",
       "2    ...        1    2815      0     2815         0     21       0        0   \n",
       "3    ...        1    3786      0     3786         0     12       0       12   \n",
       "4    ...        1    2580      0     2580         0     44       0       33   \n",
       "..   ...      ...     ...    ...      ...       ...    ...     ...      ...   \n",
       "701  ...        1    2026      0     2026         0     27       0       18   \n",
       "702  ...        0     675      1      465       210     18       0        4   \n",
       "703  ...        1    1851      0     1851         0     19       0       17   \n",
       "704  ...        1    1961      1     1481       480     31       0       22   \n",
       "705  ...        0    2363      0     2363         0      8       1        9   \n",
       "\n",
       "        hrwage  agesq  \n",
       "0     7.070004   1024  \n",
       "1     1.429999    961  \n",
       "2    20.529997   1936  \n",
       "3     9.619998    900  \n",
       "4     2.750000   4096  \n",
       "..         ...    ...  \n",
       "701        NaN   2025  \n",
       "702        NaN   1156  \n",
       "703        NaN   1369  \n",
       "704        NaN   2916  \n",
       "705        NaN    900  \n",
       "\n",
       "[706 rows x 34 columns]"
      ]
     },
     "execution_count": 142,
     "metadata": {},
     "output_type": "execute_result"
    }
   ],
   "source": [
    "df_lab = pd.read_csv('https://github.com/artamonoff/Econometrica/raw/master/python-notebooks/data-csv/sleep75.csv')\n",
    "df_lab"
   ]
  },
  {
   "cell_type": "code",
   "execution_count": 144,
   "id": "5738cbcd",
   "metadata": {},
   "outputs": [
    {
     "data": {
      "text/html": [
       "<table class=\"simpletable\">\n",
       "<tr>\n",
       "      <td></td>         <th>coef</th>     <th>std err</th>      <th>t</th>      <th>P>|t|</th>  <th>[0.005</th>    <th>0.995]</th>  \n",
       "</tr>\n",
       "<tr>\n",
       "  <th>Intercept</th> <td> 3446.8303</td> <td>   81.840</td> <td>   42.117</td> <td> 0.000</td> <td> 3235.446</td> <td> 3658.215</td>\n",
       "</tr>\n",
       "<tr>\n",
       "  <th>totwrk</th>    <td>   -0.1691</td> <td>    0.018</td> <td>   -9.358</td> <td> 0.000</td> <td>   -0.216</td> <td>   -0.122</td>\n",
       "</tr>\n",
       "<tr>\n",
       "  <th>age</th>       <td>    2.7145</td> <td>    1.472</td> <td>    1.844</td> <td> 0.066</td> <td>   -1.089</td> <td>    6.517</td>\n",
       "</tr>\n",
       "<tr>\n",
       "  <th>south</th>     <td>  102.2718</td> <td>   41.925</td> <td>    2.439</td> <td> 0.015</td> <td>   -6.016</td> <td>  210.560</td>\n",
       "</tr>\n",
       "<tr>\n",
       "  <th>male</th>      <td>   87.1081</td> <td>   35.173</td> <td>    2.477</td> <td> 0.014</td> <td>   -3.741</td> <td>  177.957</td>\n",
       "</tr>\n",
       "<tr>\n",
       "  <th>smsa</th>      <td>  -54.1877</td> <td>   33.193</td> <td>   -1.632</td> <td> 0.103</td> <td> -139.923</td> <td>   31.548</td>\n",
       "</tr>\n",
       "<tr>\n",
       "  <th>yngkid</th>    <td>  -13.0513</td> <td>   50.459</td> <td>   -0.259</td> <td> 0.796</td> <td> -143.382</td> <td>  117.280</td>\n",
       "</tr>\n",
       "<tr>\n",
       "  <th>marr</th>      <td>   31.3604</td> <td>   42.263</td> <td>    0.742</td> <td> 0.458</td> <td>  -77.801</td> <td>  140.522</td>\n",
       "</tr>\n",
       "<tr>\n",
       "  <th>union</th>     <td>   11.8657</td> <td>   38.186</td> <td>    0.311</td> <td> 0.756</td> <td>  -86.765</td> <td>  110.496</td>\n",
       "</tr>\n",
       "</table>"
      ],
      "text/plain": [
       "<class 'statsmodels.iolib.table.SimpleTable'>"
      ]
     },
     "execution_count": 144,
     "metadata": {},
     "output_type": "execute_result"
    }
   ],
   "source": [
    "models = smf.ols(data=df_lab, formula = 'sleep~totwrk+age+south+male+smsa+yngkid+marr+union').fit()\n",
    "models.summary(alpha = 0.01).tables[1]"
   ]
  },
  {
   "cell_type": "code",
   "execution_count": 146,
   "id": "ba9d1f68",
   "metadata": {},
   "outputs": [
    {
     "data": {
      "text/plain": [
       "<class 'statsmodels.stats.contrast.ContrastResults'>\n",
       "                             Test for Constraints                             \n",
       "==============================================================================\n",
       "                 coef    std err          t      P>|t|      [0.025      0.975]\n",
       "------------------------------------------------------------------------------\n",
       "c0            87.1081     35.173     -0.082      0.934      18.050     156.166\n",
       "=============================================================================="
      ]
     },
     "execution_count": 146,
     "metadata": {},
     "output_type": "execute_result"
    }
   ],
   "source": [
    "models.t_test('male=90')"
   ]
  },
  {
   "cell_type": "code",
   "execution_count": 147,
   "id": "881629c1",
   "metadata": {},
   "outputs": [
    {
     "data": {
      "text/plain": [
       "0.08"
      ]
     },
     "execution_count": 147,
     "metadata": {},
     "output_type": "execute_result"
    }
   ],
   "source": [
    "hip = 90\n",
    "beta_cap = 87.1081\n",
    "ste_cap = 35.173\n",
    "t_nabl = np.abs((beta_cap-hip)/ste_cap)\n",
    "t_nabl.round(2)"
   ]
  },
  {
   "cell_type": "code",
   "execution_count": 148,
   "id": "a21f2529",
   "metadata": {},
   "outputs": [
    {
     "data": {
      "text/plain": [
       "2.58"
      ]
     },
     "execution_count": 148,
     "metadata": {},
     "output_type": "execute_result"
    }
   ],
   "source": [
    "n = len(df_lab)\n",
    "alpha = 0.01\n",
    "k = 8\n",
    "t_crit = stats.t.ppf(1 - alpha/2, n - k)\n",
    "round(t_crit, 2)"
   ]
  },
  {
   "cell_type": "code",
   "execution_count": 149,
   "id": "e9d92d53",
   "metadata": {},
   "outputs": [
    {
     "name": "stdout",
     "output_type": "stream",
     "text": [
      "Незначимо\n"
     ]
    }
   ],
   "source": [
    "if t_nabl > t_crit:\n",
    "    print('Значимо')\n",
    "else:\n",
    "    print('Незначимо')"
   ]
  },
  {
   "cell_type": "markdown",
   "id": "97553caa",
   "metadata": {},
   "source": [
    "# <span style = \"color:purple\" > Вывод: $\\beta_{male}$ значительно отличается от 90"
   ]
  },
  {
   "cell_type": "markdown",
   "id": "d380254c",
   "metadata": {},
   "source": [
    "# 2.6 Задача (sleep equation 2)"
   ]
  },
  {
   "cell_type": "markdown",
   "id": "37a2faf1",
   "metadata": {},
   "source": [
    "# Гипотеза\n",
    "$$\n",
    "H_0: \\beta_{south} = 100 \\\\\n",
    "H_1: \\beta_{south} \\neq 100 \\\\\n",
    "$$"
   ]
  },
  {
   "cell_type": "code",
   "execution_count": 150,
   "id": "e3513336",
   "metadata": {},
   "outputs": [
    {
     "data": {
      "text/html": [
       "<table class=\"simpletable\">\n",
       "<tr>\n",
       "      <td></td>         <th>coef</th>     <th>std err</th>      <th>t</th>      <th>P>|t|</th>  <th>[0.005</th>    <th>0.995]</th>  \n",
       "</tr>\n",
       "<tr>\n",
       "  <th>Intercept</th> <td> 3446.8303</td> <td>   81.840</td> <td>   42.117</td> <td> 0.000</td> <td> 3235.446</td> <td> 3658.215</td>\n",
       "</tr>\n",
       "<tr>\n",
       "  <th>totwrk</th>    <td>   -0.1691</td> <td>    0.018</td> <td>   -9.358</td> <td> 0.000</td> <td>   -0.216</td> <td>   -0.122</td>\n",
       "</tr>\n",
       "<tr>\n",
       "  <th>age</th>       <td>    2.7145</td> <td>    1.472</td> <td>    1.844</td> <td> 0.066</td> <td>   -1.089</td> <td>    6.517</td>\n",
       "</tr>\n",
       "<tr>\n",
       "  <th>south</th>     <td>  102.2718</td> <td>   41.925</td> <td>    2.439</td> <td> 0.015</td> <td>   -6.016</td> <td>  210.560</td>\n",
       "</tr>\n",
       "<tr>\n",
       "  <th>male</th>      <td>   87.1081</td> <td>   35.173</td> <td>    2.477</td> <td> 0.014</td> <td>   -3.741</td> <td>  177.957</td>\n",
       "</tr>\n",
       "<tr>\n",
       "  <th>smsa</th>      <td>  -54.1877</td> <td>   33.193</td> <td>   -1.632</td> <td> 0.103</td> <td> -139.923</td> <td>   31.548</td>\n",
       "</tr>\n",
       "<tr>\n",
       "  <th>yngkid</th>    <td>  -13.0513</td> <td>   50.459</td> <td>   -0.259</td> <td> 0.796</td> <td> -143.382</td> <td>  117.280</td>\n",
       "</tr>\n",
       "<tr>\n",
       "  <th>marr</th>      <td>   31.3604</td> <td>   42.263</td> <td>    0.742</td> <td> 0.458</td> <td>  -77.801</td> <td>  140.522</td>\n",
       "</tr>\n",
       "<tr>\n",
       "  <th>union</th>     <td>   11.8657</td> <td>   38.186</td> <td>    0.311</td> <td> 0.756</td> <td>  -86.765</td> <td>  110.496</td>\n",
       "</tr>\n",
       "</table>"
      ],
      "text/plain": [
       "<class 'statsmodels.iolib.table.SimpleTable'>"
      ]
     },
     "execution_count": 150,
     "metadata": {},
     "output_type": "execute_result"
    }
   ],
   "source": [
    "models.summary(alpha = 0.01).tables[1]"
   ]
  },
  {
   "cell_type": "code",
   "execution_count": 151,
   "id": "df864500",
   "metadata": {},
   "outputs": [
    {
     "data": {
      "text/plain": [
       "<class 'statsmodels.stats.contrast.ContrastResults'>\n",
       "                             Test for Constraints                             \n",
       "==============================================================================\n",
       "                 coef    std err          t      P>|t|      [0.025      0.975]\n",
       "------------------------------------------------------------------------------\n",
       "c0           102.2718     41.925      0.054      0.957      19.957     184.586\n",
       "=============================================================================="
      ]
     },
     "execution_count": 151,
     "metadata": {},
     "output_type": "execute_result"
    }
   ],
   "source": [
    "models.t_test('south=100')"
   ]
  },
  {
   "cell_type": "code",
   "execution_count": 152,
   "id": "0c0be278",
   "metadata": {},
   "outputs": [
    {
     "data": {
      "text/plain": [
       "0.05"
      ]
     },
     "execution_count": 152,
     "metadata": {},
     "output_type": "execute_result"
    }
   ],
   "source": [
    "hip = 100\n",
    "beta_cap = 102.2718 \n",
    "ste_cap = 41.925\n",
    "t_nabl = np.abs((beta_cap-hip)/ste_cap)\n",
    "t_nabl.round(2)"
   ]
  },
  {
   "cell_type": "code",
   "execution_count": 153,
   "id": "af0579f1",
   "metadata": {},
   "outputs": [
    {
     "data": {
      "text/plain": [
       "2.58"
      ]
     },
     "execution_count": 153,
     "metadata": {},
     "output_type": "execute_result"
    }
   ],
   "source": [
    "n = len(df_lab)\n",
    "alpha = 0.01\n",
    "k = 8\n",
    "t_crit = stats.t.ppf(1 - alpha/2, n - k)\n",
    "round(t_crit, 2)"
   ]
  },
  {
   "cell_type": "code",
   "execution_count": 154,
   "id": "7ff48125",
   "metadata": {},
   "outputs": [
    {
     "name": "stdout",
     "output_type": "stream",
     "text": [
      "Незначимо\n"
     ]
    }
   ],
   "source": [
    "if t_nabl > t_crit:\n",
    "    print('Значимо')\n",
    "else:\n",
    "    print('Незначимо')"
   ]
  },
  {
   "cell_type": "markdown",
   "id": "af5486b0",
   "metadata": {},
   "source": [
    "# <span style = \"color:pink\" > Вывод: $\\beta_{male}$ значительно отличается от 90"
   ]
  },
  {
   "cell_type": "code",
   "execution_count": null,
   "id": "7a8b7f9d",
   "metadata": {},
   "outputs": [],
   "source": []
  }
 ],
 "metadata": {
  "kernelspec": {
   "display_name": "Python 3 (ipykernel)",
   "language": "python",
   "name": "python3"
  },
  "language_info": {
   "codemirror_mode": {
    "name": "ipython",
    "version": 3
   },
   "file_extension": ".py",
   "mimetype": "text/x-python",
   "name": "python",
   "nbconvert_exporter": "python",
   "pygments_lexer": "ipython3",
   "version": "3.9.16"
  }
 },
 "nbformat": 4,
 "nbformat_minor": 5
}
