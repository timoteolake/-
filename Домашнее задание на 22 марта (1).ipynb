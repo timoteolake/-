{
 "cells": [
  {
   "cell_type": "markdown",
   "id": "66affd21",
   "metadata": {},
   "source": [
    "# 1.2.4  Задача"
   ]
  },
  {
   "cell_type": "code",
   "execution_count": 4,
   "id": "ddc2f021",
   "metadata": {},
   "outputs": [],
   "source": [
    "import numpy as np\n",
    "import pandas as pd\n",
    "import io\n",
    "import statsmodels.formula.api as smf"
   ]
  },
  {
   "cell_type": "code",
   "execution_count": 17,
   "id": "b52054ab",
   "metadata": {},
   "outputs": [
    {
     "data": {
      "text/html": [
       "<div>\n",
       "<style scoped>\n",
       "    .dataframe tbody tr th:only-of-type {\n",
       "        vertical-align: middle;\n",
       "    }\n",
       "\n",
       "    .dataframe tbody tr th {\n",
       "        vertical-align: top;\n",
       "    }\n",
       "\n",
       "    .dataframe thead th {\n",
       "        text-align: right;\n",
       "    }\n",
       "</style>\n",
       "<table border=\"1\" class=\"dataframe\">\n",
       "  <thead>\n",
       "    <tr style=\"text-align: right;\">\n",
       "      <th></th>\n",
       "      <th>остаток</th>\n",
       "    </tr>\n",
       "  </thead>\n",
       "  <tbody>\n",
       "    <tr>\n",
       "      <th>0</th>\n",
       "      <td>-0.24</td>\n",
       "    </tr>\n",
       "    <tr>\n",
       "      <th>1</th>\n",
       "      <td>0.41</td>\n",
       "    </tr>\n",
       "    <tr>\n",
       "      <th>2</th>\n",
       "      <td>1.22</td>\n",
       "    </tr>\n",
       "    <tr>\n",
       "      <th>3</th>\n",
       "      <td>-0.93</td>\n",
       "    </tr>\n",
       "    <tr>\n",
       "      <th>4</th>\n",
       "      <td>-0.37</td>\n",
       "    </tr>\n",
       "    <tr>\n",
       "      <th>5</th>\n",
       "      <td>-1.33</td>\n",
       "    </tr>\n",
       "    <tr>\n",
       "      <th>6</th>\n",
       "      <td>0.16</td>\n",
       "    </tr>\n",
       "    <tr>\n",
       "      <th>7</th>\n",
       "      <td>-0.27</td>\n",
       "    </tr>\n",
       "    <tr>\n",
       "      <th>8</th>\n",
       "      <td>0.06</td>\n",
       "    </tr>\n",
       "    <tr>\n",
       "      <th>9</th>\n",
       "      <td>1.29</td>\n",
       "    </tr>\n",
       "  </tbody>\n",
       "</table>\n",
       "</div>"
      ],
      "text/plain": [
       "   остаток\n",
       "0    -0.24\n",
       "1     0.41\n",
       "2     1.22\n",
       "3    -0.93\n",
       "4    -0.37\n",
       "5    -1.33\n",
       "6     0.16\n",
       "7    -0.27\n",
       "8     0.06\n",
       "9     1.29"
      ]
     },
     "execution_count": 17,
     "metadata": {},
     "output_type": "execute_result"
    }
   ],
   "source": [
    "aa = '''остаток \n",
    "-0.24  \n",
    "0.41  \n",
    "1.22 \n",
    "-0.93 \n",
    "-0.37 \n",
    "-1.33  \n",
    "0.16 \n",
    "-0.27  \n",
    "0.06  \n",
    "1.29'''\n",
    "df = pd.read_csv(io.StringIO(aa), sep='\\s+')\n",
    "df"
   ]
  },
  {
   "cell_type": "code",
   "execution_count": 32,
   "id": "a6194923",
   "metadata": {},
   "outputs": [
    {
     "data": {
      "text/plain": [
       "остаток    6.25\n",
       "dtype: float64"
      ]
     },
     "execution_count": 32,
     "metadata": {},
     "output_type": "execute_result"
    }
   ],
   "source": [
    "RSS = np.sum((df)**2)\n",
    "round (RSS, 2)"
   ]
  },
  {
   "cell_type": "code",
   "execution_count": 37,
   "id": "dcdc226c",
   "metadata": {},
   "outputs": [
    {
     "data": {
      "text/plain": [
       "остаток    0.88\n",
       "dtype: float64"
      ]
     },
     "execution_count": 37,
     "metadata": {},
     "output_type": "execute_result"
    }
   ],
   "source": [
    "s = (RSS/(10-2))**0.5\n",
    "round (s, 2)"
   ]
  },
  {
   "cell_type": "markdown",
   "id": "e8ad3617",
   "metadata": {},
   "source": [
    "# 1.2.5 Задача"
   ]
  },
  {
   "cell_type": "code",
   "execution_count": 43,
   "id": "c5372e26",
   "metadata": {
    "scrolled": true
   },
   "outputs": [
    {
     "data": {
      "text/html": [
       "<div>\n",
       "<style scoped>\n",
       "    .dataframe tbody tr th:only-of-type {\n",
       "        vertical-align: middle;\n",
       "    }\n",
       "\n",
       "    .dataframe tbody tr th {\n",
       "        vertical-align: top;\n",
       "    }\n",
       "\n",
       "    .dataframe thead th {\n",
       "        text-align: right;\n",
       "    }\n",
       "</style>\n",
       "<table border=\"1\" class=\"dataframe\">\n",
       "  <thead>\n",
       "    <tr style=\"text-align: right;\">\n",
       "      <th></th>\n",
       "      <th>sleep/60</th>\n",
       "      <th>totwrk</th>\n",
       "      <th>age</th>\n",
       "      <th>y.hat</th>\n",
       "    </tr>\n",
       "  </thead>\n",
       "  <tbody>\n",
       "    <tr>\n",
       "      <th>0</th>\n",
       "      <td>51.88</td>\n",
       "      <td>3438</td>\n",
       "      <td>32</td>\n",
       "      <td>51.00</td>\n",
       "    </tr>\n",
       "    <tr>\n",
       "      <th>1</th>\n",
       "      <td>48.67</td>\n",
       "      <td>5020</td>\n",
       "      <td>31</td>\n",
       "      <td>44.43</td>\n",
       "    </tr>\n",
       "    <tr>\n",
       "      <th>2</th>\n",
       "      <td>44.50</td>\n",
       "      <td>2815</td>\n",
       "      <td>44</td>\n",
       "      <td>53.72</td>\n",
       "    </tr>\n",
       "    <tr>\n",
       "      <th>3</th>\n",
       "      <td>51.38</td>\n",
       "      <td>3786</td>\n",
       "      <td>30</td>\n",
       "      <td>49.53</td>\n",
       "    </tr>\n",
       "    <tr>\n",
       "      <th>4</th>\n",
       "      <td>57.47</td>\n",
       "      <td>2580</td>\n",
       "      <td>64</td>\n",
       "      <td>54.92</td>\n",
       "    </tr>\n",
       "    <tr>\n",
       "      <th>5</th>\n",
       "      <td>67.72</td>\n",
       "      <td>1205</td>\n",
       "      <td>41</td>\n",
       "      <td>60.36</td>\n",
       "    </tr>\n",
       "    <tr>\n",
       "      <th>6</th>\n",
       "      <td>53.00</td>\n",
       "      <td>2113</td>\n",
       "      <td>35</td>\n",
       "      <td>56.53</td>\n",
       "    </tr>\n",
       "    <tr>\n",
       "      <th>7</th>\n",
       "      <td>48.80</td>\n",
       "      <td>3608</td>\n",
       "      <td>47</td>\n",
       "      <td>50.46</td>\n",
       "    </tr>\n",
       "    <tr>\n",
       "      <th>8</th>\n",
       "      <td>56.13</td>\n",
       "      <td>2353</td>\n",
       "      <td>32</td>\n",
       "      <td>55.50</td>\n",
       "    </tr>\n",
       "    <tr>\n",
       "      <th>9</th>\n",
       "      <td>50.30</td>\n",
       "      <td>2851</td>\n",
       "      <td>30</td>\n",
       "      <td>53.41</td>\n",
       "    </tr>\n",
       "  </tbody>\n",
       "</table>\n",
       "</div>"
      ],
      "text/plain": [
       "   sleep/60  totwrk  age  y.hat\n",
       "0     51.88    3438   32  51.00\n",
       "1     48.67    5020   31  44.43\n",
       "2     44.50    2815   44  53.72\n",
       "3     51.38    3786   30  49.53\n",
       "4     57.47    2580   64  54.92\n",
       "5     67.72    1205   41  60.36\n",
       "6     53.00    2113   35  56.53\n",
       "7     48.80    3608   47  50.46\n",
       "8     56.13    2353   32  55.50\n",
       "9     50.30    2851   30  53.41"
      ]
     },
     "execution_count": 43,
     "metadata": {},
     "output_type": "execute_result"
    }
   ],
   "source": [
    "qq = '''sleep/60 totwrk age y.hat\n",
    "51.88     3438  32  51.00\n",
    "48.67     5020  31  44.43\n",
    "44.50     2815  44  53.72\n",
    "51.38     3786  30  49.53\n",
    "57.47     2580  64  54.92\n",
    "67.72     1205  41  60.36\n",
    "53        2113  35  56.53\n",
    "48.80     3608  47  50.46\n",
    "56.13     2353  32  55.50\n",
    "50.30     2851  30  53.41'''\n",
    "df = pd.read_csv(io.StringIO(qq), sep='\\s+')\n",
    "df"
   ]
  },
  {
   "cell_type": "code",
   "execution_count": 44,
   "id": "8d7b9b04",
   "metadata": {},
   "outputs": [
    {
     "data": {
      "text/plain": [
       "366.26"
      ]
     },
     "execution_count": 44,
     "metadata": {},
     "output_type": "execute_result"
    }
   ],
   "source": [
    "TSS = ((df['sleep/60'] - np.mean(df['sleep/60']))**2).sum()\n",
    "TSS.round(2)"
   ]
  },
  {
   "cell_type": "code",
   "execution_count": 51,
   "id": "5944c2d2",
   "metadata": {},
   "outputs": [
    {
     "data": {
      "text/plain": [
       "193.14"
      ]
     },
     "execution_count": 51,
     "metadata": {},
     "output_type": "execute_result"
    }
   ],
   "source": [
    "RSS = ((df['sleep/60'] - df['y.hat'])**2).sum()\n",
    "RSS.round(2)"
   ]
  },
  {
   "cell_type": "code",
   "execution_count": 53,
   "id": "b10be807",
   "metadata": {},
   "outputs": [
    {
     "data": {
      "text/plain": [
       "173.12"
      ]
     },
     "execution_count": 53,
     "metadata": {},
     "output_type": "execute_result"
    }
   ],
   "source": [
    "ESS = TSS-RSS\n",
    "ESS.round(2)"
   ]
  },
  {
   "cell_type": "markdown",
   "id": "afb2f4d1",
   "metadata": {},
   "source": [
    "# 1.2.6 Задача"
   ]
  },
  {
   "cell_type": "code",
   "execution_count": 55,
   "id": "b3fd9e73",
   "metadata": {},
   "outputs": [
    {
     "data": {
      "text/html": [
       "<div>\n",
       "<style scoped>\n",
       "    .dataframe tbody tr th:only-of-type {\n",
       "        vertical-align: middle;\n",
       "    }\n",
       "\n",
       "    .dataframe tbody tr th {\n",
       "        vertical-align: top;\n",
       "    }\n",
       "\n",
       "    .dataframe thead th {\n",
       "        text-align: right;\n",
       "    }\n",
       "</style>\n",
       "<table border=\"1\" class=\"dataframe\">\n",
       "  <thead>\n",
       "    <tr style=\"text-align: right;\">\n",
       "      <th></th>\n",
       "      <th>log(output)</th>\n",
       "      <th>log(capital)</th>\n",
       "      <th>log(labour)</th>\n",
       "      <th>y.hat</th>\n",
       "    </tr>\n",
       "  </thead>\n",
       "  <tbody>\n",
       "    <tr>\n",
       "      <th>0</th>\n",
       "      <td>2.22</td>\n",
       "      <td>0.96</td>\n",
       "      <td>5.21</td>\n",
       "      <td>2.19</td>\n",
       "    </tr>\n",
       "    <tr>\n",
       "      <th>1</th>\n",
       "      <td>1.30</td>\n",
       "      <td>0.28</td>\n",
       "      <td>4.51</td>\n",
       "      <td>1.47</td>\n",
       "    </tr>\n",
       "    <tr>\n",
       "      <th>2</th>\n",
       "      <td>3.36</td>\n",
       "      <td>3.10</td>\n",
       "      <td>6.05</td>\n",
       "      <td>3.23</td>\n",
       "    </tr>\n",
       "    <tr>\n",
       "      <th>3</th>\n",
       "      <td>1.42</td>\n",
       "      <td>2.37</td>\n",
       "      <td>4.28</td>\n",
       "      <td>1.56</td>\n",
       "    </tr>\n",
       "    <tr>\n",
       "      <th>4</th>\n",
       "      <td>1.06</td>\n",
       "      <td>0.15</td>\n",
       "      <td>3.83</td>\n",
       "      <td>0.85</td>\n",
       "    </tr>\n",
       "    <tr>\n",
       "      <th>5</th>\n",
       "      <td>6.17</td>\n",
       "      <td>5.62</td>\n",
       "      <td>8.94</td>\n",
       "      <td>6.15</td>\n",
       "    </tr>\n",
       "    <tr>\n",
       "      <th>6</th>\n",
       "      <td>0.77</td>\n",
       "      <td>0.52</td>\n",
       "      <td>3.87</td>\n",
       "      <td>0.94</td>\n",
       "    </tr>\n",
       "    <tr>\n",
       "      <th>7</th>\n",
       "      <td>1.42</td>\n",
       "      <td>0.15</td>\n",
       "      <td>4.68</td>\n",
       "      <td>1.61</td>\n",
       "    </tr>\n",
       "    <tr>\n",
       "      <th>8</th>\n",
       "      <td>0.90</td>\n",
       "      <td>-0.13</td>\n",
       "      <td>3.56</td>\n",
       "      <td>0.57</td>\n",
       "    </tr>\n",
       "    <tr>\n",
       "      <th>9</th>\n",
       "      <td>1.35</td>\n",
       "      <td>1.25</td>\n",
       "      <td>4.28</td>\n",
       "      <td>1.40</td>\n",
       "    </tr>\n",
       "  </tbody>\n",
       "</table>\n",
       "</div>"
      ],
      "text/plain": [
       "   log(output)  log(capital)  log(labour)  y.hat\n",
       "0         2.22          0.96         5.21   2.19\n",
       "1         1.30          0.28         4.51   1.47\n",
       "2         3.36          3.10         6.05   3.23\n",
       "3         1.42          2.37         4.28   1.56\n",
       "4         1.06          0.15         3.83   0.85\n",
       "5         6.17          5.62         8.94   6.15\n",
       "6         0.77          0.52         3.87   0.94\n",
       "7         1.42          0.15         4.68   1.61\n",
       "8         0.90         -0.13         3.56   0.57\n",
       "9         1.35          1.25         4.28   1.40"
      ]
     },
     "execution_count": 55,
     "metadata": {},
     "output_type": "execute_result"
    }
   ],
   "source": [
    "xx = '''log(output) log(capital) log(labour) y.hat\n",
    "2.22            0.96        5.21     2.19 \n",
    "1.30            0.28        4.51     1.47 \n",
    "3.36            3.10        6.05     3.23 \n",
    "1.42            2.37        4.28     1.56 \n",
    "1.06            0.15        3.83     0.85 \n",
    "6.17            5.62        8.94     6.15 \n",
    "0.77            0.52        3.87     0.94 \n",
    "1.42            0.15        4.68     1.61 \n",
    "0.90           -0.13        3.56     0.57 \n",
    "1.35            1.25        4.28     1.40 '''\n",
    "df = pd.read_csv(io.StringIO(xx), sep='\\s+')\n",
    "df"
   ]
  },
  {
   "cell_type": "code",
   "execution_count": 56,
   "id": "f7a2f8c3",
   "metadata": {},
   "outputs": [
    {
     "data": {
      "text/plain": [
       "24.48"
      ]
     },
     "execution_count": 56,
     "metadata": {},
     "output_type": "execute_result"
    }
   ],
   "source": [
    "TSS = ((df['log(output)'] - np.mean(df['log(output)']))**2).sum()\n",
    "TSS.round(2)"
   ]
  },
  {
   "cell_type": "code",
   "execution_count": 57,
   "id": "bd63abda",
   "metadata": {},
   "outputs": [
    {
     "data": {
      "text/plain": [
       "0.29"
      ]
     },
     "execution_count": 57,
     "metadata": {},
     "output_type": "execute_result"
    }
   ],
   "source": [
    "RSS = ((df['log(output)'] - df['y.hat'])**2).sum()\n",
    "RSS.round(2)"
   ]
  },
  {
   "cell_type": "code",
   "execution_count": 58,
   "id": "8969ef41",
   "metadata": {},
   "outputs": [
    {
     "data": {
      "text/plain": [
       "24.19"
      ]
     },
     "execution_count": 58,
     "metadata": {},
     "output_type": "execute_result"
    }
   ],
   "source": [
    "ESS = TSS-RSS\n",
    "ESS.round(2)"
   ]
  },
  {
   "cell_type": "markdown",
   "id": "0defe01a",
   "metadata": {},
   "source": [
    "# 1.2.7 Задача"
   ]
  },
  {
   "cell_type": "code",
   "execution_count": 277,
   "id": "4d006ba1",
   "metadata": {},
   "outputs": [
    {
     "data": {
      "text/plain": [
       "132.739"
      ]
     },
     "execution_count": 277,
     "metadata": {},
     "output_type": "execute_result"
    }
   ],
   "source": [
    "RSE = 0.378\n",
    "n = 935\n",
    "m = 6\n",
    "RSS = RSE**2*(n-m)\n",
    "round(RSS, 3)"
   ]
  },
  {
   "cell_type": "markdown",
   "id": "17b51489",
   "metadata": {},
   "source": [
    "# 1.2.8 Задача"
   ]
  },
  {
   "cell_type": "code",
   "execution_count": 69,
   "id": "c0425930",
   "metadata": {},
   "outputs": [
    {
     "data": {
      "text/plain": [
       "165.962"
      ]
     },
     "execution_count": 69,
     "metadata": {},
     "output_type": "execute_result"
    }
   ],
   "source": [
    "RSE = 0.383\n",
    "R2 = 0.178\n",
    "n = 935\n",
    "m = 5\n",
    "RSS = RSE**2*(n-m)\n",
    "TSS = RSS/(1-R2)\n",
    "round(TSS, 3)"
   ]
  },
  {
   "cell_type": "markdown",
   "id": "2ef51ecd",
   "metadata": {},
   "source": [
    "# 1.2.9 Задача"
   ]
  },
  {
   "cell_type": "code",
   "execution_count": 70,
   "id": "e95b4eb4",
   "metadata": {},
   "outputs": [
    {
     "data": {
      "text/plain": [
       "24.666"
      ]
     },
     "execution_count": 70,
     "metadata": {},
     "output_type": "execute_result"
    }
   ],
   "source": [
    "RSE = 0.389\n",
    "R2 = 0.149\n",
    "n = 935\n",
    "m = 4\n",
    "RSS = RSE**2*(n-m)\n",
    "TSS = RSS/(1-R2)\n",
    "ESS = TSS - RSS\n",
    "round(ESS, 3)"
   ]
  },
  {
   "cell_type": "markdown",
   "id": "6b37ab7d",
   "metadata": {},
   "source": [
    "# 2.3 Задача"
   ]
  },
  {
   "cell_type": "code",
   "execution_count": 284,
   "id": "fd615264",
   "metadata": {
    "scrolled": true
   },
   "outputs": [
    {
     "data": {
      "text/html": [
       "<div>\n",
       "<style scoped>\n",
       "    .dataframe tbody tr th:only-of-type {\n",
       "        vertical-align: middle;\n",
       "    }\n",
       "\n",
       "    .dataframe tbody tr th {\n",
       "        vertical-align: top;\n",
       "    }\n",
       "\n",
       "    .dataframe thead th {\n",
       "        text-align: right;\n",
       "    }\n",
       "</style>\n",
       "<table border=\"1\" class=\"dataframe\">\n",
       "  <thead>\n",
       "    <tr style=\"text-align: right;\">\n",
       "      <th></th>\n",
       "      <th>sleep/60</th>\n",
       "      <th>totwrk</th>\n",
       "      <th>age</th>\n",
       "      <th>y.hat</th>\n",
       "    </tr>\n",
       "  </thead>\n",
       "  <tbody>\n",
       "    <tr>\n",
       "      <th>0</th>\n",
       "      <td>51.88</td>\n",
       "      <td>3438</td>\n",
       "      <td>32</td>\n",
       "      <td>51.00</td>\n",
       "    </tr>\n",
       "    <tr>\n",
       "      <th>1</th>\n",
       "      <td>48.67</td>\n",
       "      <td>5020</td>\n",
       "      <td>31</td>\n",
       "      <td>44.43</td>\n",
       "    </tr>\n",
       "    <tr>\n",
       "      <th>2</th>\n",
       "      <td>44.50</td>\n",
       "      <td>2815</td>\n",
       "      <td>44</td>\n",
       "      <td>53.72</td>\n",
       "    </tr>\n",
       "    <tr>\n",
       "      <th>3</th>\n",
       "      <td>51.38</td>\n",
       "      <td>3786</td>\n",
       "      <td>30</td>\n",
       "      <td>49.53</td>\n",
       "    </tr>\n",
       "    <tr>\n",
       "      <th>4</th>\n",
       "      <td>57.47</td>\n",
       "      <td>2580</td>\n",
       "      <td>64</td>\n",
       "      <td>54.92</td>\n",
       "    </tr>\n",
       "    <tr>\n",
       "      <th>5</th>\n",
       "      <td>67.72</td>\n",
       "      <td>1205</td>\n",
       "      <td>41</td>\n",
       "      <td>60.36</td>\n",
       "    </tr>\n",
       "    <tr>\n",
       "      <th>6</th>\n",
       "      <td>53.00</td>\n",
       "      <td>2113</td>\n",
       "      <td>35</td>\n",
       "      <td>56.53</td>\n",
       "    </tr>\n",
       "    <tr>\n",
       "      <th>7</th>\n",
       "      <td>48.80</td>\n",
       "      <td>3608</td>\n",
       "      <td>47</td>\n",
       "      <td>50.46</td>\n",
       "    </tr>\n",
       "    <tr>\n",
       "      <th>8</th>\n",
       "      <td>56.13</td>\n",
       "      <td>2353</td>\n",
       "      <td>32</td>\n",
       "      <td>55.50</td>\n",
       "    </tr>\n",
       "    <tr>\n",
       "      <th>9</th>\n",
       "      <td>50.30</td>\n",
       "      <td>2851</td>\n",
       "      <td>30</td>\n",
       "      <td>53.41</td>\n",
       "    </tr>\n",
       "  </tbody>\n",
       "</table>\n",
       "</div>"
      ],
      "text/plain": [
       "   sleep/60  totwrk  age  y.hat\n",
       "0     51.88    3438   32  51.00\n",
       "1     48.67    5020   31  44.43\n",
       "2     44.50    2815   44  53.72\n",
       "3     51.38    3786   30  49.53\n",
       "4     57.47    2580   64  54.92\n",
       "5     67.72    1205   41  60.36\n",
       "6     53.00    2113   35  56.53\n",
       "7     48.80    3608   47  50.46\n",
       "8     56.13    2353   32  55.50\n",
       "9     50.30    2851   30  53.41"
      ]
     },
     "execution_count": 284,
     "metadata": {},
     "output_type": "execute_result"
    }
   ],
   "source": [
    "xx = '''sleep/60 totwrk age y.hat\n",
    "51.88     3438  32  51.00\n",
    "48.67     5020  31  44.43\n",
    "44.50     2815  44  53.72\n",
    "51.38     3786  30  49.53\n",
    "57.47     2580  64  54.92\n",
    "67.72     1205  41  60.36\n",
    "53        2113  35  56.53\n",
    "48.80     3608  47  50.46\n",
    "56.13     2353  32  55.50\n",
    "50.30     2851  30  53.41 '''\n",
    "df = pd.read_csv(io.StringIO(xx), sep='\\s+')\n",
    "df"
   ]
  },
  {
   "cell_type": "code",
   "execution_count": 285,
   "id": "cec24961",
   "metadata": {},
   "outputs": [
    {
     "data": {
      "text/plain": [
       "0.47"
      ]
     },
     "execution_count": 285,
     "metadata": {},
     "output_type": "execute_result"
    }
   ],
   "source": [
    "TSS = ((df['sleep/60'] - np.mean(df['sleep/60']))**2).sum()\n",
    "ESS = ((df['y.hat']- np.mean(df['sleep/60']))**2).sum()\n",
    "R2 = ESS/TSS\n",
    "R2.round(2)"
   ]
  },
  {
   "cell_type": "code",
   "execution_count": 286,
   "id": "fda6559b",
   "metadata": {},
   "outputs": [
    {
     "data": {
      "text/plain": [
       "0.32"
      ]
     },
     "execution_count": 286,
     "metadata": {},
     "output_type": "execute_result"
    }
   ],
   "source": [
    "RSS = TSS - ESS\n",
    "n = len(df)\n",
    "k = 3\n",
    "RSS_adj = 1 - (RSS/TSS)*((n-1)/(n-k))\n",
    "RSS_adj.round(2)"
   ]
  },
  {
   "cell_type": "markdown",
   "id": "a7ed20d6",
   "metadata": {},
   "source": [
    "# 2.4 Задача"
   ]
  },
  {
   "cell_type": "code",
   "execution_count": 70,
   "id": "1984e62d",
   "metadata": {
    "scrolled": false
   },
   "outputs": [
    {
     "data": {
      "text/html": [
       "<div>\n",
       "<style scoped>\n",
       "    .dataframe tbody tr th:only-of-type {\n",
       "        vertical-align: middle;\n",
       "    }\n",
       "\n",
       "    .dataframe tbody tr th {\n",
       "        vertical-align: top;\n",
       "    }\n",
       "\n",
       "    .dataframe thead th {\n",
       "        text-align: right;\n",
       "    }\n",
       "</style>\n",
       "<table border=\"1\" class=\"dataframe\">\n",
       "  <thead>\n",
       "    <tr style=\"text-align: right;\">\n",
       "      <th></th>\n",
       "      <th>log(output)</th>\n",
       "      <th>log(capital)</th>\n",
       "      <th>log(labour)</th>\n",
       "      <th>y.hat</th>\n",
       "    </tr>\n",
       "  </thead>\n",
       "  <tbody>\n",
       "    <tr>\n",
       "      <th>0</th>\n",
       "      <td>2.22</td>\n",
       "      <td>0.96</td>\n",
       "      <td>5.21</td>\n",
       "      <td>2.19</td>\n",
       "    </tr>\n",
       "    <tr>\n",
       "      <th>1</th>\n",
       "      <td>1.30</td>\n",
       "      <td>0.28</td>\n",
       "      <td>4.51</td>\n",
       "      <td>1.47</td>\n",
       "    </tr>\n",
       "    <tr>\n",
       "      <th>2</th>\n",
       "      <td>3.36</td>\n",
       "      <td>3.10</td>\n",
       "      <td>6.05</td>\n",
       "      <td>3.23</td>\n",
       "    </tr>\n",
       "    <tr>\n",
       "      <th>3</th>\n",
       "      <td>1.42</td>\n",
       "      <td>2.37</td>\n",
       "      <td>4.28</td>\n",
       "      <td>1.56</td>\n",
       "    </tr>\n",
       "    <tr>\n",
       "      <th>4</th>\n",
       "      <td>1.06</td>\n",
       "      <td>0.15</td>\n",
       "      <td>3.83</td>\n",
       "      <td>0.85</td>\n",
       "    </tr>\n",
       "    <tr>\n",
       "      <th>5</th>\n",
       "      <td>6.17</td>\n",
       "      <td>5.62</td>\n",
       "      <td>8.94</td>\n",
       "      <td>6.15</td>\n",
       "    </tr>\n",
       "    <tr>\n",
       "      <th>6</th>\n",
       "      <td>0.77</td>\n",
       "      <td>0.52</td>\n",
       "      <td>3.87</td>\n",
       "      <td>0.94</td>\n",
       "    </tr>\n",
       "    <tr>\n",
       "      <th>7</th>\n",
       "      <td>1.42</td>\n",
       "      <td>0.15</td>\n",
       "      <td>4.68</td>\n",
       "      <td>1.61</td>\n",
       "    </tr>\n",
       "    <tr>\n",
       "      <th>8</th>\n",
       "      <td>0.90</td>\n",
       "      <td>-0.13</td>\n",
       "      <td>3.56</td>\n",
       "      <td>0.57</td>\n",
       "    </tr>\n",
       "    <tr>\n",
       "      <th>9</th>\n",
       "      <td>1.35</td>\n",
       "      <td>1.25</td>\n",
       "      <td>4.28</td>\n",
       "      <td>1.40</td>\n",
       "    </tr>\n",
       "  </tbody>\n",
       "</table>\n",
       "</div>"
      ],
      "text/plain": [
       "   log(output)  log(capital)  log(labour)  y.hat\n",
       "0         2.22          0.96         5.21   2.19\n",
       "1         1.30          0.28         4.51   1.47\n",
       "2         3.36          3.10         6.05   3.23\n",
       "3         1.42          2.37         4.28   1.56\n",
       "4         1.06          0.15         3.83   0.85\n",
       "5         6.17          5.62         8.94   6.15\n",
       "6         0.77          0.52         3.87   0.94\n",
       "7         1.42          0.15         4.68   1.61\n",
       "8         0.90         -0.13         3.56   0.57\n",
       "9         1.35          1.25         4.28   1.40"
      ]
     },
     "execution_count": 70,
     "metadata": {},
     "output_type": "execute_result"
    }
   ],
   "source": [
    "qq = '''log(output) log(capital) log(labour) y.hat\n",
    "2.22            0.96        5.21     2.19 \n",
    "1.30            0.28        4.51     1.47 \n",
    "3.36            3.10        6.05     3.23 \n",
    "1.42            2.37        4.28     1.56 \n",
    "1.06            0.15        3.83     0.85 \n",
    "6.17            5.62        8.94     6.15 \n",
    "0.77            0.52        3.87     0.94 \n",
    "1.42            0.15        4.68     1.61 \n",
    "0.90           -0.13        3.56     0.57 \n",
    "1.35            1.25        4.28     1.40 '''\n",
    "df = pd.read_csv(io.StringIO(qq), sep='\\s+')\n",
    "df"
   ]
  },
  {
   "cell_type": "code",
   "execution_count": 71,
   "id": "91deb222",
   "metadata": {},
   "outputs": [
    {
     "data": {
      "text/plain": [
       "0.99"
      ]
     },
     "execution_count": 71,
     "metadata": {},
     "output_type": "execute_result"
    }
   ],
   "source": [
    "TSS = ((df['log(output)'] - np.mean(df['log(output)']))**2).sum()\n",
    "ESS = ((df['y.hat']- np.mean(df['log(output)']))**2).sum()\n",
    "R2 = ESS/TSS\n",
    "R2.round(2)"
   ]
  },
  {
   "cell_type": "code",
   "execution_count": 72,
   "id": "6d46e1fd",
   "metadata": {},
   "outputs": [
    {
     "data": {
      "text/plain": [
       "0.99"
      ]
     },
     "execution_count": 72,
     "metadata": {},
     "output_type": "execute_result"
    }
   ],
   "source": [
    "RSS = TSS - ESS\n",
    "n = len(df)\n",
    "k = 2\n",
    "RSS_adj = 1 - (RSS/TSS)*((n-1)/(n-k))\n",
    "RSS_adj.round(2)"
   ]
  },
  {
   "cell_type": "markdown",
   "id": "151ea922",
   "metadata": {},
   "source": [
    "# 3.2 Sleep equation (smsa only)"
   ]
  },
  {
   "cell_type": "code",
   "execution_count": 119,
   "id": "f1b4c5b8",
   "metadata": {},
   "outputs": [],
   "source": [
    "import pandas as pd\n",
    "import numpy as np\n",
    "import statsmodels.formula.api as smf\n",
    "import statsmodels.api as sm"
   ]
  },
  {
   "cell_type": "code",
   "execution_count": 232,
   "id": "d946d347",
   "metadata": {},
   "outputs": [
    {
     "data": {
      "text/plain": [
       "Intercept    3460.43\n",
       "totwrk         -0.18\n",
       "age             2.28\n",
       "male           92.65\n",
       "south         168.85\n",
       "dtype: float64"
      ]
     },
     "execution_count": 232,
     "metadata": {},
     "output_type": "execute_result"
    }
   ],
   "source": [
    "df = pd.read_csv('https://github.com/artamonoff/Econometrica/raw/master/python-notebooks/data-csv/sleep75.csv')\n",
    "sleep_eq = smf.ols(formula='sleep~totwrk+age+male+south', data=df[df['smsa']==1]).fit()\n",
    "sleep_eq.params.round(2)"
   ]
  },
  {
   "cell_type": "code",
   "execution_count": 233,
   "id": "9ffcb205",
   "metadata": {},
   "outputs": [
    {
     "data": {
      "text/html": [
       "<div>\n",
       "<style scoped>\n",
       "    .dataframe tbody tr th:only-of-type {\n",
       "        vertical-align: middle;\n",
       "    }\n",
       "\n",
       "    .dataframe tbody tr th {\n",
       "        vertical-align: top;\n",
       "    }\n",
       "\n",
       "    .dataframe thead th {\n",
       "        text-align: right;\n",
       "    }\n",
       "</style>\n",
       "<table border=\"1\" class=\"dataframe\">\n",
       "  <thead>\n",
       "    <tr style=\"text-align: right;\">\n",
       "      <th></th>\n",
       "      <th>age</th>\n",
       "      <th>black</th>\n",
       "      <th>case</th>\n",
       "      <th>clerical</th>\n",
       "      <th>construc</th>\n",
       "      <th>educ</th>\n",
       "      <th>earns74</th>\n",
       "      <th>gdhlth</th>\n",
       "      <th>inlf</th>\n",
       "      <th>leis1</th>\n",
       "      <th>...</th>\n",
       "      <th>spwrk75</th>\n",
       "      <th>totwrk</th>\n",
       "      <th>union</th>\n",
       "      <th>worknrm</th>\n",
       "      <th>workscnd</th>\n",
       "      <th>exper</th>\n",
       "      <th>yngkid</th>\n",
       "      <th>yrsmarr</th>\n",
       "      <th>hrwage</th>\n",
       "      <th>agesq</th>\n",
       "    </tr>\n",
       "  </thead>\n",
       "  <tbody>\n",
       "    <tr>\n",
       "      <th>0</th>\n",
       "      <td>32</td>\n",
       "      <td>0</td>\n",
       "      <td>1</td>\n",
       "      <td>0.000000</td>\n",
       "      <td>0.000000</td>\n",
       "      <td>12</td>\n",
       "      <td>0</td>\n",
       "      <td>0</td>\n",
       "      <td>1</td>\n",
       "      <td>3529</td>\n",
       "      <td>...</td>\n",
       "      <td>0</td>\n",
       "      <td>3438</td>\n",
       "      <td>0</td>\n",
       "      <td>3438</td>\n",
       "      <td>0</td>\n",
       "      <td>14</td>\n",
       "      <td>0</td>\n",
       "      <td>13</td>\n",
       "      <td>7.070004</td>\n",
       "      <td>1024</td>\n",
       "    </tr>\n",
       "    <tr>\n",
       "      <th>1</th>\n",
       "      <td>31</td>\n",
       "      <td>0</td>\n",
       "      <td>2</td>\n",
       "      <td>0.000000</td>\n",
       "      <td>0.000000</td>\n",
       "      <td>14</td>\n",
       "      <td>9500</td>\n",
       "      <td>1</td>\n",
       "      <td>1</td>\n",
       "      <td>2140</td>\n",
       "      <td>...</td>\n",
       "      <td>0</td>\n",
       "      <td>5020</td>\n",
       "      <td>0</td>\n",
       "      <td>5020</td>\n",
       "      <td>0</td>\n",
       "      <td>11</td>\n",
       "      <td>0</td>\n",
       "      <td>0</td>\n",
       "      <td>1.429999</td>\n",
       "      <td>961</td>\n",
       "    </tr>\n",
       "    <tr>\n",
       "      <th>2</th>\n",
       "      <td>44</td>\n",
       "      <td>0</td>\n",
       "      <td>3</td>\n",
       "      <td>0.000000</td>\n",
       "      <td>0.000000</td>\n",
       "      <td>17</td>\n",
       "      <td>42500</td>\n",
       "      <td>1</td>\n",
       "      <td>1</td>\n",
       "      <td>4595</td>\n",
       "      <td>...</td>\n",
       "      <td>1</td>\n",
       "      <td>2815</td>\n",
       "      <td>0</td>\n",
       "      <td>2815</td>\n",
       "      <td>0</td>\n",
       "      <td>21</td>\n",
       "      <td>0</td>\n",
       "      <td>0</td>\n",
       "      <td>20.529997</td>\n",
       "      <td>1936</td>\n",
       "    </tr>\n",
       "    <tr>\n",
       "      <th>3</th>\n",
       "      <td>30</td>\n",
       "      <td>0</td>\n",
       "      <td>4</td>\n",
       "      <td>0.000000</td>\n",
       "      <td>0.000000</td>\n",
       "      <td>12</td>\n",
       "      <td>42500</td>\n",
       "      <td>1</td>\n",
       "      <td>1</td>\n",
       "      <td>3211</td>\n",
       "      <td>...</td>\n",
       "      <td>1</td>\n",
       "      <td>3786</td>\n",
       "      <td>0</td>\n",
       "      <td>3786</td>\n",
       "      <td>0</td>\n",
       "      <td>12</td>\n",
       "      <td>0</td>\n",
       "      <td>12</td>\n",
       "      <td>9.619998</td>\n",
       "      <td>900</td>\n",
       "    </tr>\n",
       "    <tr>\n",
       "      <th>4</th>\n",
       "      <td>64</td>\n",
       "      <td>0</td>\n",
       "      <td>5</td>\n",
       "      <td>0.000000</td>\n",
       "      <td>0.000000</td>\n",
       "      <td>14</td>\n",
       "      <td>2500</td>\n",
       "      <td>1</td>\n",
       "      <td>1</td>\n",
       "      <td>4052</td>\n",
       "      <td>...</td>\n",
       "      <td>1</td>\n",
       "      <td>2580</td>\n",
       "      <td>0</td>\n",
       "      <td>2580</td>\n",
       "      <td>0</td>\n",
       "      <td>44</td>\n",
       "      <td>0</td>\n",
       "      <td>33</td>\n",
       "      <td>2.750000</td>\n",
       "      <td>4096</td>\n",
       "    </tr>\n",
       "    <tr>\n",
       "      <th>...</th>\n",
       "      <td>...</td>\n",
       "      <td>...</td>\n",
       "      <td>...</td>\n",
       "      <td>...</td>\n",
       "      <td>...</td>\n",
       "      <td>...</td>\n",
       "      <td>...</td>\n",
       "      <td>...</td>\n",
       "      <td>...</td>\n",
       "      <td>...</td>\n",
       "      <td>...</td>\n",
       "      <td>...</td>\n",
       "      <td>...</td>\n",
       "      <td>...</td>\n",
       "      <td>...</td>\n",
       "      <td>...</td>\n",
       "      <td>...</td>\n",
       "      <td>...</td>\n",
       "      <td>...</td>\n",
       "      <td>...</td>\n",
       "      <td>...</td>\n",
       "    </tr>\n",
       "    <tr>\n",
       "      <th>701</th>\n",
       "      <td>45</td>\n",
       "      <td>0</td>\n",
       "      <td>702</td>\n",
       "      <td>0.182331</td>\n",
       "      <td>0.030075</td>\n",
       "      <td>12</td>\n",
       "      <td>5500</td>\n",
       "      <td>1</td>\n",
       "      <td>0</td>\n",
       "      <td>5069</td>\n",
       "      <td>...</td>\n",
       "      <td>1</td>\n",
       "      <td>2026</td>\n",
       "      <td>0</td>\n",
       "      <td>2026</td>\n",
       "      <td>0</td>\n",
       "      <td>27</td>\n",
       "      <td>0</td>\n",
       "      <td>18</td>\n",
       "      <td>NaN</td>\n",
       "      <td>2025</td>\n",
       "    </tr>\n",
       "    <tr>\n",
       "      <th>702</th>\n",
       "      <td>34</td>\n",
       "      <td>0</td>\n",
       "      <td>703</td>\n",
       "      <td>0.182331</td>\n",
       "      <td>0.030075</td>\n",
       "      <td>10</td>\n",
       "      <td>2500</td>\n",
       "      <td>0</td>\n",
       "      <td>0</td>\n",
       "      <td>5885</td>\n",
       "      <td>...</td>\n",
       "      <td>0</td>\n",
       "      <td>675</td>\n",
       "      <td>1</td>\n",
       "      <td>465</td>\n",
       "      <td>210</td>\n",
       "      <td>18</td>\n",
       "      <td>0</td>\n",
       "      <td>4</td>\n",
       "      <td>NaN</td>\n",
       "      <td>1156</td>\n",
       "    </tr>\n",
       "    <tr>\n",
       "      <th>703</th>\n",
       "      <td>37</td>\n",
       "      <td>0</td>\n",
       "      <td>704</td>\n",
       "      <td>0.182331</td>\n",
       "      <td>0.030075</td>\n",
       "      <td>12</td>\n",
       "      <td>3500</td>\n",
       "      <td>1</td>\n",
       "      <td>0</td>\n",
       "      <td>4719</td>\n",
       "      <td>...</td>\n",
       "      <td>1</td>\n",
       "      <td>1851</td>\n",
       "      <td>0</td>\n",
       "      <td>1851</td>\n",
       "      <td>0</td>\n",
       "      <td>19</td>\n",
       "      <td>0</td>\n",
       "      <td>17</td>\n",
       "      <td>NaN</td>\n",
       "      <td>1369</td>\n",
       "    </tr>\n",
       "    <tr>\n",
       "      <th>704</th>\n",
       "      <td>54</td>\n",
       "      <td>0</td>\n",
       "      <td>705</td>\n",
       "      <td>0.182331</td>\n",
       "      <td>0.030075</td>\n",
       "      <td>17</td>\n",
       "      <td>32500</td>\n",
       "      <td>1</td>\n",
       "      <td>0</td>\n",
       "      <td>5149</td>\n",
       "      <td>...</td>\n",
       "      <td>1</td>\n",
       "      <td>1961</td>\n",
       "      <td>1</td>\n",
       "      <td>1481</td>\n",
       "      <td>480</td>\n",
       "      <td>31</td>\n",
       "      <td>0</td>\n",
       "      <td>22</td>\n",
       "      <td>NaN</td>\n",
       "      <td>2916</td>\n",
       "    </tr>\n",
       "    <tr>\n",
       "      <th>705</th>\n",
       "      <td>30</td>\n",
       "      <td>0</td>\n",
       "      <td>706</td>\n",
       "      <td>0.182331</td>\n",
       "      <td>0.030075</td>\n",
       "      <td>16</td>\n",
       "      <td>6750</td>\n",
       "      <td>1</td>\n",
       "      <td>0</td>\n",
       "      <td>4747</td>\n",
       "      <td>...</td>\n",
       "      <td>0</td>\n",
       "      <td>2363</td>\n",
       "      <td>0</td>\n",
       "      <td>2363</td>\n",
       "      <td>0</td>\n",
       "      <td>8</td>\n",
       "      <td>1</td>\n",
       "      <td>9</td>\n",
       "      <td>NaN</td>\n",
       "      <td>900</td>\n",
       "    </tr>\n",
       "  </tbody>\n",
       "</table>\n",
       "<p>706 rows × 34 columns</p>\n",
       "</div>"
      ],
      "text/plain": [
       "     age  black  case  clerical  construc  educ  earns74  gdhlth  inlf  leis1  \\\n",
       "0     32      0     1  0.000000  0.000000    12        0       0     1   3529   \n",
       "1     31      0     2  0.000000  0.000000    14     9500       1     1   2140   \n",
       "2     44      0     3  0.000000  0.000000    17    42500       1     1   4595   \n",
       "3     30      0     4  0.000000  0.000000    12    42500       1     1   3211   \n",
       "4     64      0     5  0.000000  0.000000    14     2500       1     1   4052   \n",
       "..   ...    ...   ...       ...       ...   ...      ...     ...   ...    ...   \n",
       "701   45      0   702  0.182331  0.030075    12     5500       1     0   5069   \n",
       "702   34      0   703  0.182331  0.030075    10     2500       0     0   5885   \n",
       "703   37      0   704  0.182331  0.030075    12     3500       1     0   4719   \n",
       "704   54      0   705  0.182331  0.030075    17    32500       1     0   5149   \n",
       "705   30      0   706  0.182331  0.030075    16     6750       1     0   4747   \n",
       "\n",
       "     ...  spwrk75  totwrk  union  worknrm  workscnd  exper  yngkid  yrsmarr  \\\n",
       "0    ...        0    3438      0     3438         0     14       0       13   \n",
       "1    ...        0    5020      0     5020         0     11       0        0   \n",
       "2    ...        1    2815      0     2815         0     21       0        0   \n",
       "3    ...        1    3786      0     3786         0     12       0       12   \n",
       "4    ...        1    2580      0     2580         0     44       0       33   \n",
       "..   ...      ...     ...    ...      ...       ...    ...     ...      ...   \n",
       "701  ...        1    2026      0     2026         0     27       0       18   \n",
       "702  ...        0     675      1      465       210     18       0        4   \n",
       "703  ...        1    1851      0     1851         0     19       0       17   \n",
       "704  ...        1    1961      1     1481       480     31       0       22   \n",
       "705  ...        0    2363      0     2363         0      8       1        9   \n",
       "\n",
       "        hrwage  agesq  \n",
       "0     7.070004   1024  \n",
       "1     1.429999    961  \n",
       "2    20.529997   1936  \n",
       "3     9.619998    900  \n",
       "4     2.750000   4096  \n",
       "..         ...    ...  \n",
       "701        NaN   2025  \n",
       "702        NaN   1156  \n",
       "703        NaN   1369  \n",
       "704        NaN   2916  \n",
       "705        NaN    900  \n",
       "\n",
       "[706 rows x 34 columns]"
      ]
     },
     "execution_count": 233,
     "metadata": {},
     "output_type": "execute_result"
    }
   ],
   "source": [
    "df"
   ]
  },
  {
   "cell_type": "code",
   "execution_count": 234,
   "id": "2005a246",
   "metadata": {
    "scrolled": true
   },
   "outputs": [
    {
     "data": {
      "text/html": [
       "<div>\n",
       "<style scoped>\n",
       "    .dataframe tbody tr th:only-of-type {\n",
       "        vertical-align: middle;\n",
       "    }\n",
       "\n",
       "    .dataframe tbody tr th {\n",
       "        vertical-align: top;\n",
       "    }\n",
       "\n",
       "    .dataframe thead th {\n",
       "        text-align: right;\n",
       "    }\n",
       "</style>\n",
       "<table border=\"1\" class=\"dataframe\">\n",
       "  <thead>\n",
       "    <tr style=\"text-align: right;\">\n",
       "      <th></th>\n",
       "      <th>age</th>\n",
       "      <th>black</th>\n",
       "      <th>case</th>\n",
       "      <th>clerical</th>\n",
       "      <th>construc</th>\n",
       "      <th>educ</th>\n",
       "      <th>earns74</th>\n",
       "      <th>gdhlth</th>\n",
       "      <th>inlf</th>\n",
       "      <th>leis1</th>\n",
       "      <th>...</th>\n",
       "      <th>spwrk75</th>\n",
       "      <th>totwrk</th>\n",
       "      <th>union</th>\n",
       "      <th>worknrm</th>\n",
       "      <th>workscnd</th>\n",
       "      <th>exper</th>\n",
       "      <th>yngkid</th>\n",
       "      <th>yrsmarr</th>\n",
       "      <th>hrwage</th>\n",
       "      <th>agesq</th>\n",
       "    </tr>\n",
       "  </thead>\n",
       "  <tbody>\n",
       "    <tr>\n",
       "      <th>2</th>\n",
       "      <td>44</td>\n",
       "      <td>0</td>\n",
       "      <td>3</td>\n",
       "      <td>0.000000</td>\n",
       "      <td>0.000000</td>\n",
       "      <td>17</td>\n",
       "      <td>42500</td>\n",
       "      <td>1</td>\n",
       "      <td>1</td>\n",
       "      <td>4595</td>\n",
       "      <td>...</td>\n",
       "      <td>1</td>\n",
       "      <td>2815</td>\n",
       "      <td>0</td>\n",
       "      <td>2815</td>\n",
       "      <td>0</td>\n",
       "      <td>21</td>\n",
       "      <td>0</td>\n",
       "      <td>0</td>\n",
       "      <td>20.529997</td>\n",
       "      <td>1936</td>\n",
       "    </tr>\n",
       "    <tr>\n",
       "      <th>7</th>\n",
       "      <td>47</td>\n",
       "      <td>0</td>\n",
       "      <td>8</td>\n",
       "      <td>0.000000</td>\n",
       "      <td>0.000000</td>\n",
       "      <td>13</td>\n",
       "      <td>0</td>\n",
       "      <td>1</td>\n",
       "      <td>1</td>\n",
       "      <td>3544</td>\n",
       "      <td>...</td>\n",
       "      <td>0</td>\n",
       "      <td>3608</td>\n",
       "      <td>0</td>\n",
       "      <td>3608</td>\n",
       "      <td>0</td>\n",
       "      <td>28</td>\n",
       "      <td>0</td>\n",
       "      <td>24</td>\n",
       "      <td>15.010007</td>\n",
       "      <td>2209</td>\n",
       "    </tr>\n",
       "    <tr>\n",
       "      <th>9</th>\n",
       "      <td>30</td>\n",
       "      <td>0</td>\n",
       "      <td>10</td>\n",
       "      <td>0.000000</td>\n",
       "      <td>0.000000</td>\n",
       "      <td>15</td>\n",
       "      <td>11750</td>\n",
       "      <td>1</td>\n",
       "      <td>1</td>\n",
       "      <td>4211</td>\n",
       "      <td>...</td>\n",
       "      <td>1</td>\n",
       "      <td>2851</td>\n",
       "      <td>0</td>\n",
       "      <td>2851</td>\n",
       "      <td>0</td>\n",
       "      <td>9</td>\n",
       "      <td>0</td>\n",
       "      <td>7</td>\n",
       "      <td>2.959999</td>\n",
       "      <td>900</td>\n",
       "    </tr>\n",
       "    <tr>\n",
       "      <th>11</th>\n",
       "      <td>23</td>\n",
       "      <td>0</td>\n",
       "      <td>12</td>\n",
       "      <td>0.000000</td>\n",
       "      <td>0.000000</td>\n",
       "      <td>16</td>\n",
       "      <td>1000</td>\n",
       "      <td>1</td>\n",
       "      <td>1</td>\n",
       "      <td>6415</td>\n",
       "      <td>...</td>\n",
       "      <td>1</td>\n",
       "      <td>370</td>\n",
       "      <td>0</td>\n",
       "      <td>370</td>\n",
       "      <td>0</td>\n",
       "      <td>1</td>\n",
       "      <td>0</td>\n",
       "      <td>4</td>\n",
       "      <td>1.230000</td>\n",
       "      <td>529</td>\n",
       "    </tr>\n",
       "    <tr>\n",
       "      <th>12</th>\n",
       "      <td>24</td>\n",
       "      <td>0</td>\n",
       "      <td>13</td>\n",
       "      <td>0.000000</td>\n",
       "      <td>0.000000</td>\n",
       "      <td>16</td>\n",
       "      <td>1000</td>\n",
       "      <td>1</td>\n",
       "      <td>1</td>\n",
       "      <td>3844</td>\n",
       "      <td>...</td>\n",
       "      <td>1</td>\n",
       "      <td>2438</td>\n",
       "      <td>0</td>\n",
       "      <td>2438</td>\n",
       "      <td>0</td>\n",
       "      <td>2</td>\n",
       "      <td>0</td>\n",
       "      <td>4</td>\n",
       "      <td>1.230000</td>\n",
       "      <td>576</td>\n",
       "    </tr>\n",
       "    <tr>\n",
       "      <th>...</th>\n",
       "      <td>...</td>\n",
       "      <td>...</td>\n",
       "      <td>...</td>\n",
       "      <td>...</td>\n",
       "      <td>...</td>\n",
       "      <td>...</td>\n",
       "      <td>...</td>\n",
       "      <td>...</td>\n",
       "      <td>...</td>\n",
       "      <td>...</td>\n",
       "      <td>...</td>\n",
       "      <td>...</td>\n",
       "      <td>...</td>\n",
       "      <td>...</td>\n",
       "      <td>...</td>\n",
       "      <td>...</td>\n",
       "      <td>...</td>\n",
       "      <td>...</td>\n",
       "      <td>...</td>\n",
       "      <td>...</td>\n",
       "      <td>...</td>\n",
       "    </tr>\n",
       "    <tr>\n",
       "      <th>689</th>\n",
       "      <td>31</td>\n",
       "      <td>0</td>\n",
       "      <td>690</td>\n",
       "      <td>0.182331</td>\n",
       "      <td>0.030075</td>\n",
       "      <td>12</td>\n",
       "      <td>10500</td>\n",
       "      <td>1</td>\n",
       "      <td>0</td>\n",
       "      <td>4639</td>\n",
       "      <td>...</td>\n",
       "      <td>0</td>\n",
       "      <td>2373</td>\n",
       "      <td>0</td>\n",
       "      <td>2373</td>\n",
       "      <td>0</td>\n",
       "      <td>13</td>\n",
       "      <td>0</td>\n",
       "      <td>0</td>\n",
       "      <td>NaN</td>\n",
       "      <td>961</td>\n",
       "    </tr>\n",
       "    <tr>\n",
       "      <th>693</th>\n",
       "      <td>25</td>\n",
       "      <td>1</td>\n",
       "      <td>694</td>\n",
       "      <td>0.182331</td>\n",
       "      <td>0.030075</td>\n",
       "      <td>12</td>\n",
       "      <td>3500</td>\n",
       "      <td>1</td>\n",
       "      <td>0</td>\n",
       "      <td>5530</td>\n",
       "      <td>...</td>\n",
       "      <td>0</td>\n",
       "      <td>1510</td>\n",
       "      <td>1</td>\n",
       "      <td>1510</td>\n",
       "      <td>0</td>\n",
       "      <td>7</td>\n",
       "      <td>1</td>\n",
       "      <td>0</td>\n",
       "      <td>NaN</td>\n",
       "      <td>625</td>\n",
       "    </tr>\n",
       "    <tr>\n",
       "      <th>697</th>\n",
       "      <td>47</td>\n",
       "      <td>0</td>\n",
       "      <td>698</td>\n",
       "      <td>0.182331</td>\n",
       "      <td>0.030075</td>\n",
       "      <td>10</td>\n",
       "      <td>9500</td>\n",
       "      <td>1</td>\n",
       "      <td>0</td>\n",
       "      <td>5882</td>\n",
       "      <td>...</td>\n",
       "      <td>0</td>\n",
       "      <td>1183</td>\n",
       "      <td>1</td>\n",
       "      <td>1183</td>\n",
       "      <td>0</td>\n",
       "      <td>31</td>\n",
       "      <td>0</td>\n",
       "      <td>28</td>\n",
       "      <td>NaN</td>\n",
       "      <td>2209</td>\n",
       "    </tr>\n",
       "    <tr>\n",
       "      <th>700</th>\n",
       "      <td>32</td>\n",
       "      <td>0</td>\n",
       "      <td>701</td>\n",
       "      <td>0.182331</td>\n",
       "      <td>0.030075</td>\n",
       "      <td>16</td>\n",
       "      <td>10500</td>\n",
       "      <td>1</td>\n",
       "      <td>0</td>\n",
       "      <td>4707</td>\n",
       "      <td>...</td>\n",
       "      <td>0</td>\n",
       "      <td>2388</td>\n",
       "      <td>0</td>\n",
       "      <td>2388</td>\n",
       "      <td>0</td>\n",
       "      <td>10</td>\n",
       "      <td>0</td>\n",
       "      <td>0</td>\n",
       "      <td>NaN</td>\n",
       "      <td>1024</td>\n",
       "    </tr>\n",
       "    <tr>\n",
       "      <th>701</th>\n",
       "      <td>45</td>\n",
       "      <td>0</td>\n",
       "      <td>702</td>\n",
       "      <td>0.182331</td>\n",
       "      <td>0.030075</td>\n",
       "      <td>12</td>\n",
       "      <td>5500</td>\n",
       "      <td>1</td>\n",
       "      <td>0</td>\n",
       "      <td>5069</td>\n",
       "      <td>...</td>\n",
       "      <td>1</td>\n",
       "      <td>2026</td>\n",
       "      <td>0</td>\n",
       "      <td>2026</td>\n",
       "      <td>0</td>\n",
       "      <td>27</td>\n",
       "      <td>0</td>\n",
       "      <td>18</td>\n",
       "      <td>NaN</td>\n",
       "      <td>2025</td>\n",
       "    </tr>\n",
       "  </tbody>\n",
       "</table>\n",
       "<p>282 rows × 34 columns</p>\n",
       "</div>"
      ],
      "text/plain": [
       "     age  black  case  clerical  construc  educ  earns74  gdhlth  inlf  leis1  \\\n",
       "2     44      0     3  0.000000  0.000000    17    42500       1     1   4595   \n",
       "7     47      0     8  0.000000  0.000000    13        0       1     1   3544   \n",
       "9     30      0    10  0.000000  0.000000    15    11750       1     1   4211   \n",
       "11    23      0    12  0.000000  0.000000    16     1000       1     1   6415   \n",
       "12    24      0    13  0.000000  0.000000    16     1000       1     1   3844   \n",
       "..   ...    ...   ...       ...       ...   ...      ...     ...   ...    ...   \n",
       "689   31      0   690  0.182331  0.030075    12    10500       1     0   4639   \n",
       "693   25      1   694  0.182331  0.030075    12     3500       1     0   5530   \n",
       "697   47      0   698  0.182331  0.030075    10     9500       1     0   5882   \n",
       "700   32      0   701  0.182331  0.030075    16    10500       1     0   4707   \n",
       "701   45      0   702  0.182331  0.030075    12     5500       1     0   5069   \n",
       "\n",
       "     ...  spwrk75  totwrk  union  worknrm  workscnd  exper  yngkid  yrsmarr  \\\n",
       "2    ...        1    2815      0     2815         0     21       0        0   \n",
       "7    ...        0    3608      0     3608         0     28       0       24   \n",
       "9    ...        1    2851      0     2851         0      9       0        7   \n",
       "11   ...        1     370      0      370         0      1       0        4   \n",
       "12   ...        1    2438      0     2438         0      2       0        4   \n",
       "..   ...      ...     ...    ...      ...       ...    ...     ...      ...   \n",
       "689  ...        0    2373      0     2373         0     13       0        0   \n",
       "693  ...        0    1510      1     1510         0      7       1        0   \n",
       "697  ...        0    1183      1     1183         0     31       0       28   \n",
       "700  ...        0    2388      0     2388         0     10       0        0   \n",
       "701  ...        1    2026      0     2026         0     27       0       18   \n",
       "\n",
       "        hrwage  agesq  \n",
       "2    20.529997   1936  \n",
       "7    15.010007   2209  \n",
       "9     2.959999    900  \n",
       "11    1.230000    529  \n",
       "12    1.230000    576  \n",
       "..         ...    ...  \n",
       "689        NaN    961  \n",
       "693        NaN    625  \n",
       "697        NaN   2209  \n",
       "700        NaN   1024  \n",
       "701        NaN   2025  \n",
       "\n",
       "[282 rows x 34 columns]"
      ]
     },
     "execution_count": 234,
     "metadata": {},
     "output_type": "execute_result"
    }
   ],
   "source": [
    "df_smsa = df[df['smsa']==1]\n",
    "df_smsa"
   ]
  },
  {
   "cell_type": "code",
   "execution_count": 235,
   "id": "3df92a64",
   "metadata": {},
   "outputs": [
    {
     "data": {
      "text/plain": [
       "2      2670\n",
       "19     3090\n",
       "149    2985\n",
       "194    3660\n",
       "259    2618\n",
       "Name: sleep, dtype: int64"
      ]
     },
     "execution_count": 235,
     "metadata": {},
     "output_type": "execute_result"
    }
   ],
   "source": [
    "ind = np.array([1, 9, 56, 76, 100])-1\n",
    "df_smsa['sleep'].iloc[ind]"
   ]
  },
  {
   "cell_type": "code",
   "execution_count": 203,
   "id": "7183fe09",
   "metadata": {},
   "outputs": [
    {
     "data": {
      "text/plain": [
       "2      3132.491\n",
       "19     3370.083\n",
       "149    2835.360\n",
       "194    3248.540\n",
       "259    2863.070\n",
       "dtype: float64"
      ]
     },
     "execution_count": 203,
     "metadata": {},
     "output_type": "execute_result"
    }
   ],
   "source": [
    "sleep_eq.fittedvalues.iloc[ind].round(3)"
   ]
  },
  {
   "cell_type": "code",
   "execution_count": 204,
   "id": "ba2e0eb9",
   "metadata": {},
   "outputs": [
    {
     "data": {
      "text/plain": [
       "2     -462.491\n",
       "19    -280.083\n",
       "149    149.640\n",
       "194    411.460\n",
       "259   -245.070\n",
       "dtype: float64"
      ]
     },
     "execution_count": 204,
     "metadata": {},
     "output_type": "execute_result"
    }
   ],
   "source": [
    "sleep_eq.resid.iloc[ind].round(3)"
   ]
  },
  {
   "cell_type": "code",
   "execution_count": 205,
   "id": "ecfcd183",
   "metadata": {
    "scrolled": true
   },
   "outputs": [
    {
     "data": {
      "text/plain": [
       "50055043.404255316"
      ]
     },
     "execution_count": 205,
     "metadata": {},
     "output_type": "execute_result"
    }
   ],
   "source": [
    "sleep_eq.centered_tss"
   ]
  },
  {
   "cell_type": "code",
   "execution_count": 206,
   "id": "4bcd5d54",
   "metadata": {},
   "outputs": [
    {
     "data": {
      "text/plain": [
       "7396259.393412963"
      ]
     },
     "execution_count": 206,
     "metadata": {},
     "output_type": "execute_result"
    }
   ],
   "source": [
    "sleep_eq.ess"
   ]
  },
  {
   "cell_type": "code",
   "execution_count": 207,
   "id": "e06392e6",
   "metadata": {},
   "outputs": [
    {
     "data": {
      "text/plain": [
       "42658784.01084235"
      ]
     },
     "execution_count": 207,
     "metadata": {},
     "output_type": "execute_result"
    }
   ],
   "source": [
    "sleep_eq.ssr"
   ]
  },
  {
   "cell_type": "code",
   "execution_count": 208,
   "id": "92ae021b",
   "metadata": {},
   "outputs": [
    {
     "data": {
      "text/plain": [
       "0.14776252082490826"
      ]
     },
     "execution_count": 208,
     "metadata": {},
     "output_type": "execute_result"
    }
   ],
   "source": [
    "sleep_eq.rsquared"
   ]
  },
  {
   "cell_type": "code",
   "execution_count": 209,
   "id": "9e7745ad",
   "metadata": {},
   "outputs": [
    {
     "data": {
      "text/plain": [
       "0.13545584242526798"
      ]
     },
     "execution_count": 209,
     "metadata": {},
     "output_type": "execute_result"
    }
   ],
   "source": [
    "sleep_eq.rsquared_adj"
   ]
  },
  {
   "cell_type": "code",
   "execution_count": 236,
   "id": "13455b98",
   "metadata": {},
   "outputs": [
    {
     "data": {
      "text/plain": [
       "392.43"
      ]
     },
     "execution_count": 236,
     "metadata": {},
     "output_type": "execute_result"
    }
   ],
   "source": [
    "RSS = sleep_eq.ssr\n",
    "n = len(df_smsa)\n",
    "k = 5\n",
    "s = (RSS/(n-k))**0.5\n",
    "round (s, 2)"
   ]
  },
  {
   "cell_type": "markdown",
   "id": "691f6efc",
   "metadata": {},
   "source": [
    "# 3.3 Sleep equation (men only)"
   ]
  },
  {
   "cell_type": "code",
   "execution_count": 240,
   "id": "89699660",
   "metadata": {},
   "outputs": [
    {
     "data": {
      "text/plain": [
       "Intercept    3600.96\n",
       "totwrk         -0.19\n",
       "age             3.30\n",
       "smsa          -77.69\n",
       "south          60.11\n",
       "dtype: float64"
      ]
     },
     "execution_count": 240,
     "metadata": {},
     "output_type": "execute_result"
    }
   ],
   "source": [
    "df = pd.read_csv('https://github.com/artamonoff/Econometrica/raw/master/python-notebooks/data-csv/sleep75.csv')\n",
    "sleep_eq = smf.ols(formula='sleep~totwrk+age+smsa+south', data=df[df['male']==1]).fit()\n",
    "sleep_eq.params.round(2)"
   ]
  },
  {
   "cell_type": "code",
   "execution_count": 241,
   "id": "f52c04d2",
   "metadata": {
    "scrolled": true
   },
   "outputs": [
    {
     "data": {
      "text/plain": [
       "0      3113\n",
       "9      3018\n",
       "48     3363\n",
       "262    3390\n",
       "440    2955\n",
       "Name: sleep, dtype: int64"
      ]
     },
     "execution_count": 241,
     "metadata": {},
     "output_type": "execute_result"
    }
   ],
   "source": [
    "df_smsa = df[df['male']==1]\n",
    "ind = np.array([1, 9, 45, 187, 280])-1\n",
    "df_smsa['sleep'].iloc[ind]"
   ]
  },
  {
   "cell_type": "code",
   "execution_count": 242,
   "id": "4b8dfc62",
   "metadata": {},
   "outputs": [
    {
     "data": {
      "text/plain": [
       "0      3061.481\n",
       "9      3087.341\n",
       "48     3268.521\n",
       "262    3228.976\n",
       "440    3399.060\n",
       "dtype: float64"
      ]
     },
     "execution_count": 242,
     "metadata": {},
     "output_type": "execute_result"
    }
   ],
   "source": [
    "sleep_eq.fittedvalues.iloc[ind].round(3)"
   ]
  },
  {
   "cell_type": "code",
   "execution_count": 243,
   "id": "e55c4c32",
   "metadata": {},
   "outputs": [
    {
     "data": {
      "text/plain": [
       "0       51.519\n",
       "9      -69.341\n",
       "48      94.479\n",
       "262    161.024\n",
       "440   -444.060\n",
       "dtype: float64"
      ]
     },
     "execution_count": 243,
     "metadata": {},
     "output_type": "execute_result"
    }
   ],
   "source": [
    "sleep_eq.resid.iloc[ind].round(3)"
   ]
  },
  {
   "cell_type": "code",
   "execution_count": 244,
   "id": "21ef2d69",
   "metadata": {},
   "outputs": [
    {
     "data": {
      "text/plain": [
       "75570140.57750002"
      ]
     },
     "execution_count": 244,
     "metadata": {},
     "output_type": "execute_result"
    }
   ],
   "source": [
    "sleep_eq.centered_tss"
   ]
  },
  {
   "cell_type": "code",
   "execution_count": 245,
   "id": "d5013a4f",
   "metadata": {},
   "outputs": [
    {
     "data": {
      "text/plain": [
       "12125135.597865172"
      ]
     },
     "execution_count": 245,
     "metadata": {},
     "output_type": "execute_result"
    }
   ],
   "source": [
    "sleep_eq.ess"
   ]
  },
  {
   "cell_type": "code",
   "execution_count": 246,
   "id": "6412ad6c",
   "metadata": {},
   "outputs": [
    {
     "data": {
      "text/plain": [
       "63445004.979634844"
      ]
     },
     "execution_count": 246,
     "metadata": {},
     "output_type": "execute_result"
    }
   ],
   "source": [
    "sleep_eq.ssr"
   ]
  },
  {
   "cell_type": "code",
   "execution_count": 247,
   "id": "3b1e8d3b",
   "metadata": {},
   "outputs": [
    {
     "data": {
      "text/plain": [
       "0.16044876329732893"
      ]
     },
     "execution_count": 247,
     "metadata": {},
     "output_type": "execute_result"
    }
   ],
   "source": [
    "sleep_eq.rsquared"
   ]
  },
  {
   "cell_type": "code",
   "execution_count": 248,
   "id": "b08b57f9",
   "metadata": {
    "scrolled": true
   },
   "outputs": [
    {
     "data": {
      "text/plain": [
       "0.1519469786218588"
      ]
     },
     "execution_count": 248,
     "metadata": {},
     "output_type": "execute_result"
    }
   ],
   "source": [
    "sleep_eq.rsquared_adj"
   ]
  },
  {
   "cell_type": "code",
   "execution_count": 249,
   "id": "3a13d9bc",
   "metadata": {},
   "outputs": [
    {
     "data": {
      "text/plain": [
       "400.77"
      ]
     },
     "execution_count": 249,
     "metadata": {},
     "output_type": "execute_result"
    }
   ],
   "source": [
    "RSS = sleep_eq.ssr\n",
    "n = len(df_smsa)\n",
    "k = 5\n",
    "s = (RSS/(n-k))**0.5\n",
    "round (s, 2)"
   ]
  },
  {
   "cell_type": "markdown",
   "id": "cc3abaef",
   "metadata": {},
   "source": [
    "# 3.4 Sleep equation (women only)"
   ]
  },
  {
   "cell_type": "code",
   "execution_count": 250,
   "id": "d7e212f7",
   "metadata": {},
   "outputs": [
    {
     "data": {
      "text/plain": [
       "Intercept    3468.20\n",
       "totwrk         -0.15\n",
       "age             1.65\n",
       "smsa          -37.69\n",
       "south         136.03\n",
       "dtype: float64"
      ]
     },
     "execution_count": 250,
     "metadata": {},
     "output_type": "execute_result"
    }
   ],
   "source": [
    "sleep_eq = smf.ols(formula='sleep~totwrk+age+smsa+south', data=df[df['male']==0]).fit()\n",
    "sleep_eq.params.round(2)"
   ]
  },
  {
   "cell_type": "code",
   "execution_count": 251,
   "id": "6e7d546f",
   "metadata": {},
   "outputs": [
    {
     "data": {
      "text/plain": [
       "3      3083\n",
       "67     2858\n",
       "198    3730\n",
       "472    3376\n",
       "628    3405\n",
       "Name: sleep, dtype: int64"
      ]
     },
     "execution_count": 251,
     "metadata": {},
     "output_type": "execute_result"
    }
   ],
   "source": [
    "df_smsa = df[df['male']==0]\n",
    "ind = np.array([1, 9, 45, 187, 280])-1\n",
    "df_smsa['sleep'].iloc[ind]"
   ]
  },
  {
   "cell_type": "code",
   "execution_count": 253,
   "id": "1fb19d13",
   "metadata": {},
   "outputs": [
    {
     "data": {
      "text/plain": [
       "3      2945.903\n",
       "67     2920.662\n",
       "198    3328.629\n",
       "472    3503.722\n",
       "628    3215.073\n",
       "dtype: float64"
      ]
     },
     "execution_count": 253,
     "metadata": {},
     "output_type": "execute_result"
    }
   ],
   "source": [
    "sleep_eq.fittedvalues.iloc[ind].round(3)"
   ]
  },
  {
   "cell_type": "code",
   "execution_count": 254,
   "id": "ed31ce2b",
   "metadata": {},
   "outputs": [
    {
     "data": {
      "text/plain": [
       "3      137.097\n",
       "67     -62.662\n",
       "198    401.371\n",
       "472   -127.722\n",
       "628    189.927\n",
       "dtype: float64"
      ]
     },
     "execution_count": 254,
     "metadata": {},
     "output_type": "execute_result"
    }
   ],
   "source": [
    "sleep_eq.resid.iloc[ind].round(3)"
   ]
  },
  {
   "cell_type": "code",
   "execution_count": 252,
   "id": "072952ea",
   "metadata": {},
   "outputs": [
    {
     "data": {
      "text/plain": [
       "63490152.11764705"
      ]
     },
     "execution_count": 252,
     "metadata": {},
     "output_type": "execute_result"
    }
   ],
   "source": [
    "sleep_eq.centered_tss"
   ]
  },
  {
   "cell_type": "code",
   "execution_count": 255,
   "id": "fb04d823",
   "metadata": {},
   "outputs": [
    {
     "data": {
      "text/plain": [
       "6300990.568985924"
      ]
     },
     "execution_count": 255,
     "metadata": {},
     "output_type": "execute_result"
    }
   ],
   "source": [
    "sleep_eq.ess"
   ]
  },
  {
   "cell_type": "code",
   "execution_count": 256,
   "id": "eb27d069",
   "metadata": {},
   "outputs": [
    {
     "data": {
      "text/plain": [
       "57189161.54866113"
      ]
     },
     "execution_count": 256,
     "metadata": {},
     "output_type": "execute_result"
    }
   ],
   "source": [
    "sleep_eq.ssr"
   ]
  },
  {
   "cell_type": "code",
   "execution_count": 257,
   "id": "f531dcd0",
   "metadata": {},
   "outputs": [
    {
     "data": {
      "text/plain": [
       "0.09924358910512943"
      ]
     },
     "execution_count": 257,
     "metadata": {},
     "output_type": "execute_result"
    }
   ],
   "source": [
    "sleep_eq.rsquared"
   ]
  },
  {
   "cell_type": "code",
   "execution_count": 258,
   "id": "74bd810f",
   "metadata": {},
   "outputs": [
    {
     "data": {
      "text/plain": [
       "0.087273404242739"
      ]
     },
     "execution_count": 258,
     "metadata": {},
     "output_type": "execute_result"
    }
   ],
   "source": [
    "sleep_eq.rsquared_adj"
   ]
  },
  {
   "cell_type": "code",
   "execution_count": 260,
   "id": "e78c63df",
   "metadata": {},
   "outputs": [
    {
     "data": {
      "text/plain": [
       "435.8867"
      ]
     },
     "execution_count": 260,
     "metadata": {},
     "output_type": "execute_result"
    }
   ],
   "source": [
    "RSS = sleep_eq.ssr\n",
    "n = len(df_smsa)\n",
    "k = 5\n",
    "s = (RSS/(n-k))**0.5\n",
    "round (s, 4)"
   ]
  },
  {
   "cell_type": "markdown",
   "id": "ffb63906",
   "metadata": {},
   "source": [
    "# 3.5 Labour equation (in levels)"
   ]
  },
  {
   "cell_type": "code",
   "execution_count": 289,
   "id": "cfe2a01d",
   "metadata": {},
   "outputs": [
    {
     "data": {
      "text/plain": [
       "Intercept   -16.75\n",
       "capital       0.40\n",
       "labour        0.05\n",
       "wage          0.44\n",
       "dtype: float64"
      ]
     },
     "execution_count": 289,
     "metadata": {},
     "output_type": "execute_result"
    }
   ],
   "source": [
    "df = pd.read_csv('https://github.com/artamonoff/Econometrica/raw/master/python-notebooks/data-csv/Labour.csv')\n",
    "sleep_eq = smf.ols(formula='output~capital+labour+wage', data=df).fit()\n",
    "sleep_eq.params.round(2)"
   ]
  },
  {
   "cell_type": "code",
   "execution_count": 290,
   "id": "882bc967",
   "metadata": {
    "scrolled": true
   },
   "outputs": [
    {
     "data": {
      "text/plain": [
       "1      3.664310\n",
       "10     3.245624\n",
       "23     2.666305\n",
       "100    2.180688\n",
       "348    4.307089\n",
       "500    3.659600\n",
       "Name: output, dtype: float64"
      ]
     },
     "execution_count": 290,
     "metadata": {},
     "output_type": "execute_result"
    }
   ],
   "source": [
    "ind = np.array([2, 11, 24, 101, 349, 501])-1\n",
    "df['output'].iloc[ind]"
   ]
  },
  {
   "cell_type": "code",
   "execution_count": 291,
   "id": "e9f8933c",
   "metadata": {},
   "outputs": [
    {
     "data": {
      "text/plain": [
       "1       0.457\n",
       "10      5.666\n",
       "23     -0.625\n",
       "100     6.952\n",
       "348     2.278\n",
       "500    11.353\n",
       "dtype: float64"
      ]
     },
     "execution_count": 291,
     "metadata": {},
     "output_type": "execute_result"
    }
   ],
   "source": [
    "sleep_eq.fittedvalues.iloc[ind].round(3)"
   ]
  },
  {
   "cell_type": "code",
   "execution_count": 292,
   "id": "18b34c54",
   "metadata": {},
   "outputs": [
    {
     "data": {
      "text/plain": [
       "1      3.207\n",
       "10    -2.420\n",
       "23     3.292\n",
       "100   -4.771\n",
       "348    2.029\n",
       "500   -7.694\n",
       "dtype: float64"
      ]
     },
     "execution_count": 292,
     "metadata": {},
     "output_type": "execute_result"
    }
   ],
   "source": [
    "sleep_eq.resid.iloc[ind].round(3)"
   ]
  },
  {
   "cell_type": "code",
   "execution_count": 267,
   "id": "95bb64f8",
   "metadata": {},
   "outputs": [
    {
     "data": {
      "text/plain": [
       "2235073.2947312016"
      ]
     },
     "execution_count": 267,
     "metadata": {},
     "output_type": "execute_result"
    }
   ],
   "source": [
    "sleep_eq.centered_tss"
   ]
  },
  {
   "cell_type": "code",
   "execution_count": 268,
   "id": "9b80d8eb",
   "metadata": {},
   "outputs": [
    {
     "data": {
      "text/plain": [
       "2190376.0767236855"
      ]
     },
     "execution_count": 268,
     "metadata": {},
     "output_type": "execute_result"
    }
   ],
   "source": [
    "sleep_eq.ess"
   ]
  },
  {
   "cell_type": "code",
   "execution_count": 269,
   "id": "fc501b3a",
   "metadata": {},
   "outputs": [
    {
     "data": {
      "text/plain": [
       "44697.21800751613"
      ]
     },
     "execution_count": 269,
     "metadata": {},
     "output_type": "execute_result"
    }
   ],
   "source": [
    "sleep_eq.ssr"
   ]
  },
  {
   "cell_type": "code",
   "execution_count": 270,
   "id": "81c4c334",
   "metadata": {},
   "outputs": [
    {
     "data": {
      "text/plain": [
       "0.9800019005583029"
      ]
     },
     "execution_count": 270,
     "metadata": {},
     "output_type": "execute_result"
    }
   ],
   "source": [
    "sleep_eq.rsquared"
   ]
  },
  {
   "cell_type": "code",
   "execution_count": 271,
   "id": "cf226226",
   "metadata": {},
   "outputs": [
    {
     "data": {
      "text/plain": [
       "0.9798957159594974"
      ]
     },
     "execution_count": 271,
     "metadata": {},
     "output_type": "execute_result"
    }
   ],
   "source": [
    "sleep_eq.rsquared_adj"
   ]
  },
  {
   "cell_type": "code",
   "execution_count": 275,
   "id": "c9129c19",
   "metadata": {},
   "outputs": [
    {
     "data": {
      "text/plain": [
       "8.894387014701193"
      ]
     },
     "execution_count": 275,
     "metadata": {},
     "output_type": "execute_result"
    }
   ],
   "source": [
    "RSS = sleep_eq.ssr\n",
    "n = len(df)\n",
    "k = 4\n",
    "s = (RSS/(n-k))**0.5\n",
    "s"
   ]
  },
  {
   "cell_type": "markdown",
   "id": "ba953aa2",
   "metadata": {},
   "source": [
    "# 3.6 Labour equation (in log)"
   ]
  },
  {
   "cell_type": "code",
   "execution_count": 295,
   "id": "37e6d40d",
   "metadata": {},
   "outputs": [
    {
     "data": {
      "text/plain": [
       "Intercept         -5.01\n",
       "np.log(capital)    0.15\n",
       "np.log(labour)     0.72\n",
       "np.log(wage)       0.92\n",
       "dtype: float64"
      ]
     },
     "execution_count": 295,
     "metadata": {},
     "output_type": "execute_result"
    }
   ],
   "source": [
    "sleep_eq = smf.ols(formula='np.log(output)~np.log(capital)+np.log(labour)+np.log(wage)', data=df).fit()\n",
    "sleep_eq.params.round(2)"
   ]
  },
  {
   "cell_type": "code",
   "execution_count": 296,
   "id": "55c58a98",
   "metadata": {},
   "outputs": [
    {
     "data": {
      "text/plain": [
       "1      1.298640\n",
       "10     1.177308\n",
       "23     0.980694\n",
       "100    0.779641\n",
       "348    1.460262\n",
       "500    1.297354\n",
       "Name: output, dtype: float64"
      ]
     },
     "execution_count": 296,
     "metadata": {},
     "output_type": "execute_result"
    }
   ],
   "source": [
    "ind = np.array([2, 11, 24, 101, 349, 501])-1\n",
    "np.log(df['output']).iloc[ind]"
   ]
  },
  {
   "cell_type": "code",
   "execution_count": 297,
   "id": "c69d789b",
   "metadata": {},
   "outputs": [
    {
     "data": {
      "text/plain": [
       "1      1.347\n",
       "10     1.427\n",
       "23     0.344\n",
       "100    1.006\n",
       "348    1.177\n",
       "500    1.730\n",
       "dtype: float64"
      ]
     },
     "execution_count": 297,
     "metadata": {},
     "output_type": "execute_result"
    }
   ],
   "source": [
    "sleep_eq.fittedvalues.iloc[ind].round(3)"
   ]
  },
  {
   "cell_type": "code",
   "execution_count": 298,
   "id": "efe001f0",
   "metadata": {
    "scrolled": true
   },
   "outputs": [
    {
     "data": {
      "text/plain": [
       "1     -0.049\n",
       "10    -0.250\n",
       "23     0.637\n",
       "100   -0.226\n",
       "348    0.283\n",
       "500   -0.433\n",
       "dtype: float64"
      ]
     },
     "execution_count": 298,
     "metadata": {},
     "output_type": "execute_result"
    }
   ],
   "source": [
    "sleep_eq.resid.iloc[ind].round(3)"
   ]
  },
  {
   "cell_type": "code",
   "execution_count": 299,
   "id": "988303b1",
   "metadata": {},
   "outputs": [
    {
     "data": {
      "text/plain": [
       "797.6674045328446"
      ]
     },
     "execution_count": 299,
     "metadata": {},
     "output_type": "execute_result"
    }
   ],
   "source": [
    "sleep_eq.centered_tss"
   ]
  },
  {
   "cell_type": "code",
   "execution_count": 300,
   "id": "0c926f4e",
   "metadata": {},
   "outputs": [
    {
     "data": {
      "text/plain": [
       "708.6473705860927"
      ]
     },
     "execution_count": 300,
     "metadata": {},
     "output_type": "execute_result"
    }
   ],
   "source": [
    "sleep_eq.ess"
   ]
  },
  {
   "cell_type": "code",
   "execution_count": 301,
   "id": "45bb98b8",
   "metadata": {},
   "outputs": [
    {
     "data": {
      "text/plain": [
       "89.02003394675182"
      ]
     },
     "execution_count": 301,
     "metadata": {},
     "output_type": "execute_result"
    }
   ],
   "source": [
    "sleep_eq.ssr"
   ]
  },
  {
   "cell_type": "code",
   "execution_count": 302,
   "id": "524fbf5f",
   "metadata": {},
   "outputs": [
    {
     "data": {
      "text/plain": [
       "0.8883995592136718"
      ]
     },
     "execution_count": 302,
     "metadata": {},
     "output_type": "execute_result"
    }
   ],
   "source": [
    "sleep_eq.rsquared"
   ]
  },
  {
   "cell_type": "code",
   "execution_count": 303,
   "id": "b1fc6d3a",
   "metadata": {},
   "outputs": [
    {
     "data": {
      "text/plain": [
       "0.887806990501532"
      ]
     },
     "execution_count": 303,
     "metadata": {},
     "output_type": "execute_result"
    }
   ],
   "source": [
    "sleep_eq.rsquared_adj"
   ]
  },
  {
   "cell_type": "code",
   "execution_count": 304,
   "id": "482d2e51",
   "metadata": {},
   "outputs": [
    {
     "data": {
      "text/plain": [
       "0.3969352367913945"
      ]
     },
     "execution_count": 304,
     "metadata": {},
     "output_type": "execute_result"
    }
   ],
   "source": [
    "RSS = sleep_eq.ssr\n",
    "n = len(df)\n",
    "k = 4\n",
    "s = (RSS/(n-k))**0.5\n",
    "s"
   ]
  },
  {
   "cell_type": "markdown",
   "id": "6cf9ed47",
   "metadata": {},
   "source": [
    "# 3.7 Cost equation (in levels)"
   ]
  },
  {
   "cell_type": "code",
   "execution_count": 306,
   "id": "2ab84684",
   "metadata": {},
   "outputs": [
    {
     "data": {
      "text/plain": [
       "Intercept   -81.36\n",
       "q             0.00\n",
       "I(q ** 2)     0.00\n",
       "pk            0.37\n",
       "pf            0.95\n",
       "pl            0.00\n",
       "dtype: float64"
      ]
     },
     "execution_count": 306,
     "metadata": {},
     "output_type": "execute_result"
    }
   ],
   "source": [
    "df = pd.read_csv('https://github.com/artamonoff/Econometrica/raw/master/python-notebooks/data-csv/Electricity.csv')\n",
    "sleep_eq = smf.ols(formula='cost~q+I(q**2)+pk+pf+pl', data=df).fit()\n",
    "sleep_eq.params.round(2)"
   ]
  },
  {
   "cell_type": "code",
   "execution_count": 309,
   "id": "7e8e1fc4",
   "metadata": {},
   "outputs": [
    {
     "data": {
      "text/plain": [
       "1      3.043\n",
       "16     5.597\n",
       "28     7.440\n",
       "47    28.786\n",
       "57    41.902\n",
       "93     9.467\n",
       "Name: cost, dtype: float64"
      ]
     },
     "execution_count": 309,
     "metadata": {},
     "output_type": "execute_result"
    }
   ],
   "source": [
    "ind = np.array([2, 17, 29, 48, 58, 94])-1\n",
    "df['cost'].iloc[ind].round(3)"
   ]
  },
  {
   "cell_type": "code",
   "execution_count": 310,
   "id": "37f227da",
   "metadata": {},
   "outputs": [
    {
     "data": {
      "text/plain": [
       "1     -2.512\n",
       "16     2.747\n",
       "28    -2.269\n",
       "47    34.228\n",
       "57    43.941\n",
       "93    -4.009\n",
       "dtype: float64"
      ]
     },
     "execution_count": 310,
     "metadata": {},
     "output_type": "execute_result"
    }
   ],
   "source": [
    "sleep_eq.fittedvalues.iloc[ind].round(3)"
   ]
  },
  {
   "cell_type": "code",
   "execution_count": 311,
   "id": "409ce928",
   "metadata": {},
   "outputs": [
    {
     "data": {
      "text/plain": [
       "1      5.555\n",
       "16     2.850\n",
       "28     9.709\n",
       "47    -5.442\n",
       "57    -2.040\n",
       "93    13.477\n",
       "dtype: float64"
      ]
     },
     "execution_count": 311,
     "metadata": {},
     "output_type": "execute_result"
    }
   ],
   "source": [
    "sleep_eq.resid.iloc[ind].round(3)"
   ]
  },
  {
   "cell_type": "code",
   "execution_count": 312,
   "id": "63e773a4",
   "metadata": {},
   "outputs": [
    {
     "data": {
      "text/plain": [
       "1189954.2094165923"
      ]
     },
     "execution_count": 312,
     "metadata": {},
     "output_type": "execute_result"
    }
   ],
   "source": [
    "sleep_eq.centered_tss"
   ]
  },
  {
   "cell_type": "code",
   "execution_count": 313,
   "id": "a1d2e25c",
   "metadata": {},
   "outputs": [
    {
     "data": {
      "text/plain": [
       "1143993.9558765874"
      ]
     },
     "execution_count": 313,
     "metadata": {},
     "output_type": "execute_result"
    }
   ],
   "source": [
    "sleep_eq.ess"
   ]
  },
  {
   "cell_type": "code",
   "execution_count": 314,
   "id": "3efd3b74",
   "metadata": {},
   "outputs": [
    {
     "data": {
      "text/plain": [
       "45960.25354000477"
      ]
     },
     "execution_count": 314,
     "metadata": {},
     "output_type": "execute_result"
    }
   ],
   "source": [
    "sleep_eq.ssr"
   ]
  },
  {
   "cell_type": "code",
   "execution_count": 315,
   "id": "8af546e8",
   "metadata": {},
   "outputs": [
    {
     "data": {
      "text/plain": [
       "0.9613764519875617"
      ]
     },
     "execution_count": 315,
     "metadata": {},
     "output_type": "execute_result"
    }
   ],
   "source": [
    "sleep_eq.rsquared"
   ]
  },
  {
   "cell_type": "code",
   "execution_count": 316,
   "id": "10890955",
   "metadata": {},
   "outputs": [
    {
     "data": {
      "text/plain": [
       "0.9601059405397842"
      ]
     },
     "execution_count": 316,
     "metadata": {},
     "output_type": "execute_result"
    }
   ],
   "source": [
    "sleep_eq.rsquared_adj"
   ]
  },
  {
   "cell_type": "code",
   "execution_count": 317,
   "id": "13abfd69",
   "metadata": {},
   "outputs": [
    {
     "data": {
      "text/plain": [
       "17.388792053474525"
      ]
     },
     "execution_count": 317,
     "metadata": {},
     "output_type": "execute_result"
    }
   ],
   "source": [
    "RSS = sleep_eq.ssr\n",
    "n = len(df)\n",
    "k = 6\n",
    "s = (RSS/(n-k))**0.5\n",
    "s"
   ]
  },
  {
   "cell_type": "markdown",
   "id": "2391f275",
   "metadata": {},
   "source": [
    "# 3.8 Cost equation (in logs)"
   ]
  },
  {
   "cell_type": "code",
   "execution_count": 318,
   "id": "830909e6",
   "metadata": {},
   "outputs": [
    {
     "data": {
      "text/plain": [
       "Intercept           -6.74\n",
       "np.log(q)            0.40\n",
       "I(np.log(q) ** 2)    0.03\n",
       "np.log(pk)           0.16\n",
       "np.log(pf)           0.68\n",
       "np.log(pl)           0.15\n",
       "dtype: float64"
      ]
     },
     "execution_count": 318,
     "metadata": {},
     "output_type": "execute_result"
    }
   ],
   "source": [
    "sleep_eq = smf.ols(formula='np.log(cost)~np.log(q)+I(np.log(q)**2)+np.log(pk)+np.log(pf)+np.log(pl)', data=df).fit()\n",
    "sleep_eq.params.round(2)"
   ]
  },
  {
   "cell_type": "code",
   "execution_count": 321,
   "id": "b491745c",
   "metadata": {},
   "outputs": [
    {
     "data": {
      "text/plain": [
       "1     1.113\n",
       "16    1.722\n",
       "28    2.007\n",
       "47    3.360\n",
       "57    3.735\n",
       "93    2.248\n",
       "Name: cost, dtype: float64"
      ]
     },
     "execution_count": 321,
     "metadata": {},
     "output_type": "execute_result"
    }
   ],
   "source": [
    "ind = np.array([2, 17, 29, 48, 58, 94])-1\n",
    "np.log(df['cost']).iloc[ind].round(3)"
   ]
  },
  {
   "cell_type": "code",
   "execution_count": 322,
   "id": "a138bec2",
   "metadata": {},
   "outputs": [
    {
     "data": {
      "text/plain": [
       "1     1.452\n",
       "16    1.650\n",
       "28    1.784\n",
       "47    3.556\n",
       "57    3.846\n",
       "93    2.247\n",
       "dtype: float64"
      ]
     },
     "execution_count": 322,
     "metadata": {},
     "output_type": "execute_result"
    }
   ],
   "source": [
    "sleep_eq.fittedvalues.iloc[ind].round(3)"
   ]
  },
  {
   "cell_type": "code",
   "execution_count": 323,
   "id": "4d3d814a",
   "metadata": {},
   "outputs": [
    {
     "data": {
      "text/plain": [
       "1    -0.339\n",
       "16    0.072\n",
       "28    0.223\n",
       "47   -0.196\n",
       "57   -0.111\n",
       "93    0.001\n",
       "dtype: float64"
      ]
     },
     "execution_count": 323,
     "metadata": {},
     "output_type": "execute_result"
    }
   ],
   "source": [
    "sleep_eq.resid.iloc[ind].round(3)"
   ]
  },
  {
   "cell_type": "code",
   "execution_count": 324,
   "id": "ebfc8655",
   "metadata": {},
   "outputs": [
    {
     "data": {
      "text/plain": [
       "373.66456079161424"
      ]
     },
     "execution_count": 324,
     "metadata": {},
     "output_type": "execute_result"
    }
   ],
   "source": [
    "sleep_eq.centered_tss"
   ]
  },
  {
   "cell_type": "code",
   "execution_count": 325,
   "id": "0da5d6e2",
   "metadata": {},
   "outputs": [
    {
     "data": {
      "text/plain": [
       "370.7599424877896"
      ]
     },
     "execution_count": 325,
     "metadata": {},
     "output_type": "execute_result"
    }
   ],
   "source": [
    "sleep_eq.ess"
   ]
  },
  {
   "cell_type": "code",
   "execution_count": 326,
   "id": "e840c382",
   "metadata": {},
   "outputs": [
    {
     "data": {
      "text/plain": [
       "2.904618303824642"
      ]
     },
     "execution_count": 326,
     "metadata": {},
     "output_type": "execute_result"
    }
   ],
   "source": [
    "sleep_eq.ssr"
   ]
  },
  {
   "cell_type": "code",
   "execution_count": 327,
   "id": "4e18992e",
   "metadata": {},
   "outputs": [
    {
     "data": {
      "text/plain": [
       "0.9922266690272389"
      ]
     },
     "execution_count": 327,
     "metadata": {},
     "output_type": "execute_result"
    }
   ],
   "source": [
    "sleep_eq.rsquared"
   ]
  },
  {
   "cell_type": "code",
   "execution_count": 328,
   "id": "86d94ed6",
   "metadata": {},
   "outputs": [
    {
     "data": {
      "text/plain": [
       "0.9919709673505033"
      ]
     },
     "execution_count": 328,
     "metadata": {},
     "output_type": "execute_result"
    }
   ],
   "source": [
    "sleep_eq.rsquared_adj"
   ]
  },
  {
   "cell_type": "code",
   "execution_count": 329,
   "id": "61a793fa",
   "metadata": {},
   "outputs": [
    {
     "data": {
      "text/plain": [
       "0.13823650366750004"
      ]
     },
     "execution_count": 329,
     "metadata": {},
     "output_type": "execute_result"
    }
   ],
   "source": [
    "RSS = sleep_eq.ssr\n",
    "n = len(df)\n",
    "k = 6\n",
    "s = (RSS/(n-k))**0.5\n",
    "s"
   ]
  },
  {
   "cell_type": "code",
   "execution_count": null,
   "id": "91a1fc0c",
   "metadata": {},
   "outputs": [],
   "source": []
  }
 ],
 "metadata": {
  "kernelspec": {
   "display_name": "Python 3 (ipykernel)",
   "language": "python",
   "name": "python3"
  },
  "language_info": {
   "codemirror_mode": {
    "name": "ipython",
    "version": 3
   },
   "file_extension": ".py",
   "mimetype": "text/x-python",
   "name": "python",
   "nbconvert_exporter": "python",
   "pygments_lexer": "ipython3",
   "version": "3.9.13"
  }
 },
 "nbformat": 4,
 "nbformat_minor": 5
}
